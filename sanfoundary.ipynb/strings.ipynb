{
 "cells": [
  {
   "cell_type": "code",
   "execution_count": 1,
   "metadata": {},
   "outputs": [
    {
     "name": "stdout",
     "output_type": "stream",
     "text": [
      "Modified string is:\n",
      "svn\n"
     ]
    }
   ],
   "source": [
    "#Python Program to Remove Odd Indexed Characters in a string\n",
    "\n",
    "def modify(string):  \n",
    "  final = \"\"   \n",
    "  for i in range(len(string)):  \n",
    "    if i % 2 == 0:  \n",
    "      final = final + string[i]  \n",
    "  return final\n",
    "string=input(\"Enter string:\")\n",
    "print(\"Modified string is:\")\n",
    "print(modify(string))"
   ]
  },
  {
   "cell_type": "code",
   "execution_count": 2,
   "metadata": {},
   "outputs": [
    {
     "name": "stdout",
     "output_type": "stream",
     "text": [
      "Modified string:\n",
      "kerthana\n"
     ]
    }
   ],
   "source": [
    "#Python Program to Remove the nth Index Character from a Non-Empty String\n",
    "\n",
    "def remove(string, n):  \n",
    "      first = string[:n]   \n",
    "      last = string[n+1:]  \n",
    "      return first + last\n",
    "string=input(\"Enter the sring:\")\n",
    "n=int(input(\"Enter the index of the character to remove:\"))\n",
    "print(\"Modified string:\")\n",
    "print(remove(string, n))"
   ]
  },
  {
   "cell_type": "code",
   "execution_count": 5,
   "metadata": {},
   "outputs": [
    {
     "name": "stdout",
     "output_type": "stream",
     "text": [
      "Modified string:\n",
      "$iv$ni\n"
     ]
    }
   ],
   "source": [
    "#Python Program to Replace All Occurrences of ‘a’ with $ in a String\n",
    "\n",
    "string=input(\"Enter string:\")\n",
    "string=string.replace('a','$')\n",
    "string=string.replace('S','$')\n",
    "print(\"Modified string:\")\n",
    "print(string)"
   ]
  },
  {
   "cell_type": "code",
   "execution_count": 6,
   "metadata": {},
   "outputs": [
    {
     "name": "stdout",
     "output_type": "stream",
     "text": [
      "Modified string:\n",
      "python-is-a-programming-language\n"
     ]
    }
   ],
   "source": [
    "#Python Program to Replace Every Blank Space with Hyphen in a String\n",
    "\n",
    "string=input(\"Enter string:\")\n",
    "string=string.replace(' ','-')\n",
    "print(\"Modified string:\")\n",
    "print(string)"
   ]
  },
  {
   "cell_type": "code",
   "execution_count": 7,
   "metadata": {},
   "outputs": [
    {
     "name": "stdout",
     "output_type": "stream",
     "text": [
      "Reverse of the string is: \n",
      "sredipsyp\n"
     ]
    }
   ],
   "source": [
    "#How to Reverse a String in Python\n",
    "\n",
    "a=str(input(\"Enter a string: \"))\n",
    "print(\"Reverse of the string is: \")\n",
    "print(a[::-1])"
   ]
  },
  {
   "cell_type": "code",
   "execution_count": 8,
   "metadata": {},
   "outputs": [
    {
     "name": "stdout",
     "output_type": "stream",
     "text": [
      "Reverse of the string is: \n",
      "inayirib\n"
     ]
    }
   ],
   "source": [
    "#Python Program to Reverse a String Without using Recursion\n",
    "\n",
    "a=str(input(\"Enter a string: \"))\n",
    "print(\"Reverse of the string is: \")\n",
    "print(a[::-1])"
   ]
  },
  {
   "cell_type": "code",
   "execution_count": 11,
   "metadata": {},
   "outputs": [
    {
     "name": "stdout",
     "output_type": "stream",
     "text": [
      "Count is:\n",
      "4\n"
     ]
    }
   ],
   "source": [
    "#Python Program to Determine How Many Times a Given Letter Occurs in a String Recursively\n",
    "\n",
    "def check(string,ch):\n",
    "      if not string:\n",
    "        return 0\n",
    "      elif string[0]==ch:\n",
    "            return 1+check(string[1:],ch)\n",
    "      else:\n",
    "            return check(string[1:],ch)\n",
    "string=input(\"Enter string:\")\n",
    "ch=input(\"Enter character to check:\")\n",
    "print(\"Count is:\")\n",
    "print(check(string,ch))"
   ]
  },
  {
   "cell_type": "code",
   "execution_count": 12,
   "metadata": {},
   "outputs": [
    {
     "name": "stdout",
     "output_type": "stream",
     "text": [
      "Length of the string is:\n",
      "19\n"
     ]
    }
   ],
   "source": [
    "#Python Program to Calculate the Length of a String Without using Library Functions\n",
    "\n",
    "string=input(\"Enter string:\")\n",
    "count=0\n",
    "for i in string:\n",
    "      count=count+1\n",
    "print(\"Length of the string is:\")\n",
    "print(count)"
   ]
  },
  {
   "cell_type": "code",
   "execution_count": 1,
   "metadata": {},
   "outputs": [
    {
     "name": "stdout",
     "output_type": "stream",
     "text": [
      "Count is:\n",
      "3\n"
     ]
    }
   ],
   "source": [
    "#Python Program to Determine How Many Times a Given Letter Occurs in a String Recursively\n",
    "\n",
    "def check(string,ch):\n",
    "      if not string:\n",
    "        return 0\n",
    "      elif string[0]==ch:\n",
    "            return 1+check(string[1:],ch)\n",
    "      else:\n",
    "            return check(string[1:],ch)\n",
    "string=input(\"Enter string:\")\n",
    "ch=input(\"Enter character to check:\")\n",
    "print(\"Count is:\")\n",
    "print(check(string,ch))"
   ]
  },
  {
   "cell_type": "code",
   "execution_count": 2,
   "metadata": {},
   "outputs": [
    {
     "name": "stdout",
     "output_type": "stream",
     "text": [
      "Length of the string is:\n",
      "25\n"
     ]
    }
   ],
   "source": [
    "#Python Program to Calculate the Length of a String Without using Library Functions\n",
    "\n",
    "string=input(\"Enter string:\")\n",
    "count=0\n",
    "for i in string:\n",
    "      count=count+1\n",
    "print(\"Length of the string is:\")\n",
    "print(count)"
   ]
  },
  {
   "cell_type": "code",
   "execution_count": 3,
   "metadata": {},
   "outputs": [
    {
     "name": "stdout",
     "output_type": "stream",
     "text": [
      "Number of words in the string:\n",
      "4\n",
      "Number of characters in the string:\n",
      "52\n"
     ]
    }
   ],
   "source": [
    "#Python Program to Count the Number of Words and Characters in a String\n",
    "\n",
    "string=input(\"Enter string:\")\n",
    "char=0\n",
    "word=1\n",
    "for i in string:\n",
    "      char=char+1\n",
    "      if(i==' '):\n",
    "            word=word+1\n",
    "print(\"Number of words in the string:\")\n",
    "print(word)\n",
    "print(\"Number of characters in the string:\")\n",
    "print(char)"
   ]
  },
  {
   "cell_type": "code",
   "execution_count": 4,
   "metadata": {},
   "outputs": [
    {
     "name": "stdout",
     "output_type": "stream",
     "text": [
      "The number of lowercase characters is:\n",
      "17\n"
     ]
    }
   ],
   "source": [
    "#Python Program to Count Number of Lowercase Characters in a String\n",
    "\n",
    "string=input(\"Enter string:\")\n",
    "count=0\n",
    "for i in string:\n",
    "      if(i.islower()):\n",
    "            count=count+1\n",
    "print(\"The number of lowercase characters is:\")\n",
    "print(count)"
   ]
  },
  {
   "cell_type": "code",
   "execution_count": 6,
   "metadata": {},
   "outputs": [
    {
     "name": "stdout",
     "output_type": "stream",
     "text": [
      "9 keerthana\n"
     ]
    }
   ],
   "source": [
    "#Python Program to Find the Larger String.\n",
    "\n",
    "st=\"sivani\"\n",
    "st2='keerthana'\n",
    "c1=len(st)\n",
    "c2=len(st2)\n",
    "if c1<c2:\n",
    "    print(c2,st2)\n",
    "else:\n",
    "    print(c1,st)"
   ]
  },
  {
   "cell_type": "code",
   "execution_count": 11,
   "metadata": {},
   "outputs": [
    {
     "name": "stdout",
     "output_type": "stream",
     "text": [
      "Larger string is:\n",
      "pyspiders\n"
     ]
    }
   ],
   "source": [
    "#Python Program to Find the Larger String without using Built-in Functions\n",
    "\n",
    "string1=input(\"Enter first string:\")\n",
    "string2=input(\"Enter second string:\")\n",
    "count1=0\n",
    "count2=0\n",
    "for i in string1:\n",
    "      count1=count1+1\n",
    "for j in string2:\n",
    "      count2=count2+1\n",
    "if(count1<count2):\n",
    "      print(\"Larger string is:\")\n",
    "      print(string2)\n",
    "elif(count1==count2):\n",
    "      print(\"Both strings are equal.\")\n",
    "else:\n",
    "      print(\"Larger string is:\")\n",
    "      print(string1)"
   ]
  },
  {
   "cell_type": "code",
   "execution_count": 8,
   "metadata": {},
   "outputs": [
    {
     "name": "stdout",
     "output_type": "stream",
     "text": [
      "Number of vowels are:\n",
      "6\n"
     ]
    }
   ],
   "source": [
    "#Python Program to Count the Number of Vowels in a String\n",
    "string=input(\"Enter string:\")\n",
    "vowels=0\n",
    "for i in string:\n",
    "      if(i=='a' or i=='e' or i=='i' or i=='o' or i=='u' or i=='A' or i=='E' or i=='I' or i=='O' or i=='U'):\n",
    "            vowels=vowels+1\n",
    "print(\"Number of vowels are:\")\n",
    "print(vowels)"
   ]
  },
  {
   "cell_type": "code",
   "execution_count": 9,
   "metadata": {},
   "outputs": [
    {
     "name": "stdout",
     "output_type": "stream",
     "text": [
      "The number of lowercase characters is:\n",
      "13\n",
      "The number of uppercase characters is:\n",
      "17\n"
     ]
    }
   ],
   "source": [
    "#Python Program to Count Number of Uppercase and Lowercase Letters in a String\n",
    "string=input(\"Enter string:\")\n",
    "count1=0\n",
    "count2=0\n",
    "for i in string:\n",
    "      if(i.islower()):\n",
    "            count1=count1+1\n",
    "      elif(i.isupper()):\n",
    "            count2=count2+1\n",
    "print(\"The number of lowercase characters is:\")\n",
    "print(count1)\n",
    "print(\"The number of uppercase characters is:\")\n",
    "print(count2)"
   ]
  },
  {
   "cell_type": "code",
   "execution_count": 10,
   "metadata": {},
   "outputs": [
    {
     "name": "stdout",
     "output_type": "stream",
     "text": [
      "The number of digits is:\n",
      "13\n",
      "The number of characters is:\n",
      "29\n"
     ]
    }
   ],
   "source": [
    "#Python Program to Count the Number of Digits and Letters in a String\n",
    "string=input(\"Enter string:\")\n",
    "count1=0\n",
    "count2=0\n",
    "for i in string:\n",
    "      if(i.isdigit()):\n",
    "            count1=count1+1\n",
    "      count2=count2+1\n",
    "print(\"The number of digits is:\")\n",
    "print(count1)\n",
    "print(\"The number of characters is:\")\n",
    "print(count2)"
   ]
  },
  {
   "cell_type": "code",
   "execution_count": 13,
   "metadata": {},
   "outputs": [
    {
     "name": "stdout",
     "output_type": "stream",
     "text": [
      "Substring not found in string!\n"
     ]
    }
   ],
   "source": [
    "#Python Program to Check if the Substring is Present in the Given String\n",
    "string=input(\"Enter string:\")\n",
    "sub_str=input(\"Enter word:\")\n",
    "if(string.find(sub_str)==-1):\n",
    "      print(\"Substring not found in string!\")\n",
    "else:\n",
    "      print(\"Substring in string!\")"
   ]
  },
  {
   "cell_type": "code",
   "execution_count": null,
   "metadata": {},
   "outputs": [],
   "source": [
    "#Python Program to Find Common Characters in Two Strings\n",
    "\n",
    "s1=input(\"Enter first string:\")\n",
    "s2=input(\"Enter second string:\")\n",
    "a=list(set(s1)&set(s2))\n",
    "print(\"The common letters are:\")\n",
    "for i in a:\n",
    "    print(i)"
   ]
  },
  {
   "cell_type": "code",
   "execution_count": null,
   "metadata": {},
   "outputs": [],
   "source": [
    "#Python Program to Print All Letters Present in Both Strings\n",
    "s1=input(\"Enter first string:\")\n",
    "s2=input(\"Enter second string:\")\n",
    "a=list(set(s1)|set(s2))\n",
    "print(\"The letters are:\")\n",
    "for i in a:\n",
    "    print(i)"
   ]
  },
  {
   "cell_type": "code",
   "execution_count": 16,
   "metadata": {},
   "outputs": [
    {
     "name": "stdout",
     "output_type": "stream",
     "text": [
      "The letters are:\n",
      "g\n",
      "u\n"
     ]
    }
   ],
   "source": [
    "#Python Program that Displays which Letters are in First String but not in Second\n",
    "s1=input(\"Enter first string:\")\n",
    "s2=input(\"Enter second string:\")\n",
    "a=list(set(s1)-set(s2))\n",
    "print(\"The letters are:\")\n",
    "for i in a:\n",
    "    print(i)"
   ]
  },
  {
   "cell_type": "code",
   "execution_count": 14,
   "metadata": {},
   "outputs": [
    {
     "name": "stdout",
     "output_type": "stream",
     "text": [
      "The letters are:\n",
      "v\n",
      "n\n",
      "h\n",
      "m\n",
      "k\n",
      "d\n",
      "l\n"
     ]
    }
   ],
   "source": [
    "#Python Program that Displays Letters that are not Common in Two Strings\n",
    "s1=input(\"Enter first string:\")\n",
    "s2=input(\"Enter second string:\")\n",
    "a=list(set(s1)^set(s2))\n",
    "print(\"The letters are:\")\n",
    "for i in a:\n",
    "    print(i)"
   ]
  },
  {
   "cell_type": "code",
   "execution_count": 15,
   "metadata": {},
   "outputs": [
    {
     "name": "stdout",
     "output_type": "stream",
     "text": [
      "Newly formed string is:\n",
      "gfkj\n"
     ]
    }
   ],
   "source": [
    "#Python Program to Create a New String Made up of First and Last 2 Characters\n",
    "string=input(\"Enter string:\")\n",
    "count=0\n",
    "for i in string:\n",
    "      count=count+1\n",
    "new=string[0:2]+string[count-2:count]\n",
    "print(\"Newly formed string is:\")\n",
    "print(new)"
   ]
  },
  {
   "cell_type": "code",
   "execution_count": null,
   "metadata": {},
   "outputs": [],
   "source": []
  }
 ],
 "metadata": {
  "kernelspec": {
   "display_name": "Python 3",
   "language": "python",
   "name": "python3"
  },
  "language_info": {
   "codemirror_mode": {
    "name": "ipython",
    "version": 3
   },
   "file_extension": ".py",
   "mimetype": "text/x-python",
   "name": "python",
   "nbconvert_exporter": "python",
   "pygments_lexer": "ipython3",
   "version": "3.11.3"
  },
  "orig_nbformat": 4
 },
 "nbformat": 4,
 "nbformat_minor": 2
}
