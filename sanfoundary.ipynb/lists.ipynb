{
 "cells": [
  {
   "cell_type": "code",
   "execution_count": 1,
   "metadata": {},
   "outputs": [
    {
     "name": "stdout",
     "output_type": "stream",
     "text": [
      "96\n"
     ]
    }
   ],
   "source": [
    "l=eval(input(\"Enter a list:\"))\n",
    "n=0\n",
    "for i in l:\n",
    "    if i>n:\n",
    "        n=i\n",
    "print(n)\n"
   ]
  },
  {
   "cell_type": "code",
   "execution_count": 12,
   "metadata": {},
   "outputs": [
    {
     "name": "stdout",
     "output_type": "stream",
     "text": [
      "9\n"
     ]
    }
   ],
   "source": [
    "l=[10,20,8,8,9,0,89]\n",
    "n=0\n",
    "m=0\n",
    "for i in l:\n",
    "    if i>n:\n",
    "        n=i\n",
    "    if i<n and i>m:\n",
    "        m=i\n",
    "print(m)"
   ]
  },
  {
   "cell_type": "code",
   "execution_count": 35,
   "metadata": {},
   "outputs": [
    {
     "name": "stdout",
     "output_type": "stream",
     "text": [
      "95\n"
     ]
    }
   ],
   "source": [
    "l=[10,20,95,165,89,55]\n",
    "a=max(l)\n",
    "l.remove(a)\n",
    "b=max(l)\n",
    "print(b)"
   ]
  },
  {
   "cell_type": "code",
   "execution_count": 15,
   "metadata": {},
   "outputs": [
    {
     "name": "stdout",
     "output_type": "stream",
     "text": [
      "95\n"
     ]
    }
   ],
   "source": [
    "l=[10,20,95,165,89,55]\n",
    "a=l[0]\n",
    "b=l[0]\n",
    "for i in l:\n",
    "    if i>a:\n",
    "        b=a\n",
    "        a=i\n",
    "    elif i>b and i!=a:\n",
    "        b=i\n",
    "print(b)"
   ]
  },
  {
   "cell_type": "code",
   "execution_count": 32,
   "metadata": {},
   "outputs": [
    {
     "name": "stdout",
     "output_type": "stream",
     "text": [
      "[[9, 1], [4, 2], [19, 6], [8, 7]]\n"
     ]
    }
   ],
   "source": [
    "a=[[19,6],[4,2],[9,1],[8,7]]\n",
    "i=0\n",
    "j=0\n",
    "while i<len(a):\n",
    "    j=i\n",
    "    while j<len(a):\n",
    "        if a[i][1]>a[j][1]:\n",
    "            a[i],a[j]=a[j],a[i]\n",
    "        j+=1\n",
    "    i+=1\n",
    "print(a)\n"
   ]
  },
  {
   "cell_type": "code",
   "execution_count": 30,
   "metadata": {},
   "outputs": [
    {
     "name": "stdout",
     "output_type": "stream",
     "text": [
      "96 203\n"
     ]
    }
   ],
   "source": [
    "l=[10,20,8,8,96,9,203,89]\n",
    "e=0\n",
    "o=0\n",
    "for i in l:\n",
    "    if i%2==0:\n",
    "        if i>e:\n",
    "            e=i\n",
    "    else:\n",
    "        if i>o:\n",
    "            o=i\n",
    "print(e,o)"
   ]
  },
  {
   "cell_type": "code",
   "execution_count": 31,
   "metadata": {},
   "outputs": [
    {
     "name": "stdout",
     "output_type": "stream",
     "text": [
      "[10, 20, 8, 96, 98] [3, 9, 203, 89, 23, 87, 65]\n"
     ]
    }
   ],
   "source": [
    "l=[10,20,3,8,96,9,203,89,23,87,65,98]\n",
    "e=[]\n",
    "o=[]\n",
    "for i in l:\n",
    "    if i%2==0:\n",
    "        e+=[i]\n",
    "    else:\n",
    "        o+=[i]\n",
    "print(e,o)"
   ]
  },
  {
   "cell_type": "code",
   "execution_count": 32,
   "metadata": {},
   "outputs": [
    {
     "name": "stdout",
     "output_type": "stream",
     "text": [
      "55\n"
     ]
    }
   ],
   "source": [
    "l=[10,20,8,8,96,9,203,89]\n",
    "e=0\n",
    "for i in l:\n",
    "    e+=i\n",
    "print(e//len(l))"
   ]
  },
  {
   "cell_type": "code",
   "execution_count": 1,
   "metadata": {},
   "outputs": [
    {
     "name": "stdout",
     "output_type": "stream",
     "text": [
      "-173 142 292\n"
     ]
    }
   ],
   "source": [
    "l=[10,20,8,8,96,-19,203,89,-98,-56]\n",
    "sum1=0\n",
    "sum2=0\n",
    "sum3=0\n",
    "for i in l:\n",
    "    if i<0:\n",
    "        sum1+=i\n",
    "    else:\n",
    "        if i%2==0:\n",
    "            sum2+=i\n",
    "        else:\n",
    "            sum3+=i\n",
    "print(sum1,sum2,sum3)"
   ]
  },
  {
   "cell_type": "code",
   "execution_count": 7,
   "metadata": {},
   "outputs": [
    {
     "name": "stdout",
     "output_type": "stream",
     "text": [
      "11\n"
     ]
    }
   ],
   "source": [
    "l=[10,20,8,8,96,9,20,89,76,6,89]\n",
    "count=0\n",
    "res=[]\n"
   ]
  }
 ],
 "metadata": {
  "kernelspec": {
   "display_name": "Python 3",
   "language": "python",
   "name": "python3"
  },
  "language_info": {
   "codemirror_mode": {
    "name": "ipython",
    "version": 3
   },
   "file_extension": ".py",
   "mimetype": "text/x-python",
   "name": "python",
   "nbconvert_exporter": "python",
   "pygments_lexer": "ipython3",
   "version": "3.11.3"
  },
  "orig_nbformat": 4
 },
 "nbformat": 4,
 "nbformat_minor": 2
}
