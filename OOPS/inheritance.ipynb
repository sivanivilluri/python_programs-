{
 "cells": [
  {
   "cell_type": "markdown",
   "metadata": {},
   "source": [
    "1.Single-Level Inheritance"
   ]
  },
  {
   "cell_type": "code",
   "execution_count": 3,
   "metadata": {},
   "outputs": [],
   "source": [
    "class bank:\n",
    "    bank_name='ICICI'\n",
    "    IFSC='ICICI00123'\n",
    "    address='Mysore'\n",
    "    cust_no=0\n",
    "    cust_details={}\n",
    "    def __init__(self,name,age,bal=500):\n",
    "        self.c_name=name\n",
    "        self.c_age=age\n",
    "        self.c_bal=bal\n",
    "        self.cust_no_inc()\n",
    "        self.acc_no=int('101020'+str(self.cust_no))\n",
    "        self.cus_details_inc(self.acc_no,self)\n",
    "\n",
    "    @classmethod\n",
    "    def cust_no_inc(cls):\n",
    "        cls.cust_no+=1\n",
    "\n",
    "    @classmethod\n",
    "    def cus_details_inc(cls,key,value):\n",
    "        cls.cust_details[key]=value\n",
    "\n",
    "    def deposite(self):\n",
    "        n=int(input('Enter the acc No:'))\n",
    "        if self.acc_no==n:\n",
    "            amount=int(input('Enter the Amount:'))\n",
    "            self.c_bal+=amount\n",
    "            print('Transaction is successful\\nYour current balance is:',self.c_bal)\n",
    "        else:\n",
    "            print('invalis acc no')\n",
    "\n",
    "priya=bank('priya',23)\n"
   ]
  },
  {
   "cell_type": "code",
   "execution_count": 9,
   "metadata": {},
   "outputs": [
    {
     "name": "stdout",
     "output_type": "stream",
     "text": [
      "{'c_name': 'priya', 'c_age': 23, 'c_bal': 500, 'acc_no': 1010201}\n",
      "1\n",
      "{1010201: <__main__.bank object at 0x0000026CE07AD990>}\n"
     ]
    }
   ],
   "source": [
    "print(priya.__dict__)\n",
    "print(bank.cust_no)\n",
    "print(bank.cust_details)"
   ]
  },
  {
   "cell_type": "code",
   "execution_count": 10,
   "metadata": {},
   "outputs": [],
   "source": [
    "class bank_1(bank):\n",
    "    ROI=7\n",
    "    def __init__(self,name,age,email,phone,bal=500):\n",
    "        self.c_name=name\n",
    "        self.c_age=age\n",
    "        self.c_email=email\n",
    "        self.c_phone=phone\n",
    "        self.c_bal=bal\n",
    "        self.cust_no_inc()\n",
    "        self.acc_no=int('1010120'+str(self.cust_no))\n",
    "        self.cus_details_inc(self.acc_no,self)\n",
    "\n",
    "    def withdraw(self):\n",
    "        n=int(input('Enter the acc no:'))\n",
    "        if self.acc_no==n:\n",
    "            amount=int(input('Enter the amount:'))\n",
    "            if amount<self.c_bal-500:\n",
    "                self.c_bal-=amount\n",
    "                print('transaction is success')\n",
    "                print('your withdraw amount:',amount)\n",
    "                print('Your current bal is:',self.c_bal)\n",
    "            else:\n",
    "                print('insufficient amount')\n",
    "        else:\n",
    "            print('invalid acc no')\n",
    "\n",
    "sai=bank_1('sai',24,'sai@gmail.com',9876566648)\n"
   ]
  },
  {
   "cell_type": "code",
   "execution_count": 13,
   "metadata": {},
   "outputs": [
    {
     "name": "stdout",
     "output_type": "stream",
     "text": [
      "{'c_name': 'sai', 'c_age': 24, 'c_email': 'sai@gmail.com', 'c_phone': 9876566648, 'c_bal': 500, 'acc_no': 10101202}\n",
      "2\n",
      "{1010201: <__main__.bank object at 0x0000026CE07AD990>, 10101202: <__main__.bank_1 object at 0x0000026CE1092AD0>}\n",
      "Transaction is successful\n",
      "Your current balance is: 3500\n"
     ]
    }
   ],
   "source": [
    "print(sai.__dict__)\n",
    "print(bank_1.cust_no)\n",
    "print(bank_1.cust_details)\n",
    "sai.deposite()"
   ]
  },
  {
   "cell_type": "code",
   "execution_count": 14,
   "metadata": {},
   "outputs": [
    {
     "name": "stdout",
     "output_type": "stream",
     "text": [
      "{'c_name': 'sai', 'c_age': 24, 'c_email': 'sai@gmail.com', 'c_phone': 9876566648, 'c_bal': 3500, 'acc_no': 10101202}\n",
      "transaction is success\n",
      "your withdraw amount: 200\n",
      "Your current bal is: 3300\n"
     ]
    }
   ],
   "source": [
    "print(sai.__dict__)\n",
    "sai.withdraw()"
   ]
  },
  {
   "cell_type": "code",
   "execution_count": 2,
   "metadata": {},
   "outputs": [],
   "source": [
    "class bank:\n",
    "    bank_name='ICICI'\n",
    "    IFSC='ICICI00123'\n",
    "    address='Mysore'\n",
    "    cust_no=0\n",
    "    cust_details={}\n",
    "    def __init__(self,name,age,bal=500):\n",
    "        self.c_name=name\n",
    "        self.c_age=age\n",
    "        self.c_bal=bal\n",
    "        self.cust_no_inc()\n",
    "        self.acc_no=int('101020'+str(self.cust_no))\n",
    "        self.cus_details_inc(self.acc_no,self)\n",
    "\n",
    "    @classmethod\n",
    "    def cust_no_inc(cls):\n",
    "        cls.cust_no+=1\n",
    "    \n",
    "    @classmethod\n",
    "    def cus_details_inc(cls,key,value):\n",
    "        cls.cust_details[key]=value\n",
    "\n",
    "    def deposite(self):\n",
    "        n=int(input('Enter the acc No:'))\n",
    "        if self.acc_no==n:\n",
    "            amount=int(input('Enter the Amount:'))\n",
    "            self.c_bal+=amount\n",
    "            print('Transaction is successful\\nYour current balance is:',self.c_bal)\n",
    "        else:\n",
    "            print('invalis acc no')\n",
    "\n",
    "priya=bank('priya',23)\n",
    "\n",
    "class bank_1(bank):\n",
    "    ROI=7\n",
    "    def __init__(self,name,age,email,phone,bal=500):\n",
    "        #methods to access the parent class constructor attributes in child clss constructor that is called as constructur chaining.\n",
    "        #1.bank.__init__(self,name,age,bal)\n",
    "        #2.super().__init__(name,age,bal)       \n",
    "        super(bank_1,self).__init__(name,age,bal)        \n",
    "        self.c_email=email\n",
    "        self.c_phone=phone\n",
    "        \n",
    "    def withdraw(self):\n",
    "        n=int(input('Enter the acc no:'))\n",
    "        if self.acc_no==n:\n",
    "            amount=int(input('Enter the amount:'))\n",
    "            if amount<self.c_bal-500:\n",
    "                self.c_bal-=amount\n",
    "                print('transaction is success')\n",
    "                print('your withdraw amount:',amount)\n",
    "                print('Your current bal is:',self.c_bal)\n",
    "            else:\n",
    "                print('insufficient amount')\n",
    "        else:\n",
    "            print('invalid acc no')\n",
    "\n",
    "sai=bank_1('sai',24,'sai@gmail.com',9876566648)\n"
   ]
  },
  {
   "cell_type": "code",
   "execution_count": 3,
   "metadata": {},
   "outputs": [
    {
     "data": {
      "text/plain": [
       "{'c_name': 'sai',\n",
       " 'c_age': 24,\n",
       " 'c_bal': 500,\n",
       " 'acc_no': 1010202,\n",
       " 'c_email': 'sai@gmail.com',\n",
       " 'c_phone': 9876566648}"
      ]
     },
     "execution_count": 3,
     "metadata": {},
     "output_type": "execute_result"
    }
   ],
   "source": [
    "sai.__dict__"
   ]
  },
  {
   "cell_type": "markdown",
   "metadata": {},
   "source": [
    "2.Multi-Level Inheritance"
   ]
  },
  {
   "cell_type": "code",
   "execution_count": 4,
   "metadata": {},
   "outputs": [
    {
     "name": "stdout",
     "output_type": "stream",
     "text": [
      "parent\n",
      "parent\n",
      "parent\n"
     ]
    }
   ],
   "source": [
    "class ver1:\n",
    "    a=10\n",
    "    def __init__(self):\n",
    "        print('parent')\n",
    "    def display(self):\n",
    "        print('parent class',self.a)\n",
    "v1=ver1()\n",
    "\n",
    "class ver2(ver1):\n",
    "    b=20\n",
    "    def display(self):\n",
    "        super().display()\n",
    "        print('child class',self.b)\n",
    "v2=ver2()\n",
    "\n",
    "class ver3(ver2):\n",
    "    c=30\n",
    "    def display(self):\n",
    "        super().display()\n",
    "        print('child child class',self.c)\n",
    "v3=ver3()"
   ]
  },
  {
   "cell_type": "code",
   "execution_count": 5,
   "metadata": {},
   "outputs": [
    {
     "name": "stdout",
     "output_type": "stream",
     "text": [
      "parent class 10\n"
     ]
    }
   ],
   "source": [
    "v1.display()"
   ]
  },
  {
   "cell_type": "code",
   "execution_count": 6,
   "metadata": {},
   "outputs": [
    {
     "name": "stdout",
     "output_type": "stream",
     "text": [
      "parent class 10\n",
      "child class 20\n"
     ]
    }
   ],
   "source": [
    "v2.display()"
   ]
  },
  {
   "cell_type": "code",
   "execution_count": 7,
   "metadata": {},
   "outputs": [
    {
     "name": "stdout",
     "output_type": "stream",
     "text": [
      "parent class 10\n",
      "child class 20\n",
      "child child class 30\n"
     ]
    }
   ],
   "source": [
    "v3.display()"
   ]
  },
  {
   "cell_type": "code",
   "execution_count": 10,
   "metadata": {},
   "outputs": [
    {
     "ename": "TypeError",
     "evalue": "bank.__init__() takes from 3 to 4 positional arguments but 7 were given",
     "output_type": "error",
     "traceback": [
      "\u001b[1;31m---------------------------------------------------------------------------\u001b[0m",
      "\u001b[1;31mTypeError\u001b[0m                                 Traceback (most recent call last)",
      "Cell \u001b[1;32mIn[10], line 96\u001b[0m\n\u001b[0;32m     93\u001b[0m         \u001b[39mcase\u001b[39;00m \u001b[39m1\u001b[39m:\n\u001b[0;32m     94\u001b[0m             details(\u001b[39mself\u001b[39m)\n\u001b[1;32m---> 96\u001b[0m spandana\u001b[39m=\u001b[39mbank(\u001b[39m'\u001b[39;49m\u001b[39mspandana\u001b[39;49m\u001b[39m'\u001b[39;49m,\u001b[39m25\u001b[39;49m,\u001b[39m'\u001b[39;49m\u001b[39mspandana@gmail.com\u001b[39;49m\u001b[39m'\u001b[39;49m,\u001b[39m9876543211\u001b[39;49m,\u001b[39m'\u001b[39;49m\u001b[39mG345R78\u001b[39;49m\u001b[39m'\u001b[39;49m,\u001b[39m345672119\u001b[39;49m)\n",
      "\u001b[1;31mTypeError\u001b[0m: bank.__init__() takes from 3 to 4 positional arguments but 7 were given"
     ]
    }
   ],
   "source": [
    "class bank:\n",
    "    bank_name='ICICI'\n",
    "    IFSC='ICICI00123'\n",
    "    address='Mysore'\n",
    "    cust_no=0\n",
    "    cust_details={}\n",
    "    def __init__(self,name,age,bal=500):\n",
    "        self.c_name=name\n",
    "        self.c_age=age\n",
    "        self.c_bal=bal\n",
    "        self.cust_no_inc()\n",
    "        self.acc_no=int('101020'+str(self.cust_no))\n",
    "        self.cus_details_inc(self.acc_no,self)\n",
    "\n",
    "    @classmethod\n",
    "    def cust_no_inc(cls):\n",
    "        cls.cust_no+=1\n",
    "    \n",
    "    @classmethod\n",
    "    def cus_details_inc(cls,key,value):\n",
    "        cls.cust_details[key]=value\n",
    "\n",
    "    def deposite(self):\n",
    "        n=int(input('Enter the acc No:'))\n",
    "        if self.acc_no==n:\n",
    "            amount=int(input('Enter the Amount:'))\n",
    "            self.c_bal+=amount\n",
    "            print('Transaction is successful\\nYour current balance is:',self.c_bal)\n",
    "        else:\n",
    "            print('invalis acc no')\n",
    "\n",
    "priya=bank('priya',23)\n",
    "\n",
    "class bank_1(bank):\n",
    "    ROI=7\n",
    "    def __init__(self,name,age,email,phone,bal=500):\n",
    "        #methods to access the parent class constructor attributes that is called as constructur chaining.\n",
    "        #1.bank.__init__(self,name,age,bal)\n",
    "        #2.super().__init__(name,age,bal)       \n",
    "        super(bank_1,self).__init__(name,age,bal)        \n",
    "        self.c_email=email\n",
    "        self.c_phone=phone\n",
    "        \n",
    "    def withdraw(self):\n",
    "        n=int(input('Enter the acc no:'))\n",
    "        if self.acc_no==n:\n",
    "            amount=int(input('Enter the amount:'))\n",
    "            if amount<self.c_bal-500:\n",
    "                self.c_bal-=amount\n",
    "                print('transaction is success')\n",
    "                print('your withdraw amount:',amount)\n",
    "                print('Your current bal is:',self.c_bal)\n",
    "            else:\n",
    "                print('insufficient amount')\n",
    "        else:\n",
    "            print('invalid acc no')\n",
    "\n",
    "sai=bank_1('sai',24,'sai@gmail.com',9876566648)\n",
    "\n",
    "class bank_ver2(bank_1):\n",
    "    branch_code='ICICI02'\n",
    "    def __init__(self,name,age,email,phone,pan,aadhar,password,bal=500):\n",
    "        super().__init__(name,age,email,phone,bal)\n",
    "        self.pancard=pan\n",
    "        self.aadhar=aadhar\n",
    "        self.password=password\n",
    "\n",
    "    @classmethod\n",
    "    def verify_user(cls):\n",
    "        userid=input('Enter the Acc no:')\n",
    "        pwd=input('Enter the password:')\n",
    "        cls_data=cls.cust_details\n",
    "        for i in cls_data:\n",
    "            if cls_data[i].acc_no==int(userid) and cls_data[i].password==pwd:\n",
    "                return cls_data[i]\n",
    "        return None\n",
    "\n",
    "    def details(self):\n",
    "        print('Customer Acc no',self.acc_no)\n",
    "        print('Customer name',self.c_name)\n",
    "        print('Customer age',self.c_age)\n",
    "        print('Customer email',self.c_email)\n",
    "        print('Customer phone',self.c_phone)\n",
    "        print('Customer pancard',self.pancard)\n",
    "        print('Customer aadhar',self.aadhar)\n",
    "\n",
    "@staticmethod\n",
    "def authe():\n",
    "    print('WELCOME TO ICICI')\n",
    "    print('----------------')\n",
    "    n=int(input('Choose the option:\\n1.Register\\n2.login'))\n",
    "    match n:\n",
    "        case 1:\n",
    "            details(self)\n",
    "\n",
    "spandana=bank('spandana',25,'spandana@gmail.com',9876543211,'G345R78',345672119)\n",
    "            \n",
    "\n",
    "    "
   ]
  },
  {
   "cell_type": "markdown",
   "metadata": {},
   "source": [
    "3. Hirarichal Inheritance"
   ]
  },
  {
   "cell_type": "code",
   "execution_count": 1,
   "metadata": {},
   "outputs": [],
   "source": [
    "class parent:\n",
    "    x=10\n",
    "    def __init__(self,m):\n",
    "        self.m=m\n",
    "    @classmethod\n",
    "    def display(cls):\n",
    "        print(cls.x)\n",
    "\n",
    "class child1(parent):\n",
    "    y=20\n",
    "class child2(parent):\n",
    "    z=30"
   ]
  },
  {
   "cell_type": "code",
   "execution_count": 2,
   "metadata": {},
   "outputs": [
    {
     "name": "stdout",
     "output_type": "stream",
     "text": [
      "10\n",
      "10 20\n",
      "10 30\n"
     ]
    }
   ],
   "source": [
    "print(parent.x)\n",
    "print(child1.x,child1.y)\n",
    "print(child2.x,child2.z)"
   ]
  },
  {
   "cell_type": "code",
   "execution_count": 3,
   "metadata": {},
   "outputs": [
    {
     "name": "stdout",
     "output_type": "stream",
     "text": [
      "10\n",
      "10\n",
      "10\n"
     ]
    }
   ],
   "source": [
    "parent.display()\n",
    "child1.display()\n",
    "child2.display()"
   ]
  },
  {
   "cell_type": "code",
   "execution_count": 4,
   "metadata": {},
   "outputs": [],
   "source": [
    "p1=parent(100)\n",
    "c1=child1(500)\n",
    "c2=child2(600)"
   ]
  },
  {
   "cell_type": "code",
   "execution_count": 5,
   "metadata": {},
   "outputs": [
    {
     "name": "stdout",
     "output_type": "stream",
     "text": [
      "100\n",
      "500\n",
      "600\n"
     ]
    }
   ],
   "source": [
    "print(p1.m)\n",
    "print(c1.m)\n",
    "print(c2.m)"
   ]
  },
  {
   "cell_type": "code",
   "execution_count": 16,
   "metadata": {},
   "outputs": [],
   "source": [
    "class Institute:\n",
    "    name='Test Yantra'\n",
    "    CEO='Girish'\n",
    "    def __init__(self,name,phone,email,designation):\n",
    "        self.name=name\n",
    "        self.phone=phone\n",
    "        self.email=email\n",
    "        self.designation=designation\n",
    "\n",
    "    def display(self):\n",
    "        print('Email:',self.email)\n",
    "        print('Phone:',self.phone)\n",
    "        print('Designation:',self.designation)\n",
    "        print('name:',self.name)\n",
    "\n",
    "class jspiders(Institute):\n",
    "    branch='jspiders'\n",
    "    founder='Kashi'\n",
    "    subject='java'\n",
    "\n",
    "class qspiders(Institute):\n",
    "    branch='qspiders'\n",
    "    founder='Sudhakar'\n",
    "    subject='Manual Testing'\n",
    "\n",
    "class pyspiders(Institute):\n",
    "    branch='pyspiders'\n",
    "    founder='Venugopal'\n",
    "    subject='python'\n",
    "\n",
    "trainer=Institute('Naveen',9876543210,'naveen@gmail.com','trainer')\n",
    "j_stud=jspiders('Navya',9876543211,'navya@gmail.com','Student')\n",
    "q_stud=qspiders('Sivani',9876543212,'sivani@gmail.com','Student')\n",
    "p_stud=pyspiders('Keerthana',9876543213,'keerthana@gmail.com','Student')\n"
   ]
  },
  {
   "cell_type": "code",
   "execution_count": 17,
   "metadata": {},
   "outputs": [
    {
     "name": "stdout",
     "output_type": "stream",
     "text": [
      "Email: navya@gmail.com\n",
      "Phone: 9876543211\n",
      "Designation: Student\n",
      "name: Navya\n"
     ]
    }
   ],
   "source": [
    "j_stud.display()"
   ]
  },
  {
   "cell_type": "code",
   "execution_count": 18,
   "metadata": {},
   "outputs": [
    {
     "name": "stdout",
     "output_type": "stream",
     "text": [
      "Email: keerthana@gmail.com\n",
      "Phone: 9876543213\n",
      "Designation: Student\n",
      "name: Keerthana\n"
     ]
    }
   ],
   "source": [
    "p_stud.display()"
   ]
  },
  {
   "cell_type": "code",
   "execution_count": 19,
   "metadata": {},
   "outputs": [
    {
     "name": "stdout",
     "output_type": "stream",
     "text": [
      "Email: naveen@gmail.com\n",
      "Phone: 9876543210\n",
      "Designation: trainer\n",
      "name: Naveen\n"
     ]
    }
   ],
   "source": [
    "trainer.display()"
   ]
  },
  {
   "cell_type": "code",
   "execution_count": 20,
   "metadata": {},
   "outputs": [
    {
     "name": "stdout",
     "output_type": "stream",
     "text": [
      "Email: sivani@gmail.com\n",
      "Phone: 9876543212\n",
      "Designation: Student\n",
      "name: Sivani\n"
     ]
    }
   ],
   "source": [
    "q_stud.display()"
   ]
  },
  {
   "cell_type": "markdown",
   "metadata": {},
   "source": [
    "4.Multiple Inheritance"
   ]
  },
  {
   "cell_type": "code",
   "execution_count": 22,
   "metadata": {},
   "outputs": [],
   "source": [
    "class parent1:\n",
    "    x=10\n",
    "\n",
    "class parent2:\n",
    "    x=50\n",
    "    y=20\n",
    "\n",
    "class child(parent1,parent2):\n",
    "    z=30\n",
    "\n",
    "obj=child()"
   ]
  },
  {
   "cell_type": "code",
   "execution_count": 23,
   "metadata": {},
   "outputs": [
    {
     "name": "stdout",
     "output_type": "stream",
     "text": [
      "{}\n",
      "10 20 30\n"
     ]
    }
   ],
   "source": [
    "print(obj.__dict__)\n",
    "print(obj.x,obj.y,obj.z)"
   ]
  },
  {
   "cell_type": "code",
   "execution_count": 24,
   "metadata": {},
   "outputs": [],
   "source": [
    "class parent1:\n",
    "    x=10\n",
    "\n",
    "class parent2:\n",
    "    x=50\n",
    "    y=20\n",
    "\n",
    "class child(parent2,parent1):\n",
    "    z=30\n",
    "\n",
    "obj=child()"
   ]
  },
  {
   "cell_type": "code",
   "execution_count": 26,
   "metadata": {},
   "outputs": [
    {
     "name": "stdout",
     "output_type": "stream",
     "text": [
      "{}\n",
      "50 20 30\n"
     ]
    }
   ],
   "source": [
    "print(obj.__dict__)\n",
    "print(obj.x,obj.y,obj.z)"
   ]
  },
  {
   "cell_type": "code",
   "execution_count": 1,
   "metadata": {},
   "outputs": [
    {
     "name": "stdout",
     "output_type": "stream",
     "text": [
      "dinga\n",
      "24\n",
      "dinga@gmail.com\n",
      "9876543210\n",
      "banglore\n",
      "oneplus\n",
      "oneplus 14 max pro\n",
      "75000\n",
      "10\n"
     ]
    },
    {
     "data": {
      "text/plain": [
       "'online_store'"
      ]
     },
     "execution_count": 1,
     "metadata": {},
     "output_type": "execute_result"
    }
   ],
   "source": [
    "class cust:\n",
    "    shopping='online_shop'\n",
    "    def __init__(self,name,age,phone,email,address):\n",
    "       self.name=name\n",
    "       self.age=age\n",
    "       self.phone=phone\n",
    "       self.email=email\n",
    "       self.address=address\n",
    "\n",
    "    def display(self):\n",
    "        print(self.name)\n",
    "        print(self.age)\n",
    "        print(self.phone)\n",
    "        print(self.email)\n",
    "        print(self.address)\n",
    "\n",
    "class product:\n",
    "    shopping='online_store'\n",
    "    def __init__(self,p_name,p_desc,p_price,p_quantity):\n",
    "        self.p_name=p_name\n",
    "        self.p_desc=p_desc\n",
    "        self.p_price=p_price\n",
    "        self.p_quantity=p_quantity\n",
    "\n",
    "    def display(self):\n",
    "        print(self.p_name)\n",
    "        print(self.p_desc)\n",
    "        print(self.p_price)\n",
    "        print(self.p_quantity)\n",
    "\n",
    "class trans(product,cust):\n",
    "    def __init__(self,name,age,phone,email,address,p_name,p_desc,p_price,p_quantity):\n",
    "        cust.__init__(self,name,age,phone,email,address)\n",
    "        product.__init__(self,p_name,p_desc,p_price,p_quantity)\n",
    "\n",
    "    def display(self):\n",
    "        cust.display(self)\n",
    "        product.display(self)\n",
    "\n",
    "obj=trans('dinga',24,'dinga@gmail.com',9876543210,'banglore','oneplus','oneplus 14 max pro',75000,10)\n",
    "obj.display()\n",
    "obj.shopping\n"
   ]
  }
 ],
 "metadata": {
  "kernelspec": {
   "display_name": "Python 3",
   "language": "python",
   "name": "python3"
  },
  "language_info": {
   "codemirror_mode": {
    "name": "ipython",
    "version": 3
   },
   "file_extension": ".py",
   "mimetype": "text/x-python",
   "name": "python",
   "nbconvert_exporter": "python",
   "pygments_lexer": "ipython3",
   "version": "3.11.3"
  },
  "orig_nbformat": 4
 },
 "nbformat": 4,
 "nbformat_minor": 2
}
