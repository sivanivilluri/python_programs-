{
 "cells": [
  {
   "cell_type": "markdown",
   "metadata": {},
   "source": [
    "POLYMORPHISM"
   ]
  },
  {
   "cell_type": "code",
   "execution_count": 10,
   "metadata": {},
   "outputs": [],
   "source": [
    "class pys:\n",
    "    def __init__(self,m):\n",
    "        self.m=m\n",
    "\n",
    "    def __add__(self,other):\n",
    "        res=tuple(self.m)+tuple(other.m)\n",
    "        return res\n",
    "    \n",
    "    def __sub__(self,other):\n",
    "        return self.m-other.m\n",
    "    \n",
    "a=pys([10,20,30])\n",
    "b=pys((30,40,50,56))"
   ]
  },
  {
   "cell_type": "code",
   "execution_count": 11,
   "metadata": {},
   "outputs": [
    {
     "name": "stdout",
     "output_type": "stream",
     "text": [
      "(30, 40, 50, 56, 10, 20, 30)\n"
     ]
    }
   ],
   "source": [
    "c=b+a\n",
    "print(c)"
   ]
  },
  {
   "cell_type": "code",
   "execution_count": 1,
   "metadata": {},
   "outputs": [],
   "source": [
    "class pys:\n",
    "    def __init__(self,m):\n",
    "        self.m=m\n",
    "\n",
    "    def __add__(self,other):\n",
    "        res=tuple(self.m)+tuple(other.m)\n",
    "        return res\n",
    "    \n",
    "    def __sub__(self,other):\n",
    "        x=list(self.m)\n",
    "        y=list(other.m)\n",
    "        if len(x)!=len(y):\n",
    "            if len(x)<len(y):\n",
    "                res=len(y)-len(x)\n",
    "                x+=([0]*res)\n",
    "                print(x)\n",
    "            else:\n",
    "                res=len(x)-len(y)\n",
    "                y+=([0]*res)\n",
    "                print(y)\n",
    "        u=[]\n",
    "        for i in range(0,len(x)):\n",
    "            u+=[x[i]-y[i]]\n",
    "        return u\n",
    "    def __mul__(self,other):\n",
    "        l=[]\n",
    "        for i,j in zip(self.m,other.m):\n",
    "            l+=[i*j]\n",
    "        return l\n",
    "    \n",
    "a=pys([10,20,30])\n",
    "b=pys((30,40,50,10,20))"
   ]
  },
  {
   "cell_type": "code",
   "execution_count": 21,
   "metadata": {},
   "outputs": [
    {
     "data": {
      "text/plain": [
       "[300, 800, 1500]"
      ]
     },
     "execution_count": 21,
     "metadata": {},
     "output_type": "execute_result"
    }
   ],
   "source": [
    "a*b"
   ]
  },
  {
   "cell_type": "markdown",
   "metadata": {},
   "source": [
    "ENCAPSULATION"
   ]
  },
  {
   "cell_type": "markdown",
   "metadata": {},
   "source": [
    "1.Public Access Specifiers"
   ]
  },
  {
   "cell_type": "code",
   "execution_count": 24,
   "metadata": {},
   "outputs": [],
   "source": [
    "class person:\n",
    "    surname='G'\n",
    "\n",
    "    def __init__(self,firstname):\n",
    "        self.firstname=firstname\n",
    "\n",
    "    @classmethod\n",
    "    def modify_cls(cls,value):\n",
    "        cls.surname=value\n",
    "\n",
    "    def modify_self(self,value):\n",
    "        self.firstname=value\n",
    "\n",
    "    @staticmethod\n",
    "    def display():\n",
    "        print('Have a nice day')\n",
    "\n",
    "class child(person):\n",
    "    pass"
   ]
  },
  {
   "cell_type": "code",
   "execution_count": 25,
   "metadata": {},
   "outputs": [
    {
     "name": "stdout",
     "output_type": "stream",
     "text": [
      "G\n",
      "Dinga\n",
      "T\n",
      "Manga\n",
      "Have a nice day\n"
     ]
    }
   ],
   "source": [
    "print(child.surname)\n",
    "\n",
    "obj=child('Dinga')\n",
    "print(obj.firstname)\n",
    "\n",
    "obj.modify_cls('T')\n",
    "print(child.surname)\n",
    "\n",
    "obj.modify_self('Manga')\n",
    "print(obj.firstname)\n",
    "\n",
    "obj.display()"
   ]
  },
  {
   "cell_type": "markdown",
   "metadata": {},
   "source": [
    "2.Protect Access Specifiers"
   ]
  },
  {
   "cell_type": "code",
   "execution_count": 30,
   "metadata": {},
   "outputs": [],
   "source": [
    "class person1:\n",
    "    _surname='G'\n",
    "\n",
    "    def __init__(self,firstname):\n",
    "        self._firstname=firstname\n",
    "\n",
    "    @classmethod\n",
    "    def _modify_cls(cls,value):\n",
    "        cls._surname=value\n",
    "\n",
    "    def _modify_self(self,value):\n",
    "        self._firstname=value\n",
    "\n",
    "    @staticmethod\n",
    "    def _display():\n",
    "        print('Have a nice day')\n",
    "\n",
    "class child1(person1):\n",
    "    pass"
   ]
  },
  {
   "cell_type": "code",
   "execution_count": 31,
   "metadata": {},
   "outputs": [
    {
     "name": "stdout",
     "output_type": "stream",
     "text": [
      "G\n",
      "Dinga\n",
      "T\n",
      "Manga\n",
      "Have a nice day\n"
     ]
    }
   ],
   "source": [
    "print(child1._surname)\n",
    "\n",
    "obj=child1('Dinga')\n",
    "print(obj._firstname)\n",
    "\n",
    "obj._modify_cls('T')\n",
    "print(child1._surname)\n",
    "\n",
    "obj._modify_self('Manga')\n",
    "print(obj._firstname)\n",
    "\n",
    "obj._display()"
   ]
  },
  {
   "cell_type": "markdown",
   "metadata": {},
   "source": [
    "3.Private Access Specifiers\n",
    "{It doesn't support call outside the class}"
   ]
  },
  {
   "cell_type": "code",
   "execution_count": 44,
   "metadata": {},
   "outputs": [],
   "source": [
    "class person2:\n",
    "    __surname='G'\n",
    "\n",
    "    def __init__(self,firstname):\n",
    "        self.__firstname=firstname\n",
    "\n",
    "    @classmethod\n",
    "    def __modify_cls(cls,value):\n",
    "        cls.__surname=value\n",
    "\n",
    "    def __modify_self(self,value):\n",
    "        self.__firstname=value\n",
    "\n",
    "    @staticmethod\n",
    "    def __display():\n",
    "        print('Have a nice day')\n",
    "\n",
    "class child2(person2):\n",
    "    pass"
   ]
  },
  {
   "cell_type": "code",
   "execution_count": 2,
   "metadata": {},
   "outputs": [
    {
     "ename": "NameError",
     "evalue": "name 'child2' is not defined",
     "output_type": "error",
     "traceback": [
      "\u001b[1;31m---------------------------------------------------------------------------\u001b[0m",
      "\u001b[1;31mNameError\u001b[0m                                 Traceback (most recent call last)",
      "Cell \u001b[1;32mIn[2], line 1\u001b[0m\n\u001b[1;32m----> 1\u001b[0m \u001b[39mprint\u001b[39m(child2\u001b[39m.\u001b[39m__surname)\n\u001b[0;32m      3\u001b[0m obj\u001b[39m=\u001b[39mchild2(\u001b[39m'\u001b[39m\u001b[39mDinga\u001b[39m\u001b[39m'\u001b[39m)\n\u001b[0;32m      4\u001b[0m \u001b[39mprint\u001b[39m(obj\u001b[39m.\u001b[39m__firstname)\n",
      "\u001b[1;31mNameError\u001b[0m: name 'child2' is not defined"
     ]
    }
   ],
   "source": [
    "print(child2.__surname)\n",
    "\n",
    "obj=child2('Dinga')\n",
    "print(obj.__firstname)\n",
    "\n",
    "obj.__modify_cls('T')\n",
    "print(child2.__surname)\n",
    "\n",
    "obj.__modify_self('Manga')\n",
    "print(obj.__firstname)\n",
    "\n",
    "obj.__display()\n",
    "\n",
    "#it will raise an error as it is private access specifiers"
   ]
  },
  {
   "cell_type": "code",
   "execution_count": 42,
   "metadata": {},
   "outputs": [],
   "source": [
    "class human:\n",
    "    surname='Villuri'\n",
    "    address='Hyderabad'\n",
    "    pincode=500070\n",
    "    __land_phone=1404056\n",
    "    def __init__(self,name,age,phone,height,weight,bank_acc,password,salary,gender,partner):\n",
    "        self.name=name\n",
    "        self.__age=age\n",
    "        self._phone=phone\n",
    "        self.height=height\n",
    "        self._weight=weight\n",
    "        self.__bank_acc=bank_acc\n",
    "        self.__password=password\n",
    "        self.__salary=salary\n",
    "        self.gender=gender\n",
    "        \n",
    "\n",
    "sivani=human('sivani',21,9848892888,6.0,50,1234567,'sivani@123',45000,'female')\n"
   ]
  },
  {
   "cell_type": "code",
   "execution_count": 43,
   "metadata": {},
   "outputs": [
    {
     "data": {
      "text/plain": [
       "{'name': 'sivani',\n",
       " '_human__age': 21,\n",
       " '_phone': 9848892888,\n",
       " 'height': 6.0,\n",
       " '_weight': 50,\n",
       " '_human__bank_acc': 1234567,\n",
       " '_human__password': 'sivani@123',\n",
       " '_human__salary': 45000,\n",
       " 'gender': 'female',\n",
       " '_human__partner': 'Radha Krishna'}"
      ]
     },
     "execution_count": 43,
     "metadata": {},
     "output_type": "execute_result"
    }
   ],
   "source": [
    "sivani.__dict__"
   ]
  }
 ],
 "metadata": {
  "kernelspec": {
   "display_name": "Python 3",
   "language": "python",
   "name": "python3"
  },
  "language_info": {
   "codemirror_mode": {
    "name": "ipython",
    "version": 3
   },
   "file_extension": ".py",
   "mimetype": "text/x-python",
   "name": "python",
   "nbconvert_exporter": "python",
   "pygments_lexer": "ipython3",
   "version": "3.11.3"
  },
  "orig_nbformat": 4
 },
 "nbformat": 4,
 "nbformat_minor": 2
}
