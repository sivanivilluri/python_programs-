{
 "cells": [
  {
   "cell_type": "code",
   "execution_count": 1,
   "metadata": {},
   "outputs": [
    {
     "name": "stdout",
     "output_type": "stream",
     "text": [
      "{101: ['hyd', 'vij', 14.0, 22.0, 300, {'A1': True, 'A2': True, 'A3': True, 'A4': True, 'B1': True, 'B2': True, 'B3': True, 'B4': True, 'C1': True, 'C2': True, 'C3': True, 'C4': True, 'D1': True, 'D2': True, 'D3': True, 'D4': True, 'E1': True, 'E2': True, 'E3': True, 'E4': True, 'F1': True, 'F2': True, 'F3': True, 'F4': True}], 102: ['vij', 'hyd', 22.3, 5.3, 300, {'A1': True, 'A2': True, 'A3': True, 'A4': True, 'B1': True, 'B2': True, 'B3': True, 'B4': True, 'C1': True, 'C2': True, 'C3': True, 'C4': True, 'D1': True, 'D2': True, 'D3': True, 'D4': True, 'E1': True, 'E2': True, 'E3': True, 'E4': True, 'F1': True, 'F2': True, 'F3': True, 'F4': True}], 103: ['hyd', 'khammam', 10.0, 2.0, 200, {'A1': True, 'A2': True, 'A3': True, 'A4': True, 'B1': True, 'B2': True, 'B3': True, 'B4': True, 'C1': True, 'C2': True, 'C3': True, 'C4': True, 'D1': True, 'D2': True, 'D3': True, 'D4': True, 'E1': True, 'E2': True, 'E3': True, 'E4': True, 'F1': True, 'F2': True, 'F3': True, 'F4': True}], 104: ['khammam', 'hyd', 12.0, 4.0, 200, {'A1': True, 'A2': True, 'A3': True, 'A4': True, 'B1': True, 'B2': True, 'B3': True, 'B4': True, 'C1': True, 'C2': True, 'C3': True, 'C4': True, 'D1': True, 'D2': True, 'D3': True, 'D4': True, 'E1': True, 'E2': True, 'E3': True, 'E4': True, 'F1': True, 'F2': True, 'F3': True, 'F4': True}], 105: ['khammam', 'hyd', 1.0, 5.0, 200, {'A1': True, 'A2': True, 'A3': True, 'A4': True, 'B1': True, 'B2': True, 'B3': True, 'B4': True, 'C1': True, 'C2': True, 'C3': True, 'C4': True, 'D1': True, 'D2': True, 'D3': True, 'D4': True, 'E1': True, 'E2': True, 'E3': True, 'E4': True, 'F1': True, 'F2': True, 'F3': True, 'F4': True}], 106: ['khammam', 'hyd', 2.0, 6.0, 200, {'A1': True, 'A2': True, 'A3': True, 'A4': True, 'B1': True, 'B2': True, 'B3': True, 'B4': True, 'C1': True, 'C2': True, 'C3': True, 'C4': True, 'D1': True, 'D2': True, 'D3': True, 'D4': True, 'E1': True, 'E2': True, 'E3': True, 'E4': True, 'F1': True, 'F2': True, 'F3': True, 'F4': True}], 107: ['khammam', 'hyd', 3.0, 7.0, 200, {'A1': True, 'A2': True, 'A3': True, 'A4': True, 'B1': True, 'B2': True, 'B3': True, 'B4': True, 'C1': True, 'C2': True, 'C3': True, 'C4': True, 'D1': True, 'D2': True, 'D3': True, 'D4': True, 'E1': True, 'E2': True, 'E3': True, 'E4': True, 'F1': True, 'F2': True, 'F3': True, 'F4': True}]}\n",
      "{101: ['hyd', 'vij', 14.0, 22.0, 300, {'A1': True, 'A2': True, 'A3': True, 'A4': True, 'B1': True, 'B2': True, 'B3': True, 'B4': True, 'C1': True, 'C2': True, 'C3': True, 'C4': True, 'D1': True, 'D2': True, 'D3': True, 'D4': True, 'E1': True, 'E2': True, 'E3': True, 'E4': True, 'F1': True, 'F2': True, 'F3': True, 'F4': True}], 102: ['vij', 'hyd', 22.3, 5.3, 300, {'A1': True, 'A2': True, 'A3': True, 'A4': True, 'B1': True, 'B2': True, 'B3': True, 'B4': True, 'C1': True, 'C2': True, 'C3': True, 'C4': True, 'D1': True, 'D2': True, 'D3': True, 'D4': True, 'E1': True, 'E2': True, 'E3': True, 'E4': True, 'F1': True, 'F2': True, 'F3': True, 'F4': True}], 103: ['hyd', 'khammam', 10.0, 2.0, 200, {'A1': True, 'A2': True, 'A3': True, 'A4': True, 'B1': True, 'B2': True, 'B3': True, 'B4': True, 'C1': True, 'C2': True, 'C3': True, 'C4': True, 'D1': True, 'D2': True, 'D3': True, 'D4': True, 'E1': True, 'E2': True, 'E3': True, 'E4': True, 'F1': True, 'F2': True, 'F3': True, 'F4': True}], 104: ['khammam', 'hyd', 12.0, 4.0, 200, {'A1': True, 'A2': True, 'A3': True, 'A4': True, 'B1': True, 'B2': True, 'B3': True, 'B4': True, 'C1': True, 'C2': True, 'C3': True, 'C4': True, 'D1': True, 'D2': True, 'D3': True, 'D4': True, 'E1': True, 'E2': True, 'E3': True, 'E4': True, 'F1': True, 'F2': True, 'F3': True, 'F4': True}], 105: ['khammam', 'hyd', 1.0, 5.0, 200, {'A1': True, 'A2': True, 'A3': True, 'A4': True, 'B1': True, 'B2': True, 'B3': True, 'B4': True, 'C1': True, 'C2': True, 'C3': True, 'C4': True, 'D1': True, 'D2': True, 'D3': True, 'D4': True, 'E1': True, 'E2': True, 'E3': True, 'E4': True, 'F1': True, 'F2': True, 'F3': True, 'F4': True}], 106: ['khammam', 'hyd', 2.0, 6.0, 200, {'A1': True, 'A2': True, 'A3': True, 'A4': True, 'B1': True, 'B2': True, 'B3': True, 'B4': True, 'C1': True, 'C2': True, 'C3': True, 'C4': True, 'D1': True, 'D2': True, 'D3': True, 'D4': True, 'E1': True, 'E2': True, 'E3': True, 'E4': True, 'F1': True, 'F2': True, 'F3': True, 'F4': True}], 107: ['khammam', 'hyd', 3.0, 7.0, 200, {'A1': True, 'A2': True, 'A3': True, 'A4': True, 'B1': True, 'B2': True, 'B3': True, 'B4': True, 'C1': True, 'C2': True, 'C3': True, 'C4': True, 'D1': True, 'D2': True, 'D3': True, 'D4': True, 'E1': True, 'E2': True, 'E3': True, 'E4': True, 'F1': True, 'F2': True, 'F3': True, 'F4': True}]}\n"
     ]
    }
   ],
   "source": [
    "import copy\n",
    "seats={'A1':True,'A2':True,'A3':True,'A4':True,\n",
    "       'B1':True,'B2':True,'B3':True,'B4':True,\n",
    "       'C1':True,'C2':True,'C3':True,'C4':True,\n",
    "       'D1':True,'D2':True,'D3':True,'D4':True,\n",
    "       'E1':True,'E2':True,'E3':True,'E4':True,\n",
    "       'F1':True,'F2':True,'F3':True,'F4':True}\n",
    "services={101:['hyd','vij',14.00,22.00,300,copy.deepcopy(seats)],\n",
    "          102:['vij','hyd',22.30,5.30,300,copy.deepcopy(seats)],\n",
    "          103:['hyd','khammam',10.00,2.00,200,copy.deepcopy(seats)],\n",
    "          104:['khammam','hyd',12.00,4.00,200,copy.deepcopy(seats)],\n",
    "          105:['khammam','hyd',1.00,5.00,200,copy.deepcopy(seats)],\n",
    "          106:['khammam','hyd',2.00,6.00,200,copy.deepcopy(seats)],\n",
    "          107:['khammam','hyd',3.00,7.00,200,copy.deepcopy(seats)]}\n",
    "print(services)\n",
    "service_no=108\n",
    "def create_services(service):\n",
    "    global service_no\n",
    "    source=input('Enter the Source city:')\n",
    "    destination=input('Enter the Destination city:')\n",
    "    start_time=input('Enter start time:')\n",
    "    end_time=input('Enter the end time:')\n",
    "    kms=input('Enter the kilometers:')\n",
    "    service[service_no]=[source,destination,start_time,end_time,kms,copy.deepcopy(seats)]\n",
    "    service_no+=1\n",
    "print(services)"
   ]
  },
  {
   "cell_type": "code",
   "execution_count": 2,
   "metadata": {},
   "outputs": [],
   "source": [
    "def delete_services(service):\n",
    "    num=int(input('Enter the service no:'))\n",
    "    if num in service:\n",
    "        n=int(input(f\"Are you sure to delete {num} no:\\n1.confirm\\n2.cancel\\nChoose the option:\"))\n",
    "        if n==1:\n",
    "            del service[num]\n",
    "        else:\n",
    "            return\n",
    "    else:\n",
    "        print('invalid service_no')\n",
    "#delete_services(services)"
   ]
  },
  {
   "cell_type": "code",
   "execution_count": 3,
   "metadata": {},
   "outputs": [],
   "source": [
    "def update_services(service):\n",
    "    num=int(input(\"Enter the service no:\"))\n",
    "    if num in service:\n",
    "        print(f\"Source:{service[num][0]}\\nDestination:{service[num][1]}\")\n",
    "        n=int(input(f\"Are you sure to modify {num} details:\\n1.confirm\\n2.cancel\\nChoose the option:\"))\n",
    "        if n==1:\n",
    "            service[num][0]=input(\"Enter the Source city:\")\n",
    "            service[num][1]=input(\"Enter the Destination city:\")\n",
    "            service[num][2]=input(\"Enter the start time:\")\n",
    "            service[num][3]=input(\"Enter the end time:\")\n",
    "            service[num][4]=input(\"Enter kilo meters:\")\n",
    "            print(\"Service details modified\")\n",
    "            print(f\"Modified details\\nSource:{service[num][0]}\\nDestination:{service[num][1]}\")\n",
    "        else:\n",
    "            return\n",
    "    else:\n",
    "        print(\"invalid service_no\")\n",
    "#update_services(services)"
   ]
  },
  {
   "cell_type": "code",
   "execution_count": 2,
   "metadata": {},
   "outputs": [
    {
     "name": "stdout",
     "output_type": "stream",
     "text": [
      "Total seats 24\n",
      "available seats ['A1', 'A3', 'A4', 'B1', 'B2', 'B3', 'B4', 'C1', 'C2', 'C3', 'C4', 'D1', 'D2', 'D3', 'D4', 'E1', 'E2', 'F2', 'F3']\n",
      "unavailable seats ['A2', 'E3', 'E4', 'F1', 'F4']\n",
      "count available seats 19\n",
      "count unavailable seats 5\n"
     ]
    }
   ],
   "source": [
    "seats={'A1':True,'A2':False,'A3':True,'A4':True,\n",
    "       'B1':True,'B2':True,'B3':True,'B4':True,\n",
    "       'C1':True,'C2':True,'C3':True,'C4':True,\n",
    "       'D1':True,'D2':True,'D3':True,'D4':True,\n",
    "       'E1':True,'E2':True,'E3':False,'E4':False,\n",
    "       'F1':False,'F2':True,'F3':True,'F4':False}\n",
    "def bus_seats(coll):\n",
    "    available=[]\n",
    "    unavailable=[]\n",
    "    for i in coll:\n",
    "        if coll[i]==True:\n",
    "            available+=[i]\n",
    "        else:\n",
    "            unavailable+=[i]\n",
    "    return (available,unavailable)\n",
    "\n",
    "res=bus_seats(seats)\n",
    "print(\"Total seats\",len(seats))\n",
    "print(\"available seats\",res[0])\n",
    "print(\"unavailable seats\",res[1])\n",
    "print(\"count available seats\",len(res[0]))\n",
    "print(\"count unavailable seats\",len(res[1]))\n"
   ]
  },
  {
   "cell_type": "code",
   "execution_count": null,
   "metadata": {},
   "outputs": [],
   "source": [
    "def display_all_services(service):\n",
    "    "
   ]
  }
 ],
 "metadata": {
  "kernelspec": {
   "display_name": "Python 3",
   "language": "python",
   "name": "python3"
  },
  "language_info": {
   "codemirror_mode": {
    "name": "ipython",
    "version": 3
   },
   "file_extension": ".py",
   "mimetype": "text/x-python",
   "name": "python",
   "nbconvert_exporter": "python",
   "pygments_lexer": "ipython3",
   "version": "3.11.3"
  },
  "orig_nbformat": 4
 },
 "nbformat": 4,
 "nbformat_minor": 2
}
