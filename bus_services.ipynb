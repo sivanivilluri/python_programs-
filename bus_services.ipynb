{
 "cells": [
  {
   "cell_type": "code",
   "execution_count": null,
   "metadata": {},
   "outputs": [
    {
     "ename": "",
     "evalue": "",
     "output_type": "error",
     "traceback": [
      "\u001b[1;31mFailed to start the Kernel. \n",
      "\u001b[1;31mUnable to start Kernel 'Python 3.11.3' due to a timeout waiting for the ports to get used. \n",
      "\u001b[1;31mView Jupyter <a href='command:jupyter.viewOutput'>log</a> for further details."
     ]
    }
   ],
   "source": [
    "import copy\n",
    "seats={'A1':True,'A2':True,'A3':True,'A4':True,\n",
    "       'B1':True,'B2':True,'B3':True,'B4':True,\n",
    "       'C1':True,'C2':True,'C3':True,'C4':True,\n",
    "       'D1':True,'D2':True,'D3':True,'D4':True,\n",
    "       'E1':True,'E2':True,'E3':True,'E4':True,\n",
    "       'F1':True,'F2':True,'F3':True,'F4':True}\n",
    "services={101:['hyd','vij',14.00,22.00,300,copy.deepcopy(seats)],\n",
    "          102:['vij','hyd',22.30,5.30,300,copy.deepcopy(seats)],\n",
    "          103:['hyd','khammam',10.00,2.00,200,copy.deepcopy(seats)],\n",
    "          104:['khammam','hyd',12.00,4.00,200,copy.deepcopy(seats)],\n",
    "          105:['khammam','hyd',1.00,5.00,200,copy.deepcopy(seats)],\n",
    "          106:['khammam','hyd',2.00,6.00,200,copy.deepcopy(seats)],\n",
    "          107:['khammam','hyd',3.00,7.00,200,copy.deepcopy(seats)]}\n",
    "print(services)\n",
    "service_no=108\n",
    "def create_services(service):\n",
    "    global service_no\n",
    "    source=input('Enter the Source city:')\n",
    "    destination=input('Enter the Destination city:')\n",
    "    start_time=input('Enter start time:')\n",
    "    end_time=input('Enter the end time:')\n",
    "    kms=input('Enter the kilometers:')\n",
    "    service[service_no]=[source,destination,start_time,end_time,kms,copy.deepcopy(seats)]\n",
    "    service_no+=1\n",
    "print(services)"
   ]
  },
  {
   "cell_type": "code",
   "execution_count": null,
   "metadata": {},
   "outputs": [
    {
     "ename": "",
     "evalue": "",
     "output_type": "error",
     "traceback": [
      "\u001b[1;31mFailed to start the Kernel. \n",
      "\u001b[1;31mUnable to start Kernel 'Python 3.11.3' due to a timeout waiting for the ports to get used. \n",
      "\u001b[1;31mView Jupyter <a href='command:jupyter.viewOutput'>log</a> for further details."
     ]
    }
   ],
   "source": [
    "def delete_services(service):\n",
    "    num=int(input('Enter the service no:'))\n",
    "    if num in service:\n",
    "        n=int(input(f\"Are you sure to delete {num} no:\\n1.confirm\\n2.cancel\\nChoose the option:\"))\n",
    "        if n==1:\n",
    "            del service[num]\n",
    "        else:\n",
    "            return\n",
    "    else:\n",
    "        print('invalid service_no')"
   ]
  },
  {
   "cell_type": "code",
   "execution_count": null,
   "metadata": {},
   "outputs": [],
   "source": []
  }
 ],
 "metadata": {
  "kernelspec": {
   "display_name": "Python 3",
   "language": "python",
   "name": "python3"
  },
  "language_info": {
   "name": "python",
   "version": "3.11.3"
  },
  "orig_nbformat": 4
 },
 "nbformat": 4,
 "nbformat_minor": 2
}
