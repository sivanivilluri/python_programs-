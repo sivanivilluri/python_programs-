{
 "cells": [
  {
   "cell_type": "code",
   "execution_count": null,
   "metadata": {},
   "outputs": [],
   "source": [
    "fp=open(\"file1.txt\",'w')\n",
    "fp.write(\"Hello this is python class file handling.\\nWe have to do the assignment.\\nHello guys.\")\n",
    "fp.close()"
   ]
  },
  {
   "cell_type": "code",
   "execution_count": null,
   "metadata": {},
   "outputs": [],
   "source": [
    "fp=open(\"file1.txt\",'r')\n",
    "res=fp.read()\n",
    "w=[]\n",
    "s=''\n",
    "for i in res:\n",
    "    if i in ' .\\n' and s!='':\n",
    "        w+=[s]\n",
    "        s=''\n",
    "    if i not in ' .\\n':\n",
    "        s+=i\n",
    "    \n",
    "print(w)\n",
    "fp.close()\n"
   ]
  },
  {
   "cell_type": "code",
   "execution_count": null,
   "metadata": {},
   "outputs": [],
   "source": [
    "fp=open(\"file1.txt\",'r')\n",
    "res=fp.readlines()\n",
    "p='Hello'\n",
    "l=[]\n",
    "for i in res:\n",
    "    if p in i:\n",
    "            l+=[i]\n",
    "print(l)"
   ]
  },
  {
   "cell_type": "code",
   "execution_count": null,
   "metadata": {},
   "outputs": [],
   "source": [
    "fp=open(\"file2.txt\",'w+')\n",
    "fp.write(\"Hello naveen.\")\n",
    "fp.seek(0)\n",
    "res=fp.read()\n",
    "print(res)\n",
    "fp.seek(0)\n",
    "fp.write(\"This is Sivani\")\n",
    "fp.seek(0)\n",
    "r=fp.read()\n",
    "print(r)"
   ]
  },
  {
   "cell_type": "code",
   "execution_count": null,
   "metadata": {},
   "outputs": [],
   "source": [
    "fp=open(\"file3.txt\",'w')\n",
    "fp.write(\"It is a control statement and looping statement.\\nIt is a iterative statement.\\nIt is a While loop.\")\n",
    "fp.close()\n"
   ]
  },
  {
   "cell_type": "code",
   "execution_count": null,
   "metadata": {},
   "outputs": [],
   "source": [
    "p='This is Sivani.\\n'\n",
    "fp=open(\"file3.txt\",'r+',newline='\\n')\n",
    "res=fp.read()\n",
    "l=[]\n",
    "# print(res.split('\\n'))\n",
    "res=res.split('\\n')\n",
    "for i in range(len(res)):\n",
    "    l+=[res[i]]\n",
    "    if i==0:\n",
    "        l+=[p]\n",
    "print(l)\n",
    "fp.seek(0)\n",
    "fp.writelines(l)\n",
    "# fp.seek(0)\n",
    "# r=fp.readline()\n",
    "# fp.seek(fp.tell())\n",
    "# temp=res[fp.tell():]\n",
    "# fp.write(p)\n",
    "# fp.seek(0)\n",
    "# print(fp.read(),temp)\n",
    "\n"
   ]
  }
 ],
 "metadata": {
  "kernelspec": {
   "display_name": "Python 3",
   "language": "python",
   "name": "python3"
  },
  "language_info": {
   "codemirror_mode": {
    "name": "ipython",
    "version": 3
   },
   "file_extension": ".py",
   "mimetype": "text/x-python",
   "name": "python",
   "nbconvert_exporter": "python",
   "pygments_lexer": "ipython3",
   "version": "3.11.3"
  },
  "orig_nbformat": 4
 },
 "nbformat": 4,
 "nbformat_minor": 2
}
