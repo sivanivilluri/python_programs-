{
 "cells": [
  {
   "cell_type": "code",
   "execution_count": 2,
   "metadata": {},
   "outputs": [],
   "source": [
    "fp=open(\"file1.txt\",'w')\n",
    "fp.write(\"Hello this is python class file handling.\\nWe have to do the assignment.\\nHello guys.\")\n",
    "fp.close()"
   ]
  },
  {
   "cell_type": "code",
   "execution_count": 3,
   "metadata": {},
   "outputs": [
    {
     "name": "stdout",
     "output_type": "stream",
     "text": [
      "['Hello', 'this', 'is', 'python', 'class', 'file', 'handling', 'We', 'have', 'to', 'do', 'the', 'assignment', 'Hello', 'guys']\n"
     ]
    }
   ],
   "source": [
    "fp=open(\"file1.txt\",'r')\n",
    "res=fp.read()\n",
    "w=[]\n",
    "s=''\n",
    "for i in res:\n",
    "    if i in ' .\\n' and s!='':\n",
    "        w+=[s]\n",
    "        s=''\n",
    "    if i not in ' .\\n':\n",
    "        s+=i\n",
    "    \n",
    "print(w)\n",
    "fp.close()\n"
   ]
  },
  {
   "cell_type": "code",
   "execution_count": 4,
   "metadata": {},
   "outputs": [
    {
     "name": "stdout",
     "output_type": "stream",
     "text": [
      "['Hello this is python class file handling.\\n', 'Hello guys.']\n"
     ]
    }
   ],
   "source": [
    "fp=open(\"file1.txt\",'r')\n",
    "res=fp.readlines()\n",
    "p='Hello'\n",
    "l=[]\n",
    "for i in res:\n",
    "    if p in i:\n",
    "            l+=[i]\n",
    "print(l)"
   ]
  },
  {
   "cell_type": "code",
   "execution_count": 5,
   "metadata": {},
   "outputs": [],
   "source": [
    "fp=open(\"file3.txt\",'w')\n",
    "fp.write(\"It is a control statement and looping statement.\\nIt is a iterative statement.\\nIt is a While loop.\")\n",
    "fp.close()\n"
   ]
  },
  {
   "cell_type": "code",
   "execution_count": 2,
   "metadata": {},
   "outputs": [
    {
     "name": "stdout",
     "output_type": "stream",
     "text": [
      "Hello this is python class file handling.\n",
      "This is Sivani.\n",
      "We have to do the assignment.\n",
      "Hello guys.Hello guys.Hello guys.Hello guys.Hello guys.Hello guys.Hello guys.Hello guys.Hello guys.Hello guys.Hello guys.Hello guys.Hello guys.Hello guys.Hello guys.Hello guys.Hello guys.Hello guys.Hello guys.Hello guys.Hello guys.Hello guys.Hello guys.Hello guys.Hello guys.Hello guys.Hello guys.Hello guys.Hello guys.Hello guys.Hello guys.Hello guys.Hello guys.Hello guys.Hello guys.Hello guys.Hello guys.Hello guys.Hello guys.Hello guys.Hello guys.Hello guys.Hello guys.Hello guys.Hello guys.Hello guys.Hello guys.Hello guys.Hello guys.Hello guys.Hello guys.Hello guys.Hello guys.Hello guys.Hello guys.Hello guys.Hello guys.Hello guys.Hello guys.Hello guys.Hello guys.Hello guys.Hello guys.Hello guys.\n"
     ]
    }
   ],
   "source": [
    "p='This is Sivani.'\n",
    "fp=open(r\"C:\\Users\\villu\\Documents\\GitHub\\python_programs-\\file1.txt\",'r+',newline='\\n')\n",
    "res=fp.read()\n",
    "res=res.split(\"\\n\")\n",
    "count=0\n",
    "l=[]\n",
    "for i in res:\n",
    "    count+=1\n",
    "    if count==2:\n",
    "        l+=[p]\n",
    "    l+=[i]\n",
    "for i in l:\n",
    "    print(i)\n",
    "fp.close()\n",
    "\n",
    "\n"
   ]
  }
 ],
 "metadata": {
  "kernelspec": {
   "display_name": "Python 3",
   "language": "python",
   "name": "python3"
  },
  "language_info": {
   "codemirror_mode": {
    "name": "ipython",
    "version": 3
   },
   "file_extension": ".py",
   "mimetype": "text/x-python",
   "name": "python",
   "nbconvert_exporter": "python",
   "pygments_lexer": "ipython3",
   "version": "3.11.3"
  },
  "orig_nbformat": 4
 },
 "nbformat": 4,
 "nbformat_minor": 2
}
