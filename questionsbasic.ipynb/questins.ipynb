{
 "cells": [
  {
   "attachments": {},
   "cell_type": "markdown",
   "metadata": {},
   "source": [
    "1.was to print hello world by using shell."
   ]
  },
  {
   "cell_type": "code",
   "execution_count": 1,
   "metadata": {},
   "outputs": [
    {
     "data": {
      "text/plain": [
       "'Hello world'"
      ]
     },
     "execution_count": 1,
     "metadata": {},
     "output_type": "execute_result"
    }
   ],
   "source": [
    "a='Hello world'\n",
    "a"
   ]
  },
  {
   "attachments": {},
   "cell_type": "markdown",
   "metadata": {},
   "source": [
    "2.was to print hello world by using python print function."
   ]
  },
  {
   "cell_type": "code",
   "execution_count": 2,
   "metadata": {},
   "outputs": [
    {
     "name": "stdout",
     "output_type": "stream",
     "text": [
      "Hello world\n"
     ]
    }
   ],
   "source": [
    "a='Hello world'\n",
    "print(a)"
   ]
  },
  {
   "attachments": {},
   "cell_type": "markdown",
   "metadata": {},
   "source": [
    "3. was to initialize variable and value as 50."
   ]
  },
  {
   "cell_type": "code",
   "execution_count": 3,
   "metadata": {},
   "outputs": [
    {
     "name": "stdout",
     "output_type": "stream",
     "text": [
      "50\n"
     ]
    }
   ],
   "source": [
    "x=50\n",
    "print(x)"
   ]
  },
  {
   "attachments": {},
   "cell_type": "markdown",
   "metadata": {},
   "source": [
    "4. was to initialize multi variable values are 150,120,250."
   ]
  },
  {
   "cell_type": "code",
   "execution_count": 4,
   "metadata": {},
   "outputs": [
    {
     "name": "stdout",
     "output_type": "stream",
     "text": [
      "150 120 250\n"
     ]
    }
   ],
   "source": [
    "a,b,c=150,120,250\n",
    "print(a,b,c)"
   ]
  },
  {
   "attachments": {},
   "cell_type": "markdown",
   "metadata": {},
   "source": [
    "5. was to print the type of the data in the given values."
   ]
  },
  {
   "cell_type": "code",
   "execution_count": 6,
   "metadata": {},
   "outputs": [
    {
     "name": "stdout",
     "output_type": "stream",
     "text": [
      "<class 'bool'>\n"
     ]
    }
   ],
   "source": [
    "a=True\n",
    "print(type(a))"
   ]
  },
  {
   "attachments": {},
   "cell_type": "markdown",
   "metadata": {},
   "source": [
    "6. was to print the address of the memory block in given value."
   ]
  },
  {
   "cell_type": "code",
   "execution_count": 7,
   "metadata": {},
   "outputs": [
    {
     "name": "stdout",
     "output_type": "stream",
     "text": [
      "2080835521984\n",
      "2080835262272\n",
      "2080835374208\n"
     ]
    }
   ],
   "source": [
    "x=(1,2,3)\n",
    "y=[6,7,8]\n",
    "z={'a':10,'b':20}\n",
    "print(id(x))\n",
    "print(id(y))\n",
    "print(id(z))"
   ]
  },
  {
   "attachments": {},
   "cell_type": "markdown",
   "metadata": {},
   "source": [
    "7. was to print your details,first store your details,extract the values and display."
   ]
  },
  {
   "cell_type": "code",
   "execution_count": 8,
   "metadata": {},
   "outputs": [
    {
     "name": "stdout",
     "output_type": "stream",
     "text": [
      "{'name': 'Sivani', 'age': 21, 'Qualification': 'BTECH'}\n"
     ]
    }
   ],
   "source": [
    "d={'name':'Sivani','age':21,'Qualification':'BTECH'}\n",
    "print(d)"
   ]
  },
  {
   "attachments": {},
   "cell_type": "markdown",
   "metadata": {},
   "source": [
    "8. was to swap two values with temp variable."
   ]
  },
  {
   "cell_type": "code",
   "execution_count": 9,
   "metadata": {},
   "outputs": [
    {
     "name": "stdout",
     "output_type": "stream",
     "text": [
      "20\n",
      "10\n"
     ]
    }
   ],
   "source": [
    "a=10\n",
    "b=20\n",
    "temp=a\n",
    "a=b\n",
    "b=temp\n",
    "print(a)\n",
    "print(b)"
   ]
  },
  {
   "attachments": {},
   "cell_type": "markdown",
   "metadata": {},
   "source": [
    "9. was to swap the values without using temp variable."
   ]
  },
  {
   "cell_type": "code",
   "execution_count": 10,
   "metadata": {},
   "outputs": [
    {
     "name": "stdout",
     "output_type": "stream",
     "text": [
      "(10, 20)\n",
      "{'a': 10}\n"
     ]
    }
   ],
   "source": [
    "m={'a':10}\n",
    "n=(10,20)\n",
    "m,n=n,m\n",
    "print(m)\n",
    "print(n)"
   ]
  },
  {
   "attachments": {},
   "cell_type": "markdown",
   "metadata": {},
   "source": [
    "10. was to initialise the value and print the value,after print then reinitialize the new value to the existing variable and display the value."
   ]
  },
  {
   "cell_type": "code",
   "execution_count": 11,
   "metadata": {},
   "outputs": [
    {
     "name": "stdout",
     "output_type": "stream",
     "text": [
      "15\n",
      "(1, 2)\n"
     ]
    }
   ],
   "source": [
    "a=15\n",
    "print(a)\n",
    "a=(1,2)\n",
    "print(a)"
   ]
  },
  {
   "attachments": {},
   "cell_type": "markdown",
   "metadata": {},
   "source": [
    "29. ws to modify the first 4 positions values into given list"
   ]
  },
  {
   "cell_type": "code",
   "execution_count": 12,
   "metadata": {},
   "outputs": [
    {
     "name": "stdout",
     "output_type": "stream",
     "text": [
      "[1, 2, 3, 4, 5, 6] 2080834588928\n",
      "['a', 'b', 'c', 'd', 5, 6] 2080834588928\n"
     ]
    }
   ],
   "source": [
    "l=[1,2,3,4,5,6]\n",
    "print(l,id(l))\n",
    "l[0:4]=['a','b','c','d']\n",
    "print(l,id(l))"
   ]
  },
  {
   "attachments": {},
   "cell_type": "markdown",
   "metadata": {},
   "source": [
    "30. was to delete the value in the specific poition of the given list."
   ]
  },
  {
   "cell_type": "code",
   "execution_count": 14,
   "metadata": {},
   "outputs": [
    {
     "name": "stdout",
     "output_type": "stream",
     "text": [
      "[1, 2, 3, 4, 5, 6] 2080835492992\n",
      "[1, 2, 3, 5, 6] 2080835492992\n"
     ]
    }
   ],
   "source": [
    "l=[1,2,3,4,5,6]\n",
    "print(l,id(l))\n",
    "del l[3]\n",
    "print(l,id(l))"
   ]
  },
  {
   "attachments": {},
   "cell_type": "markdown",
   "metadata": {},
   "source": [
    "31. was to delete the value in the ending of the given list."
   ]
  },
  {
   "cell_type": "code",
   "execution_count": 16,
   "metadata": {},
   "outputs": [
    {
     "name": "stdout",
     "output_type": "stream",
     "text": [
      "[1, 2, 3, 4, 5, 6] 2080812828224\n",
      "[1, 2, 3, 4, 5] 2080812828224\n",
      "------------------------------------------------------------------------------------------\n",
      "[1, 2, 3, 4, 5, 6] 2080835454464\n",
      "[1, 2, 3, 4, 5] 2080835454464\n"
     ]
    }
   ],
   "source": [
    "l=[1,2,3,4,5,6]\n",
    "print(l,id(l))\n",
    "del l[-1]\n",
    "print(l,id(l))\n",
    "\n",
    "print('---'*30)\n",
    "\n",
    "l=[1,2,3,4,5,6]\n",
    "print(l,id(l))\n",
    "del l[len(l)-1]\n",
    "print(l,id(l))"
   ]
  },
  {
   "attachments": {},
   "cell_type": "markdown",
   "metadata": {},
   "source": [
    "32. was to delete the value in the middle of the list."
   ]
  },
  {
   "cell_type": "code",
   "execution_count": 17,
   "metadata": {},
   "outputs": [
    {
     "name": "stdout",
     "output_type": "stream",
     "text": [
      "[1, 2, 3, 4, 5, 6, 7] 2080812895104\n",
      "[1, 2, 3, 5, 6, 7] 2080812895104\n"
     ]
    }
   ],
   "source": [
    "l=[1,2,3,4,5,6,7]\n",
    "print(l,id(l))\n",
    "del l[len(l)//2]\n",
    "print(l,id(l))"
   ]
  },
  {
   "attachments": {},
   "cell_type": "markdown",
   "metadata": {},
   "source": [
    "33. was to delete the value into starting of the list."
   ]
  },
  {
   "cell_type": "code",
   "execution_count": 20,
   "metadata": {},
   "outputs": [
    {
     "name": "stdout",
     "output_type": "stream",
     "text": [
      "[1, 2, 3, 4, 5, 6] 2080840941056\n",
      "[2, 3, 4, 5, 6] 2080840941056\n",
      "------------------------------------------------------------------------------------------\n",
      "[1, 2, 3, 4, 5, 6] 2080840938688\n",
      "[2, 3, 4, 5, 6] 2080840938688\n"
     ]
    }
   ],
   "source": [
    "l=[1,2,3,4,5,6]\n",
    "print(l,id(l))\n",
    "del l[0]\n",
    "print(l,id(l))\n",
    "\n",
    "print('---'*30)\n",
    "\n",
    "l=[1,2,3,4,5,6]\n",
    "print(l,id(l))\n",
    "del l[-(len(l))]\n",
    "print(l,id(l))"
   ]
  },
  {
   "attachments": {},
   "cell_type": "markdown",
   "metadata": {},
   "source": [
    "34. was to delete the sequence into starting of the list."
   ]
  },
  {
   "cell_type": "code",
   "execution_count": 22,
   "metadata": {},
   "outputs": [
    {
     "name": "stdout",
     "output_type": "stream",
     "text": [
      "[1, 2, 3, 4, 5, 6] 2080840876928\n",
      "[5, 6] 2080840876928\n",
      "------------------------------------------------------------------------------------------\n",
      "[1, 2, 3, 4, 5, 6, 'a', 'b', 'c', 'd', 'e'] 2080841045952\n",
      "[1, 6, 'a', 'b', 'c', 'd', 'e'] 2080841045952\n"
     ]
    }
   ],
   "source": [
    "l=[1,2,3,4,5,6]\n",
    "print(l,id(l))\n",
    "del l[0:4]\n",
    "print(l,id(l))\n",
    "\n",
    "print('---'*30)\n",
    "\n",
    "l=[1,2,3,4,5,6,'a','b','c','d','e']\n",
    "print(l,id(l))\n",
    "del l[4:0:-1]\n",
    "print(l,id(l))"
   ]
  },
  {
   "attachments": {},
   "cell_type": "markdown",
   "metadata": {},
   "source": [
    "35. was to concate the new value into starting of the tuple."
   ]
  },
  {
   "cell_type": "code",
   "execution_count": 29,
   "metadata": {},
   "outputs": [
    {
     "name": "stdout",
     "output_type": "stream",
     "text": [
      "('hello', 'good', 'morning', 'good night') 2080841169504\n",
      "('haii', 'hello', 'good', 'morning', 'good night') 2080841160864\n"
     ]
    }
   ],
   "source": [
    "t=('hello','good','morning','good night')\n",
    "print(t,id(t))\n",
    "t=('haii',)+t\n",
    "print(t,id(t))\n",
    "\n",
    "#as tuple is multivalue datatype we need to concate multiple values."
   ]
  },
  {
   "attachments": {},
   "cell_type": "markdown",
   "metadata": {},
   "source": [
    "36. was to concate the new value into middle of the tuple."
   ]
  },
  {
   "cell_type": "code",
   "execution_count": 28,
   "metadata": {},
   "outputs": [
    {
     "name": "stdout",
     "output_type": "stream",
     "text": [
      "('hello', 'good', 'morning', 'good night') 2080841169504\n",
      "('hello', 'good', [10, 20], 'morning', 'good night') 2080841160864\n"
     ]
    }
   ],
   "source": [
    "#as direct modification is not possible we go for slicing and concatenation.\n",
    "t=('hello','good','morning','good night')\n",
    "print(t,id(t))\n",
    "t= t[:len(t)//2]+([10,20],)+t[len(t)//2:]\n",
    "print(t,id(t))"
   ]
  },
  {
   "attachments": {},
   "cell_type": "markdown",
   "metadata": {},
   "source": [
    "37. was to concate the new value into specific position of the tuple."
   ]
  },
  {
   "cell_type": "code",
   "execution_count": 27,
   "metadata": {},
   "outputs": [
    {
     "name": "stdout",
     "output_type": "stream",
     "text": [
      "('hello', 'good', 'morning', 'good night') 2080841167824\n",
      "('hello', 'good', 'morning', [10, 20], 'good night') 2080841160864\n"
     ]
    }
   ],
   "source": [
    "t=('hello','good','morning','good night')\n",
    "print(t,id(t))\n",
    "t= t[:3]+([10,20],)+t[3:]\n",
    "print(t,id(t))"
   ]
  },
  {
   "attachments": {},
   "cell_type": "markdown",
   "metadata": {},
   "source": [
    "38. was to concate the new value into ending of the tuple."
   ]
  },
  {
   "cell_type": "code",
   "execution_count": 32,
   "metadata": {},
   "outputs": [
    {
     "name": "stdout",
     "output_type": "stream",
     "text": [
      "('hello', 'good', 'morning', 'good night') 2080841159104\n",
      "('hello', 'good', 'morning', 'good night', 'bye bye') 2080841268608\n"
     ]
    }
   ],
   "source": [
    "t=('hello','good','morning','good night')\n",
    "print(t,id(t))\n",
    "t+=('bye bye',)\n",
    "print(t,id(t))\n",
    "#as tuple is immutable we cannot modify inside the tuple in the same memory block.hence the address will be different even after using compount assignment operator."
   ]
  },
  {
   "attachments": {},
   "cell_type": "markdown",
   "metadata": {},
   "source": [
    "39. was to modify the values in the tuple. "
   ]
  },
  {
   "cell_type": "code",
   "execution_count": 36,
   "metadata": {},
   "outputs": [
    {
     "name": "stdout",
     "output_type": "stream",
     "text": [
      "('hello', 'good', 'morning', 'good night', 'bye', 'bye bye') 2080841373472\n",
      "('haii', 'good', 'morning', 'good night', 'bye', 'bye bye') 2080841371840\n",
      "------------------------------------------------------------------------------------------\n",
      "('hello', 'good', 'morning', 'good night', 'bye', 'bye bye') 2080841373472\n",
      "('hello', 'good', 'morning', 'good night', 'bye', 'good bye') 2080841371840\n",
      "------------------------------------------------------------------------------------------\n",
      "('hello', 'good', 'morning', 'good night', 'bye', 'bye bye') 2080841373472\n",
      "('hello', 'good', 'afternoon', 'good night', 'bye', 'bye bye') 2080841371840\n",
      "------------------------------------------------------------------------------------------\n",
      "('hello', 'good', 'morning', 'good night', 'bye', 'bye bye') 2080841373472\n",
      "('hello', 'good', 'morning', 'afternoon', 'bye', 'bye bye') 2080841371840\n",
      "------------------------------------------------------------------------------------------\n",
      "('hello', 'good', 'morning', 'good night', 'bye', 'bye bye') 2080841373472\n",
      "('hello', 'good', [10, 2, 0], 'bye', 'bye bye') 2080841322784\n"
     ]
    }
   ],
   "source": [
    "#starting\n",
    "x=('hello','good','morning','good night','bye','bye bye')\n",
    "print(x,id(x))\n",
    "x=('haii',)+x[1:]\n",
    "print(x,id(x))\n",
    "\n",
    "print('---'*30)\n",
    "\n",
    "#ending\n",
    "x=('hello','good','morning','good night','bye','bye bye')\n",
    "print(x,id(x))\n",
    "x=x[0:-1]+('good bye',)\n",
    "print(x,id(x))\n",
    "\n",
    "print('---'*30)\n",
    "\n",
    "#specific position\n",
    "x=('hello','good','morning','good night','bye','bye bye')\n",
    "print(x,id(x))\n",
    "x=x[0:2]+('afternoon',)+x[2+1:]\n",
    "print(x,id(x))\n",
    "\n",
    "print('---'*30)\n",
    "\n",
    "#middle\n",
    "x=('hello','good','morning','good night','bye','bye bye')\n",
    "print(x,id(x))\n",
    "x=x[:len(x)//2]+('afternoon',)+x[len(x)//2+1:]\n",
    "print(x,id(x))\n",
    "\n",
    "print('---'*30)\n",
    "\n",
    "#sequence of values\n",
    "x=('hello','good','morning','good night','bye','bye bye')\n",
    "print(x,id(x))\n",
    "x=x[:2]+([10,2,0],)+x[4:]\n",
    "print(x,id(x))\n",
    "\n"
   ]
  },
  {
   "attachments": {},
   "cell_type": "markdown",
   "metadata": {},
   "source": [
    "40. was to modify the values in the tuple. "
   ]
  },
  {
   "cell_type": "code",
   "execution_count": 37,
   "metadata": {},
   "outputs": [
    {
     "name": "stdout",
     "output_type": "stream",
     "text": [
      "('hello', 'good', 'morning', 'good night', 'bye', 'bye bye') 2080841373472\n",
      "('good', 'morning', 'good night', 'bye', 'bye bye') 2080841322784\n",
      "------------------------------------------------------------------------------------------\n",
      "('hello', 'good', 'morning', 'good night', 'bye', 'bye bye') 2080841373472\n",
      "('hello', 'good', 'morning', 'good night', 'bye') 2080841322784\n",
      "------------------------------------------------------------------------------------------\n",
      "('hello', 'good', 'morning', 'good night', 'bye', 'bye bye') 2080841373472\n",
      "('hello', 'good', 'good night', 'bye', 'bye bye') 2080841322784\n",
      "------------------------------------------------------------------------------------------\n",
      "('hello', 'good', 'morning', 'good night', 'bye', 'bye bye') 2080841373472\n",
      "('hello', 'good', 'morning', 'bye', 'bye bye') 2080841322784\n",
      "------------------------------------------------------------------------------------------\n",
      "('hello', 'good', 'morning', 'good night', 'bye', 'bye bye') 2080841373472\n",
      "('hello', 'good', 'bye', 'bye bye') 2080841331584\n"
     ]
    }
   ],
   "source": [
    "#starting\n",
    "x=('hello','good','morning','good night','bye','bye bye')\n",
    "print(x,id(x))\n",
    "x=x[1:]\n",
    "print(x,id(x))\n",
    "\n",
    "print('---'*30)\n",
    "\n",
    "#ending\n",
    "x=('hello','good','morning','good night','bye','bye bye')\n",
    "print(x,id(x))\n",
    "x=x[0:-1]\n",
    "print(x,id(x))\n",
    "\n",
    "print('---'*30)\n",
    "\n",
    "#specific position\n",
    "x=('hello','good','morning','good night','bye','bye bye')\n",
    "print(x,id(x))\n",
    "x=x[0:2]+x[2+1:]\n",
    "print(x,id(x))\n",
    "\n",
    "print('---'*30)\n",
    "\n",
    "#middle\n",
    "x=('hello','good','morning','good night','bye','bye bye')\n",
    "print(x,id(x))\n",
    "x=x[:len(x)//2]+x[len(x)//2+1:]\n",
    "print(x,id(x))\n",
    "\n",
    "print('---'*30)\n",
    "\n",
    "#sequence of values\n",
    "x=('hello','good','morning','good night','bye','bye bye')\n",
    "print(x,id(x))\n",
    "x=x[:2]+x[4:]\n",
    "print(x,id(x))\n"
   ]
  },
  {
   "attachments": {},
   "cell_type": "markdown",
   "metadata": {},
   "source": [
    "41. wap to perform the set operations."
   ]
  },
  {
   "cell_type": "code",
   "execution_count": 38,
   "metadata": {},
   "outputs": [
    {
     "name": "stdout",
     "output_type": "stream",
     "text": [
      "{50, 20, 40, 10, 60, 30}\n",
      "{50, 20, 40, 10, 60, 30}\n",
      "{40, 10, 30}\n"
     ]
    }
   ],
   "source": [
    "#union/concate\n",
    "s={10,20,30,40}\n",
    "t={20,50,60}\n",
    "res=s|t\n",
    "print(res)\n",
    "\n",
    "#union_updation\n",
    "s={10,20,30,40}\n",
    "t={20,50,60}\n",
    "s|=t\n",
    "print(s)\n",
    "\n",
    "#difference/delete\n",
    "s={10,20,30,40}\n",
    "t={20}\n",
    "res=s-t\n",
    "print(res)\n",
    "\n",
    "#difference_update/delete\n",
    "s={10,20,30,40}\n",
    "t={20}\n",
    "s-=t\n",
    "print(s)\n",
    "\n"
   ]
  },
  {
   "attachments": {},
   "cell_type": "markdown",
   "metadata": {},
   "source": [
    "42. was to concate the new key and value into the dictionary."
   ]
  },
  {
   "cell_type": "code",
   "execution_count": 41,
   "metadata": {},
   "outputs": [
    {
     "name": "stdout",
     "output_type": "stream",
     "text": [
      "{'a': 10, 'hello': 'bye'} 2080841211968\n",
      "{'a': 10, 'hello': 'bye', 'c': 30} 2080841211968\n",
      "------------------------------------------------------------------------------------------\n",
      "{'a': 10, 'hello': 'bye'} 2080841211840\n",
      "{'a': 10, 'hello': 'bye', 'apple': 10, 'bat': 1500, 'ball': 60} 2080841211840\n",
      "------------------------------------------------------------------------------------------\n",
      "{'a': 10, 'hello': 'bye'} 2080841344768\n",
      "{'a': 10, 'hello': 'bye', 'apple': 200, 'bat': 'bye', 'ball': 60} 2080841344768\n"
     ]
    }
   ],
   "source": [
    "#adding single value\n",
    "d={'a':10,'hello':'bye'}\n",
    "print(d,id(d))\n",
    "d['c']=30\n",
    "print(d,id(d))\n",
    "\n",
    "print('---'*30)\n",
    "\n",
    "#adding multiple key value pairs without changing address.\n",
    "d={'a':10,'hello':'bye'}\n",
    "print(d,id(d))\n",
    "x={'apple':10,'bat':1500,'ball':60}\n",
    "d|=x\n",
    "print(d,id(d))\n",
    "print('---'*30)\n",
    "\n",
    "#changing one val.ue of same key and changing value of different key\n",
    "d={'a':10,'hello':'bye'}\n",
    "print(d,id(d))\n",
    "x={'apple':200,'bat':'bye','ball':60}\n",
    "d|=x\n",
    "print(d,id(d))\n"
   ]
  },
  {
   "attachments": {},
   "cell_type": "markdown",
   "metadata": {},
   "source": [
    "43. was to delete the specific key and value in given dict."
   ]
  },
  {
   "cell_type": "code",
   "execution_count": 45,
   "metadata": {},
   "outputs": [
    {
     "name": "stdout",
     "output_type": "stream",
     "text": [
      "{'apple': 200, 'hello': 'bye', 'bat': 'bye', 'ball': 60} 2080841060352\n",
      "{'apple': 200, 'hello': 'bye', 'bat': 'bye'} 2080841060352\n",
      "------------------------------------------------------------------------------------------\n",
      "{'apple': 200, 'hello': 'bye', 'bat': 'bye', 'ball': 60} 2080835540032\n",
      "{'hello': 'bye', 'bat': 'bye'} 2080835540032\n"
     ]
    }
   ],
   "source": [
    "x={'apple':200,'hello':'bye','bat':'bye','ball':60}\n",
    "print(x,id(x))\n",
    "del x['ball']\n",
    "print(x,id(x))\n",
    "\n",
    "print('---'*30)\n",
    "\n",
    "#we cannot delete multiple keys at a time directly but can do by type casting\n",
    "x={'apple':200,'hello':'bye','bat':'bye','ball':60}\n",
    "print(x,id(x))\n",
    "del [x['ball'],x['apple']]\n",
    "print(x,id(x))\n"
   ]
  },
  {
   "attachments": {},
   "cell_type": "markdown",
   "metadata": {},
   "source": [
    "44. was to modify the values in given dictionary."
   ]
  },
  {
   "cell_type": "code",
   "execution_count": 47,
   "metadata": {},
   "outputs": [
    {
     "name": "stdout",
     "output_type": "stream",
     "text": [
      "{'apple': 200, 'hello': 'bye', 'bat': 'bye', 'ball': 60} 2080841427584\n",
      "{'apple': 1500, 'hello': 'bye', 'bat': 'bye', 'ball': 60} 2080841427584\n",
      "------------------------------------------------------------------------------------------\n",
      "{'apple': 200, 'hello': 'bye', 'bat': 'bye', 'ball': 60} 2080841420672\n",
      "{'apple': 1500, 'hello': 'helloworld', 'bat': 'bye', 'ball': 60} 2080841420672\n"
     ]
    }
   ],
   "source": [
    "x={'apple':200,'hello':'bye','bat':'bye','ball':60}\n",
    "print(x,id(x))\n",
    "x['apple']=1500\n",
    "print(x,id(x))\n",
    "\n",
    "print('---'*30)\n",
    "\n",
    "#can modify multiple key value pairs by using set union operator\n",
    "x={'apple':200,'hello':'bye','bat':'bye','ball':60}\n",
    "print(x,id(x))\n",
    "t={'apple':1500,'hello':'helloworld'}\n",
    "x|=t\n",
    "print(x,id(x))\n",
    "\n"
   ]
  }
 ],
 "metadata": {
  "kernelspec": {
   "display_name": "Python 3",
   "language": "python",
   "name": "python3"
  },
  "language_info": {
   "codemirror_mode": {
    "name": "ipython",
    "version": 3
   },
   "file_extension": ".py",
   "mimetype": "text/x-python",
   "name": "python",
   "nbconvert_exporter": "python",
   "pygments_lexer": "ipython3",
   "version": "3.11.3"
  },
  "orig_nbformat": 4
 },
 "nbformat": 4,
 "nbformat_minor": 2
}
