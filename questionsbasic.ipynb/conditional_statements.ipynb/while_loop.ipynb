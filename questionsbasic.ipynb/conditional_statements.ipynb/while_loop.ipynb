{
 "cells": [
  {
   "attachments": {},
   "cell_type": "markdown",
   "metadata": {},
   "source": [
    "x=\"PYSPIDERS 10string QSPIDERS Ram Sam 10 20 30 Hello venu kashi\""
   ]
  },
  {
   "cell_type": "code",
   "execution_count": 3,
   "metadata": {},
   "outputs": [
    {
     "name": "stdout",
     "output_type": "stream",
     "text": [
      "PYSPIDERS"
     ]
    }
   ],
   "source": [
    "#1.PYSPIDERS\n",
    "x=\"PYSPIDERS 10string QSPIDERS Ram Sam 10 20 30 Hello venu kashi\"\n",
    "start=0\n",
    "end=8\n",
    "while start<=end:\n",
    "    print(x[start],end='')\n",
    "    start+=1\n"
   ]
  },
  {
   "cell_type": "code",
   "execution_count": 4,
   "metadata": {},
   "outputs": [
    {
     "name": "stdout",
     "output_type": "stream",
     "text": [
      "str"
     ]
    }
   ],
   "source": [
    "#2.str\n",
    "x=\"PYSPIDERS 10string QSPIDERS Ram Sam 10 20 30 Hello venu kashi\"\n",
    "start=12\n",
    "end=14\n",
    "while start<=end:\n",
    "    print(x[start],end='')\n",
    "    start+=1\n",
    "\n"
   ]
  },
  {
   "cell_type": "code",
   "execution_count": 2,
   "metadata": {},
   "outputs": [
    {
     "name": "stdout",
     "output_type": "stream",
     "text": [
      "SPIDE"
     ]
    }
   ],
   "source": [
    "#3.SPIDE\n",
    "x=\"PYSPIDERS 10string QSPIDERS Ram Sam 10 20 30 Hello venu kashi\"\n",
    "start=2\n",
    "end=6\n",
    "while start<=end:\n",
    "    print(x[start],end='')\n",
    "    start+=1\n"
   ]
  },
  {
   "cell_type": "code",
   "execution_count": 10,
   "metadata": {},
   "outputs": [
    {
     "name": "stdout",
     "output_type": "stream",
     "text": [
      "QPD"
     ]
    }
   ],
   "source": [
    "#4.QPD\n",
    "x=\"PYSPIDERS 10string QSPIDERS Ram Sam 10 20 30 Hello venu kashi\"\n",
    "start=19\n",
    "end=24\n",
    "while start<=end:\n",
    "    print(x[start],end='')\n",
    "    start+=2\n"
   ]
  },
  {
   "cell_type": "code",
   "execution_count": 12,
   "metadata": {},
   "outputs": [
    {
     "name": "stdout",
     "output_type": "stream",
     "text": [
      "maS maR "
     ]
    }
   ],
   "source": [
    "#5.maS maR\n",
    "x=\"PYSPIDERS 10string QSPIDERS Ram Sam 10 20 30 Hello venu kashi\"\n",
    "start=34\n",
    "end=27\n",
    "while start>=end:\n",
    "    print(x[start],end='')\n",
    "    start-=1\n"
   ]
  },
  {
   "cell_type": "code",
   "execution_count": 38,
   "metadata": {},
   "outputs": [
    {
     "name": "stdout",
     "output_type": "stream",
     "text": [
      "30 10 20"
     ]
    }
   ],
   "source": [
    "#6.30 10 20\n",
    "x=\"PYSPIDERS 10string QSPIDERS Ram Sam 10 20 30 Hello venu kashi\"\n",
    "start=-19\n",
    "end=-18\n",
    "while start<=end:\n",
    "    print(x[start],end='')\n",
    "    start+=1\n",
    "\n",
    "start=-26\n",
    "end=-24\n",
    "while start<=end:\n",
    "    print(x[start],end='')\n",
    "    start+=1\n",
    "\n",
    "start=-23\n",
    "end=-21\n",
    "while start<=end:\n",
    "    print(x[start],end='')\n",
    "    start+=1\n"
   ]
  },
  {
   "cell_type": "code",
   "execution_count": 13,
   "metadata": {},
   "outputs": [
    {
     "name": "stdout",
     "output_type": "stream",
     "text": [
      "venu"
     ]
    }
   ],
   "source": [
    "#7.venu\n",
    "x=\"PYSPIDERS 10string QSPIDERS Ram Sam 10 20 30 Hello venu kashi\"\n",
    "start=-10\n",
    "end=-7\n",
    "while start<=end:\n",
    "    print(x[start],end='')\n",
    "    start+=1\n"
   ]
  },
  {
   "cell_type": "code",
   "execution_count": 17,
   "metadata": {},
   "outputs": [
    {
     "name": "stdout",
     "output_type": "stream",
     "text": [
      "kashi venu"
     ]
    }
   ],
   "source": [
    "#8.kashi venu\n",
    "x=\"PYSPIDERS 10string QSPIDERS Ram Sam 10 20 30 Hello venu kashi\"\n",
    "start=-5\n",
    "end=-1\n",
    "while start<=end:\n",
    "    print(x[start],end='')\n",
    "    start+=1\n",
    "\n",
    "start=-11\n",
    "end=-7\n",
    "while start<=end:\n",
    "    print(x[start],end='')\n",
    "    start+=1\n",
    "\n"
   ]
  },
  {
   "cell_type": "code",
   "execution_count": 20,
   "metadata": {},
   "outputs": [
    {
     "name": "stdout",
     "output_type": "stream",
     "text": [
      "SEIS"
     ]
    }
   ],
   "source": [
    "#9.SEIS\n",
    "x=\"PYSPIDERS 10string QSPIDERS Ram Sam 10 20 30 Hello venu kashi\"\n",
    "start=8\n",
    "end=2\n",
    "while start>=end:\n",
    "    print(x[start],end='')\n",
    "    start-=2\n"
   ]
  },
  {
   "cell_type": "code",
   "execution_count": 21,
   "metadata": {},
   "outputs": [
    {
     "name": "stdout",
     "output_type": "stream",
     "text": [
      "srn"
     ]
    }
   ],
   "source": [
    "#10.srn\n",
    "x=\"PYSPIDERS 10string QSPIDERS Ram Sam 10 20 30 Hello venu kashi\"\n",
    "start=12\n",
    "end=16\n",
    "while start<=end:\n",
    "    print(x[start],end='')\n",
    "    start+=2\n"
   ]
  },
  {
   "cell_type": "code",
   "execution_count": 3,
   "metadata": {},
   "outputs": [
    {
     "name": "stdout",
     "output_type": "stream",
     "text": [
      "SEDIP"
     ]
    }
   ],
   "source": [
    "#11.SEDIP\n",
    "x=\"PYSPIDERS 10string QSPIDERS Ram Sam 10 20 30 Hello venu kashi\"\n",
    "start=8\n",
    "end=6\n",
    "while start>=end:\n",
    "    print(x[start],end='')\n",
    "    start-=2\n",
    "start=5\n",
    "end=3\n",
    "while start>=end:\n",
    "    print(x[start],end='')\n",
    "    start-=1\n"
   ]
  },
  {
   "cell_type": "code",
   "execution_count": 22,
   "metadata": {},
   "outputs": [
    {
     "name": "stdout",
     "output_type": "stream",
     "text": [
      "SREDIPSQ"
     ]
    }
   ],
   "source": [
    "#12.SREDIPSQ\n",
    "x=\"PYSPIDERS 10string QSPIDERS Ram Sam 10 20 30 Hello venu kashi\"\n",
    "start=26\n",
    "end=19\n",
    "while start>=end:\n",
    "    print(x[start],end='')\n",
    "    start-=1\n"
   ]
  },
  {
   "cell_type": "code",
   "execution_count": 23,
   "metadata": {},
   "outputs": [
    {
     "name": "stdout",
     "output_type": "stream",
     "text": [
      "gnirts01"
     ]
    }
   ],
   "source": [
    "#13.gnirts01\n",
    "x=\"PYSPIDERS 10string QSPIDERS Ram Sam 10 20 30 Hello venu kashi\"\n",
    "start=17\n",
    "end=10\n",
    "while start>=end:\n",
    "    print(x[start],end='')\n",
    "    start-=1\n"
   ]
  },
  {
   "cell_type": "code",
   "execution_count": 24,
   "metadata": {},
   "outputs": [
    {
     "name": "stdout",
     "output_type": "stream",
     "text": [
      "a\n"
     ]
    }
   ],
   "source": [
    "#14.a\n",
    "x=\"PYSPIDERS 10string QSPIDERS Ram Sam 10 20 30 Hello venu kashi\"\n",
    "\n",
    "print(x[-4])\n",
    "\n"
   ]
  },
  {
   "cell_type": "code",
   "execution_count": 32,
   "metadata": {},
   "outputs": [
    {
     "name": "stdout",
     "output_type": "stream",
     "text": [
      "Sm"
     ]
    }
   ],
   "source": [
    "#15.Sm\n",
    "x=\"PYSPIDERS 10string QSPIDERS Ram Sam 10 20 30 Hello venu kashi\"\n",
    "start=-29\n",
    "end=-27\n",
    "while start<=end:\n",
    "    print(x[start],end='')\n",
    "    start+=2\n"
   ]
  },
  {
   "cell_type": "code",
   "execution_count": 4,
   "metadata": {},
   "outputs": [
    {
     "name": "stdout",
     "output_type": "stream",
     "text": [
      "SREDIPSQ"
     ]
    }
   ],
   "source": [
    "#16.SREDIPSQ\n",
    "x=\"PYSPIDERS 10string QSPIDERS Ram Sam 10 20 30 Hello venu kashi\"\n",
    "start=26\n",
    "end=19\n",
    "while start>=end:\n",
    "    print(x[start],end='')\n",
    "    start-=1\n"
   ]
  },
  {
   "cell_type": "code",
   "execution_count": 1,
   "metadata": {},
   "outputs": [
    {
     "name": "stdout",
     "output_type": "stream",
     "text": [
      "65\n",
      "115\n",
      "105\n",
      "99\n",
      "99\n"
     ]
    }
   ],
   "source": [
    "x=input('enter astring:')\n",
    "start=0\n",
    "while start<len(x):\n",
    "    print(ord(x[start]))\n",
    "    start+=1"
   ]
  },
  {
   "attachments": {},
   "cell_type": "markdown",
   "metadata": {},
   "source": [
    "1. WAP to print the “hello world” for 5 times by using a while loop."
   ]
  },
  {
   "cell_type": "code",
   "execution_count": 2,
   "metadata": {},
   "outputs": [
    {
     "name": "stdout",
     "output_type": "stream",
     "text": [
      "hello world\n",
      "hello world\n",
      "hello world\n",
      "hello world\n",
      "hello world\n"
     ]
    }
   ],
   "source": [
    "x='hello world'\n",
    "start=1\n",
    "while start<=5:\n",
    "    print(x)\n",
    "    start+=1"
   ]
  },
  {
   "attachments": {},
   "cell_type": "markdown",
   "metadata": {},
   "source": [
    "2. WAP to print the number from 1 to 10 by using a while loop."
   ]
  },
  {
   "cell_type": "code",
   "execution_count": 3,
   "metadata": {},
   "outputs": [
    {
     "name": "stdout",
     "output_type": "stream",
     "text": [
      "1\n",
      "2\n",
      "3\n",
      "4\n",
      "5\n",
      "6\n",
      "7\n",
      "8\n",
      "9\n",
      "10\n"
     ]
    }
   ],
   "source": [
    "start=1\n",
    "while start<=10:\n",
    "    print(start)\n",
    "    start+=1"
   ]
  },
  {
   "attachments": {},
   "cell_type": "markdown",
   "metadata": {},
   "source": [
    "3. WAP to print the natural number until 1 to nth times by using a while loop."
   ]
  },
  {
   "cell_type": "code",
   "execution_count": null,
   "metadata": {},
   "outputs": [],
   "source": []
  },
  {
   "attachments": {},
   "cell_type": "markdown",
   "metadata": {},
   "source": [
    "4. WAP to print the reverse of the natural number nth to 0 times by using a while loop"
   ]
  },
  {
   "cell_type": "code",
   "execution_count": null,
   "metadata": {},
   "outputs": [],
   "source": []
  },
  {
   "attachments": {},
   "cell_type": "markdown",
   "metadata": {},
   "source": [
    "5. WAP to print the whole number until nth times by using a while loop."
   ]
  },
  {
   "cell_type": "code",
   "execution_count": null,
   "metadata": {},
   "outputs": [],
   "source": []
  },
  {
   "attachments": {},
   "cell_type": "markdown",
   "metadata": {},
   "source": [
    "6. WAP to print the reverse of the whole number until nth times by using a while loop"
   ]
  },
  {
   "cell_type": "code",
   "execution_count": null,
   "metadata": {},
   "outputs": [],
   "source": []
  },
  {
   "attachments": {},
   "cell_type": "markdown",
   "metadata": {},
   "source": [
    "7. WAP to print the even number until nth times by using a while loop."
   ]
  },
  {
   "cell_type": "code",
   "execution_count": null,
   "metadata": {},
   "outputs": [],
   "source": []
  },
  {
   "attachments": {},
   "cell_type": "markdown",
   "metadata": {},
   "source": [
    "8. WAP to print reserve the even number until nth times by using a while loop."
   ]
  },
  {
   "cell_type": "code",
   "execution_count": null,
   "metadata": {},
   "outputs": [],
   "source": []
  },
  {
   "attachments": {},
   "cell_type": "markdown",
   "metadata": {},
   "source": [
    "9. WAP to print the odd number until nth times by using a while loop."
   ]
  },
  {
   "cell_type": "code",
   "execution_count": null,
   "metadata": {},
   "outputs": [],
   "source": []
  },
  {
   "attachments": {},
   "cell_type": "markdown",
   "metadata": {},
   "source": [
    "10. WAP to print reserve the odd number until nth times by using a while loop."
   ]
  },
  {
   "cell_type": "code",
   "execution_count": null,
   "metadata": {},
   "outputs": [],
   "source": []
  },
  {
   "attachments": {},
   "cell_type": "markdown",
   "metadata": {},
   "source": [
    "11. WAP to print the nth table 1 to 20, format ==> 5 * 1 = 5 to 5 * 20 = 100"
   ]
  },
  {
   "cell_type": "code",
   "execution_count": 6,
   "metadata": {},
   "outputs": [
    {
     "name": "stdout",
     "output_type": "stream",
     "text": [
      "5 * 1 = 5\n",
      "5 * 2 = 10\n",
      "5 * 3 = 15\n",
      "5 * 4 = 20\n",
      "5 * 5 = 25\n",
      "5 * 6 = 30\n",
      "5 * 7 = 35\n",
      "5 * 8 = 40\n",
      "5 * 9 = 45\n",
      "5 * 10 = 50\n",
      "5 * 11 = 55\n",
      "5 * 12 = 60\n",
      "5 * 13 = 65\n",
      "5 * 14 = 70\n",
      "5 * 15 = 75\n",
      "5 * 16 = 80\n",
      "5 * 17 = 85\n",
      "5 * 18 = 90\n",
      "5 * 19 = 95\n",
      "5 * 20 = 100\n"
     ]
    }
   ],
   "source": [
    "x=1\n",
    "n=5\n",
    "while x<=20:\n",
    "    print(n,\"*\",x,\"=\",n*x)\n",
    "    x+=1\n"
   ]
  },
  {
   "attachments": {},
   "cell_type": "markdown",
   "metadata": {},
   "source": [
    "12. WAP to print the nth table 20 to 1, format ==> 5 * 20 = 100 to 5 * 1 = 5"
   ]
  },
  {
   "cell_type": "code",
   "execution_count": 7,
   "metadata": {},
   "outputs": [
    {
     "name": "stdout",
     "output_type": "stream",
     "text": [
      "5 * 20 = 100\n",
      "5 * 19 = 95\n",
      "5 * 18 = 90\n",
      "5 * 17 = 85\n",
      "5 * 16 = 80\n",
      "5 * 15 = 75\n",
      "5 * 14 = 70\n",
      "5 * 13 = 65\n",
      "5 * 12 = 60\n",
      "5 * 11 = 55\n",
      "5 * 10 = 50\n",
      "5 * 9 = 45\n",
      "5 * 8 = 40\n",
      "5 * 7 = 35\n",
      "5 * 6 = 30\n",
      "5 * 5 = 25\n",
      "5 * 4 = 20\n",
      "5 * 3 = 15\n",
      "5 * 2 = 10\n",
      "5 * 1 = 5\n"
     ]
    }
   ],
   "source": [
    "x=20\n",
    "n=5\n",
    "while x>=1:\n",
    "    print(n,\"*\",x,\"=\",n*x)\n",
    "    x-=1"
   ]
  },
  {
   "attachments": {},
   "cell_type": "markdown",
   "metadata": {},
   "source": [
    "13. WAP to print the numbers which are divisible by 3 from 25 to 66."
   ]
  },
  {
   "cell_type": "code",
   "execution_count": 8,
   "metadata": {},
   "outputs": [
    {
     "name": "stdout",
     "output_type": "stream",
     "text": [
      "27\n",
      "30\n",
      "33\n",
      "36\n",
      "39\n",
      "42\n",
      "45\n",
      "48\n",
      "51\n",
      "54\n",
      "57\n",
      "60\n",
      "63\n",
      "66\n"
     ]
    }
   ],
   "source": [
    "start=25\n",
    "end=66\n",
    "while start<=end:\n",
    "    if start%3==0:\n",
    "        print(start)\n",
    "    start+=1"
   ]
  },
  {
   "attachments": {},
   "cell_type": "markdown",
   "metadata": {},
   "source": [
    "14. WAP to print the numbers which are divisible by 3 and 5 from 15 to 76."
   ]
  },
  {
   "cell_type": "code",
   "execution_count": 9,
   "metadata": {},
   "outputs": [
    {
     "name": "stdout",
     "output_type": "stream",
     "text": [
      "15\n",
      "30\n",
      "45\n",
      "60\n",
      "75\n"
     ]
    }
   ],
   "source": [
    "start=15\n",
    "end=76\n",
    "while start<=end:\n",
    "    if start%3==0 and start%5==0:\n",
    "        print(start)\n",
    "    start+=1"
   ]
  },
  {
   "attachments": {},
   "cell_type": "markdown",
   "metadata": {},
   "source": [
    "15. WAP to print the numbers which are divisible by 5 and 7 from 77 to 22."
   ]
  },
  {
   "cell_type": "code",
   "execution_count": 10,
   "metadata": {},
   "outputs": [
    {
     "name": "stdout",
     "output_type": "stream",
     "text": [
      "70\n",
      "35\n"
     ]
    }
   ],
   "source": [
    "start=77\n",
    "end=22\n",
    "while start>=end:\n",
    "    if start%5==0 and start%7==0:\n",
    "        print(start)\n",
    "    start-=1"
   ]
  },
  {
   "attachments": {},
   "cell_type": "markdown",
   "metadata": {},
   "source": [
    "16. WAP to print the ”love you” if value is divisible by 3, or print “hate you” value is divisible by 5, to print “i like you” if divisible by 3 and 5, from 1 to 30."
   ]
  },
  {
   "cell_type": "code",
   "execution_count": 12,
   "metadata": {},
   "outputs": [
    {
     "name": "stdout",
     "output_type": "stream",
     "text": [
      "love you\n",
      "hate you\n",
      "love you\n",
      "love you\n",
      "hate you\n",
      "love you\n",
      "i like you\n",
      "love you\n",
      "hate you\n",
      "love you\n",
      "love you\n",
      "hate you\n",
      "love you\n",
      "i like you\n"
     ]
    }
   ],
   "source": [
    "start=1\n",
    "end=30\n",
    "while start<=end:\n",
    "    if start%3==0 and start%5==0:\n",
    "        print(\"i like you\")\n",
    "    elif start%3==0:\n",
    "        print(\"love you\")\n",
    "    elif start%5==0:\n",
    "        print(\"hate you\")\n",
    "    start+=1"
   ]
  },
  {
   "attachments": {},
   "cell_type": "markdown",
   "metadata": {},
   "source": [
    "17. WAP to print sum of the 1 to nth natural numbers."
   ]
  },
  {
   "cell_type": "code",
   "execution_count": 2,
   "metadata": {},
   "outputs": [
    {
     "name": "stdout",
     "output_type": "stream",
     "text": [
      "325\n"
     ]
    }
   ],
   "source": [
    "start=1\n",
    "end=25\n",
    "sum=0\n",
    "while start<=end:\n",
    "    sum+=start\n",
    "    start+=1\n",
    "print(sum)"
   ]
  },
  {
   "attachments": {},
   "cell_type": "markdown",
   "metadata": {},
   "source": [
    "18. WAP to print sum of the even numbers 1 to 20 numbers."
   ]
  },
  {
   "cell_type": "code",
   "execution_count": 4,
   "metadata": {},
   "outputs": [
    {
     "name": "stdout",
     "output_type": "stream",
     "text": [
      "110\n"
     ]
    }
   ],
   "source": [
    "start=1\n",
    "end=20\n",
    "sum=0\n",
    "while start<=end:\n",
    "    if start%2==0:\n",
    "        sum+=start\n",
    "    start+=1\n",
    "print(sum)\n"
   ]
  },
  {
   "attachments": {},
   "cell_type": "markdown",
   "metadata": {},
   "source": [
    "19. WAP to print products of the 1 to 6 numbers."
   ]
  },
  {
   "cell_type": "code",
   "execution_count": 5,
   "metadata": {},
   "outputs": [
    {
     "name": "stdout",
     "output_type": "stream",
     "text": [
      "720\n"
     ]
    }
   ],
   "source": [
    "start=1\n",
    "end=6\n",
    "p=1\n",
    "while start<=end:\n",
    "    p*=start\n",
    "    start+=1\n",
    "print(p)\n",
    "    "
   ]
  },
  {
   "attachments": {},
   "cell_type": "markdown",
   "metadata": {},
   "source": [
    "20. WAP to count the no of odd values from 1 to 30 numbers."
   ]
  },
  {
   "cell_type": "code",
   "execution_count": 6,
   "metadata": {},
   "outputs": [
    {
     "name": "stdout",
     "output_type": "stream",
     "text": [
      "15\n"
     ]
    }
   ],
   "source": [
    "start=1\n",
    "end=30\n",
    "count=0\n",
    "while start<=end:\n",
    "    if start%2!=0:\n",
    "        count+=1\n",
    "    start+=1\n",
    "print(count)\n"
   ]
  },
  {
   "attachments": {},
   "cell_type": "markdown",
   "metadata": {},
   "source": [
    "21. WAP to print the factors of the given number."
   ]
  },
  {
   "cell_type": "code",
   "execution_count": null,
   "metadata": {},
   "outputs": [],
   "source": []
  },
  {
   "attachments": {},
   "cell_type": "markdown",
   "metadata": {},
   "source": [
    "22. WAP to sum of the factors of the given number."
   ]
  },
  {
   "cell_type": "code",
   "execution_count": null,
   "metadata": {},
   "outputs": [],
   "source": []
  },
  {
   "attachments": {},
   "cell_type": "markdown",
   "metadata": {},
   "source": [
    "23. WAP to prod of the factors of the given number"
   ]
  },
  {
   "cell_type": "code",
   "execution_count": null,
   "metadata": {},
   "outputs": [],
   "source": []
  },
  {
   "attachments": {},
   "cell_type": "markdown",
   "metadata": {},
   "source": [
    "24. WAP to print Fibonacci series 0 to nth."
   ]
  },
  {
   "cell_type": "code",
   "execution_count": null,
   "metadata": {},
   "outputs": [],
   "source": []
  },
  {
   "attachments": {},
   "cell_type": "markdown",
   "metadata": {},
   "source": [
    "25. WAP to find out the factorial number of a given number."
   ]
  },
  {
   "cell_type": "code",
   "execution_count": null,
   "metadata": {},
   "outputs": [],
   "source": []
  },
  {
   "attachments": {},
   "cell_type": "markdown",
   "metadata": {},
   "source": [
    "26. WAP to print the factorial numbers in the given range m to n."
   ]
  },
  {
   "cell_type": "code",
   "execution_count": null,
   "metadata": {},
   "outputs": [],
   "source": []
  },
  {
   "attachments": {},
   "cell_type": "markdown",
   "metadata": {},
   "source": [
    "27. WAP to check whether a given number is a prime number or not."
   ]
  },
  {
   "cell_type": "code",
   "execution_count": null,
   "metadata": {},
   "outputs": [],
   "source": []
  },
  {
   "attachments": {},
   "cell_type": "markdown",
   "metadata": {},
   "source": [
    "28. WAP to print the prime numbers in the given range m to n."
   ]
  },
  {
   "cell_type": "code",
   "execution_count": null,
   "metadata": {},
   "outputs": [],
   "source": []
  },
  {
   "attachments": {},
   "cell_type": "markdown",
   "metadata": {},
   "source": [
    "29. WAP to check whether a given number is an armstrong number or not."
   ]
  },
  {
   "cell_type": "code",
   "execution_count": null,
   "metadata": {},
   "outputs": [],
   "source": []
  },
  {
   "attachments": {},
   "cell_type": "markdown",
   "metadata": {},
   "source": [
    "30. WAP to print the armstrong numbers in the given range m to n."
   ]
  },
  {
   "cell_type": "code",
   "execution_count": null,
   "metadata": {},
   "outputs": [],
   "source": []
  },
  {
   "attachments": {},
   "cell_type": "markdown",
   "metadata": {},
   "source": [
    "31. Write a program to print prime series 1 to nth."
   ]
  },
  {
   "cell_type": "code",
   "execution_count": null,
   "metadata": {},
   "outputs": [],
   "source": []
  },
  {
   "attachments": {},
   "cell_type": "markdown",
   "metadata": {},
   "source": [
    "32. Write a program to print 1 to 100 prime numbers in fibonacci series"
   ]
  },
  {
   "cell_type": "code",
   "execution_count": null,
   "metadata": {},
   "outputs": [],
   "source": []
  },
  {
   "attachments": {},
   "cell_type": "markdown",
   "metadata": {},
   "source": [
    "33. Write a program Sum of prime numbers in a given collection"
   ]
  },
  {
   "cell_type": "code",
   "execution_count": null,
   "metadata": {},
   "outputs": [],
   "source": []
  },
  {
   "attachments": {},
   "cell_type": "markdown",
   "metadata": {},
   "source": [
    "34. WAP to the given number is palindrome or not."
   ]
  },
  {
   "cell_type": "code",
   "execution_count": null,
   "metadata": {},
   "outputs": [],
   "source": []
  },
  {
   "attachments": {},
   "cell_type": "markdown",
   "metadata": {},
   "source": [
    "35. WAP to check whether the length of the string is even or odd. If it is even, printthat string 10 times. If it is not printed 5 times."
   ]
  },
  {
   "cell_type": "code",
   "execution_count": null,
   "metadata": {},
   "outputs": [],
   "source": []
  },
  {
   "attachments": {},
   "cell_type": "markdown",
   "metadata": {},
   "source": [
    "36. WAP to print the uppercase character from ‘A’ to ‘Z’ by using a while loop."
   ]
  },
  {
   "cell_type": "code",
   "execution_count": null,
   "metadata": {},
   "outputs": [],
   "source": []
  },
  {
   "attachments": {},
   "cell_type": "markdown",
   "metadata": {},
   "source": [
    "37. WAP to print the lowercase character from ‘a’ to ‘z’ by using a while loop."
   ]
  },
  {
   "cell_type": "code",
   "execution_count": null,
   "metadata": {},
   "outputs": [],
   "source": []
  },
  {
   "attachments": {},
   "cell_type": "markdown",
   "metadata": {},
   "source": [
    "38. WAP to print the ascii numbers character from ‘0’ to ‘9’ by using a while loop."
   ]
  },
  {
   "cell_type": "code",
   "execution_count": null,
   "metadata": {},
   "outputs": [],
   "source": []
  },
  {
   "attachments": {},
   "cell_type": "markdown",
   "metadata": {},
   "source": [
    "39. WAP to print the uppercase character from ‘E’ to ‘U’ by using a while loop."
   ]
  },
  {
   "cell_type": "code",
   "execution_count": null,
   "metadata": {},
   "outputs": [],
   "source": []
  },
  {
   "attachments": {},
   "cell_type": "markdown",
   "metadata": {},
   "source": [
    "40. WAP to print the uppercase character from ‘Z’ to ‘A’ by using a while loop."
   ]
  },
  {
   "cell_type": "code",
   "execution_count": null,
   "metadata": {},
   "outputs": [],
   "source": []
  },
  {
   "attachments": {},
   "cell_type": "markdown",
   "metadata": {},
   "source": [
    "41. WAP to print the uppercase character from ‘U’ to ‘G’ by using a while loop."
   ]
  },
  {
   "cell_type": "code",
   "execution_count": null,
   "metadata": {},
   "outputs": [],
   "source": []
  },
  {
   "attachments": {},
   "cell_type": "markdown",
   "metadata": {},
   "source": [
    "42. WAP to print the lowercase character from ‘i’ to ‘y’ by using a while loop."
   ]
  },
  {
   "cell_type": "code",
   "execution_count": null,
   "metadata": {},
   "outputs": [],
   "source": []
  },
  {
   "attachments": {},
   "cell_type": "markdown",
   "metadata": {},
   "source": [
    "43. WAP to print the lowercase character from ‘z’ to ‘a’ by using a while loop."
   ]
  },
  {
   "cell_type": "code",
   "execution_count": null,
   "metadata": {},
   "outputs": [],
   "source": []
  },
  {
   "attachments": {},
   "cell_type": "markdown",
   "metadata": {},
   "source": [
    "44. WAP to print the lowercase character from ‘p’ to ‘c’ by using a while loop."
   ]
  },
  {
   "cell_type": "code",
   "execution_count": null,
   "metadata": {},
   "outputs": [],
   "source": []
  },
  {
   "attachments": {},
   "cell_type": "markdown",
   "metadata": {},
   "source": [
    "45. WAP to print the uppercase characters based on even ascii values."
   ]
  },
  {
   "cell_type": "code",
   "execution_count": null,
   "metadata": {},
   "outputs": [],
   "source": []
  },
  {
   "attachments": {},
   "cell_type": "markdown",
   "metadata": {},
   "source": [
    "46. WAP to print the lowercase characters based on even ascii values."
   ]
  },
  {
   "cell_type": "code",
   "execution_count": null,
   "metadata": {},
   "outputs": [],
   "source": []
  },
  {
   "attachments": {},
   "cell_type": "markdown",
   "metadata": {},
   "source": [
    "47. WAP to print the uppercase characters based on odd ascii values."
   ]
  },
  {
   "cell_type": "code",
   "execution_count": null,
   "metadata": {},
   "outputs": [],
   "source": []
  },
  {
   "attachments": {},
   "cell_type": "markdown",
   "metadata": {},
   "source": [
    "48. WAP to print the lowercase characters based on odd ascii values."
   ]
  },
  {
   "cell_type": "code",
   "execution_count": null,
   "metadata": {},
   "outputs": [],
   "source": []
  },
  {
   "attachments": {},
   "cell_type": "markdown",
   "metadata": {},
   "source": [
    "49. WAP to print all the even characters from ‘A’ to ‘Z’."
   ]
  },
  {
   "cell_type": "code",
   "execution_count": null,
   "metadata": {},
   "outputs": [],
   "source": []
  },
  {
   "attachments": {},
   "cell_type": "markdown",
   "metadata": {},
   "source": [
    "50. WAP to print all the odd characters from ‘a’ to ‘z’."
   ]
  },
  {
   "cell_type": "code",
   "execution_count": null,
   "metadata": {},
   "outputs": [],
   "source": []
  },
  {
   "attachments": {},
   "cell_type": "markdown",
   "metadata": {},
   "source": [
    "51. WAP to count the number of vowels present in D to V."
   ]
  },
  {
   "cell_type": "code",
   "execution_count": null,
   "metadata": {},
   "outputs": [],
   "source": []
  },
  {
   "attachments": {},
   "cell_type": "markdown",
   "metadata": {},
   "source": [
    "52. WAP to count the number of vowels present in u to e."
   ]
  },
  {
   "cell_type": "code",
   "execution_count": null,
   "metadata": {},
   "outputs": [],
   "source": []
  },
  {
   "attachments": {},
   "cell_type": "markdown",
   "metadata": {},
   "source": [
    "53. WAP to print the square of the number in between the range from m to n which is multiple of 3. WAP to print a number from range m to m which is divisible by 5."
   ]
  },
  {
   "cell_type": "code",
   "execution_count": null,
   "metadata": {},
   "outputs": [],
   "source": []
  },
  {
   "attachments": {},
   "cell_type": "markdown",
   "metadata": {},
   "source": [
    "54. Write a program which takes an integer number and find the sum of digits andrepeat until the sum gets a single digit in the end.\n",
    "Example:\n",
    "Input 5643\n",
    "\n",
    "Example:\n",
    " 5+6+4+3 =>18\n",
    " 1+8=>9\n",
    "Output 9"
   ]
  },
  {
   "cell_type": "code",
   "execution_count": null,
   "metadata": {},
   "outputs": [],
   "source": []
  },
  {
   "attachments": {},
   "cell_type": "markdown",
   "metadata": {},
   "source": [
    "55. Write a program to count the numbers of 2’s between 0 and n\n",
    "Input n=35\n",
    " Example: 2,12,20,21,22,23,24,25,26,27,28,29,32\n",
    "Output 14"
   ]
  },
  {
   "cell_type": "code",
   "execution_count": 5,
   "metadata": {},
   "outputs": [
    {
     "name": "stdout",
     "output_type": "stream",
     "text": [
      "14\n"
     ]
    }
   ],
   "source": [
    "start=0\n",
    "end=35\n",
    "count=0\n",
    "while start<=end:\n",
    "    if '2' in str(start):\n",
    "        count+=1\n",
    "    if '22' in str(start):\n",
    "        count+=1\n",
    "    start+=1\n",
    "print(count)"
   ]
  },
  {
   "attachments": {},
   "cell_type": "markdown",
   "metadata": {},
   "source": [
    "54. WAP to print all the characters in a given string."
   ]
  },
  {
   "cell_type": "code",
   "execution_count": null,
   "metadata": {},
   "outputs": [],
   "source": []
  },
  {
   "attachments": {},
   "cell_type": "markdown",
   "metadata": {},
   "source": [
    "55. WAP to print all the items present in the string between the range from m to n."
   ]
  },
  {
   "cell_type": "code",
   "execution_count": null,
   "metadata": {},
   "outputs": [],
   "source": []
  },
  {
   "attachments": {},
   "cell_type": "markdown",
   "metadata": {},
   "source": [
    "56. WAP to print the uppercase characters in a given string."
   ]
  },
  {
   "cell_type": "code",
   "execution_count": 7,
   "metadata": {},
   "outputs": [
    {
     "name": "stdout",
     "output_type": "stream",
     "text": [
      "HELLD"
     ]
    }
   ],
   "source": [
    "st='HELLoworlD'\n",
    "start=0\n",
    "while start<len(st):\n",
    "    if 'A'<=st[start]<='Z':\n",
    "        print(st[start],end='')\n",
    "    start+=1"
   ]
  },
  {
   "attachments": {},
   "cell_type": "markdown",
   "metadata": {},
   "source": [
    "57. WAP to print the lowercase characters in a given string."
   ]
  },
  {
   "cell_type": "code",
   "execution_count": 1,
   "metadata": {},
   "outputs": [
    {
     "name": "stdout",
     "output_type": "stream",
     "text": [
      "oworl"
     ]
    }
   ],
   "source": [
    "st='HELLoworlD'\n",
    "start=0\n",
    "while start<len(st):\n",
    "    if 'a'<=st[start]<='z':\n",
    "        print(st[start],end='')\n",
    "    start+=1"
   ]
  },
  {
   "attachments": {},
   "cell_type": "markdown",
   "metadata": {},
   "source": [
    "58. WAP to print the ascii numbers(Digits) characters in a given string."
   ]
  },
  {
   "cell_type": "code",
   "execution_count": null,
   "metadata": {},
   "outputs": [],
   "source": []
  },
  {
   "attachments": {},
   "cell_type": "markdown",
   "metadata": {},
   "source": [
    "59. WAP to print the special characters in a given string."
   ]
  },
  {
   "cell_type": "code",
   "execution_count": null,
   "metadata": {},
   "outputs": [],
   "source": []
  },
  {
   "attachments": {},
   "cell_type": "markdown",
   "metadata": {},
   "source": [
    "60. WAP to Print the vowels in a given string."
   ]
  },
  {
   "cell_type": "code",
   "execution_count": null,
   "metadata": {},
   "outputs": [],
   "source": []
  },
  {
   "attachments": {},
   "cell_type": "markdown",
   "metadata": {},
   "source": [
    "61. WAP to Print the consonants in a given string."
   ]
  },
  {
   "cell_type": "code",
   "execution_count": null,
   "metadata": {},
   "outputs": [],
   "source": []
  },
  {
   "attachments": {},
   "cell_type": "markdown",
   "metadata": {},
   "source": [
    "62. WAP to print the reverse of the characters in a given string."
   ]
  },
  {
   "cell_type": "code",
   "execution_count": null,
   "metadata": {},
   "outputs": [],
   "source": []
  },
  {
   "attachments": {},
   "cell_type": "markdown",
   "metadata": {},
   "source": [
    "63. WAP to print even position values characters in a given string."
   ]
  },
  {
   "cell_type": "code",
   "execution_count": null,
   "metadata": {},
   "outputs": [],
   "source": []
  },
  {
   "attachments": {},
   "cell_type": "markdown",
   "metadata": {},
   "source": [
    "64. WAP to print odd position values characters in a given string."
   ]
  },
  {
   "cell_type": "code",
   "execution_count": null,
   "metadata": {},
   "outputs": [],
   "source": []
  },
  {
   "attachments": {},
   "cell_type": "markdown",
   "metadata": {},
   "source": [
    "65. I/p: ‘hello world 123 haii’\n",
    "o/p:’eoo123aii’"
   ]
  },
  {
   "cell_type": "code",
   "execution_count": null,
   "metadata": {},
   "outputs": [],
   "source": []
  },
  {
   "attachments": {},
   "cell_type": "markdown",
   "metadata": {},
   "source": [
    "66. I/p: ‘hello world 123 haii’\n",
    "o/p:’eo o 123 aii’"
   ]
  },
  {
   "cell_type": "code",
   "execution_count": null,
   "metadata": {},
   "outputs": [],
   "source": []
  },
  {
   "attachments": {},
   "cell_type": "markdown",
   "metadata": {},
   "source": [
    "67. I/p: ‘hello world 123 haii’\n",
    "o/p:’eo o aii’"
   ]
  },
  {
   "cell_type": "code",
   "execution_count": null,
   "metadata": {},
   "outputs": [],
   "source": []
  },
  {
   "attachments": {},
   "cell_type": "markdown",
   "metadata": {},
   "source": [
    "68. I/p: ‘hello world 123 haii’\n",
    "o/p:’hll world haii’"
   ]
  },
  {
   "cell_type": "code",
   "execution_count": null,
   "metadata": {},
   "outputs": [],
   "source": []
  },
  {
   "attachments": {},
   "cell_type": "markdown",
   "metadata": {},
   "source": [
    "69. i/p:’hello world’\n",
    "o/p:’hll wrld’\n",
    "o/p:’eoo’"
   ]
  },
  {
   "cell_type": "code",
   "execution_count": null,
   "metadata": {},
   "outputs": [],
   "source": []
  },
  {
   "attachments": {},
   "cell_type": "markdown",
   "metadata": {},
   "source": [
    "70. i/p:’12hello3 4world4’\n",
    "o/p:’hll wrld’\n",
    "o/p:’eoo’\n",
    "o/p:’12344’"
   ]
  },
  {
   "cell_type": "code",
   "execution_count": null,
   "metadata": {},
   "outputs": [],
   "source": []
  },
  {
   "attachments": {},
   "cell_type": "markdown",
   "metadata": {},
   "source": [
    "71. i/p:’(*12hello3$ $4#world4*)’\n",
    "o/p:’hllwrld’\n",
    "o/p:’eoo’\n",
    "o/p:’12344’\n",
    "o/p:’(*$ $#*)"
   ]
  },
  {
   "cell_type": "code",
   "execution_count": null,
   "metadata": {},
   "outputs": [],
   "source": []
  },
  {
   "attachments": {},
   "cell_type": "markdown",
   "metadata": {},
   "source": [
    "72. i/p: ’(*12hello3$ $4#world4*)’\n",
    "o/p: ')*#$ $*(,44321,ooe,dlrwllh'"
   ]
  },
  {
   "cell_type": "code",
   "execution_count": 14,
   "metadata": {},
   "outputs": [
    {
     "name": "stdout",
     "output_type": "stream",
     "text": [
      ")*#$ $*(,44321,ooe,dlrwllh\n"
     ]
    }
   ],
   "source": [
    "st='(*12hello3$ $4#world4*)'\n",
    "start=-1\n",
    "res1=''\n",
    "res2=''\n",
    "res3=''\n",
    "res4=''\n",
    "while start>-len(st)-1:\n",
    "    if not('A'<=st[start]<='Z' or 'a'<=st[start]<='z' or '0'<=st[start]<='9'):\n",
    "        res1+=st[start]\n",
    "    elif '0'<=st[start]<='9':\n",
    "         res2+=st[start]\n",
    "    elif st[start] in 'AEIOUaeiou':\n",
    "        res3+=st[start]\n",
    "    else:\n",
    "        res4+=st[start]\n",
    "    start-=1\n",
    "print(res1,res2,res3,res4,sep=',')"
   ]
  },
  {
   "attachments": {},
   "cell_type": "markdown",
   "metadata": {},
   "source": [
    "73. i/p:’(*12hello3$ $4#world4*)’\n",
    "o/p:’hllwrld,eoo,12344,(*$ $#*)’"
   ]
  },
  {
   "cell_type": "code",
   "execution_count": 16,
   "metadata": {},
   "outputs": [
    {
     "name": "stdout",
     "output_type": "stream",
     "text": [
      "hllwrld,eoo,12344,(*$ $#*)\n"
     ]
    }
   ],
   "source": [
    "st='(*12hello3$ $4#world4*)'\n",
    "start=0\n",
    "res1=''\n",
    "res2=''\n",
    "res3=''\n",
    "res4=''\n",
    "while start<len(st):\n",
    "    if not('A'<=st[start]<='Z' or 'a'<=st[start]<='z' or '0'<=st[start]<='9'):\n",
    "        res1+=st[start]\n",
    "    elif '0'<=st[start]<='9':\n",
    "         res2+=st[start]\n",
    "    elif st[start] in 'AEIOUaeiou':\n",
    "        res3+=st[start]\n",
    "    else:\n",
    "        res4+=st[start]\n",
    "    start+=1\n",
    "print(res4,res3,res2,res1,sep=',')"
   ]
  },
  {
   "attachments": {},
   "cell_type": "markdown",
   "metadata": {},
   "source": [
    "74. i/p: ’(*12hello3$ $4#world4*)’\n",
    "o/p:’,hllwrld,)*#$ $*(’,eoo,44321’"
   ]
  },
  {
   "cell_type": "code",
   "execution_count": null,
   "metadata": {},
   "outputs": [],
   "source": [
    "st= '(*12hello3$ $4#world4*)'\n",
    "start=0\n",
    "res1=''\n",
    "res2=''\n",
    "res3=''\n",
    "res4=''\n",
    "while start<len(st):\n",
    "    if not('A'<=st[start]<='Z' or 'a'<=st[start]<='z' or '0'<=st[start]<='9'):\n",
    "        res1+=st[start]\n",
    "    elif '0'<=st[start]<='9':\n",
    "         res2+=st[start]\n",
    "    elif st[start] in 'AEIOUaeiou':\n",
    "        res3+=st[start]\n",
    "    else:\n",
    "        res4+=st[start]\n",
    "    start+=1\n",
    "print(res4,res3,res2,res1,sep=',')"
   ]
  },
  {
   "attachments": {},
   "cell_type": "markdown",
   "metadata": {},
   "source": [
    "75. i/p: ’(*12hello3$ $4#world4*)’\n",
    "o/p: ')*#$ $*(,44321,ooe,dlrwllh'"
   ]
  },
  {
   "cell_type": "code",
   "execution_count": null,
   "metadata": {},
   "outputs": [],
   "source": []
  },
  {
   "attachments": {},
   "cell_type": "markdown",
   "metadata": {},
   "source": [
    "76. i/p: ’(*12hello3$ $4#world4*)’\n",
    "o/p:’dlrwllh)*#$ $*(ooe44321’"
   ]
  },
  {
   "cell_type": "code",
   "execution_count": null,
   "metadata": {},
   "outputs": [],
   "source": []
  },
  {
   "attachments": {},
   "cell_type": "markdown",
   "metadata": {},
   "source": [
    "77. I/p:’HELLOWORLD’\n",
    "o/p:’h$ll*w*rld’"
   ]
  },
  {
   "cell_type": "code",
   "execution_count": null,
   "metadata": {},
   "outputs": [],
   "source": []
  },
  {
   "attachments": {},
   "cell_type": "markdown",
   "metadata": {},
   "source": [
    "78. #I/p:’123HELLO WORLD456’\n",
    "#o/p:’hllwrld21’"
   ]
  },
  {
   "cell_type": "code",
   "execution_count": null,
   "metadata": {},
   "outputs": [],
   "source": []
  },
  {
   "attachments": {},
   "cell_type": "markdown",
   "metadata": {},
   "source": [
    "79. #I/p:’123HELLO WORLD456’\n",
    "#o/p:’123hEllO wOrld456’"
   ]
  },
  {
   "cell_type": "code",
   "execution_count": null,
   "metadata": {},
   "outputs": [],
   "source": []
  },
  {
   "attachments": {},
   "cell_type": "markdown",
   "metadata": {},
   "source": [
    "80. #I/p:’123HELLO WORLD456’\n",
    "#o/p:’321hEllO wOrld654’"
   ]
  },
  {
   "cell_type": "code",
   "execution_count": null,
   "metadata": {},
   "outputs": [],
   "source": []
  },
  {
   "attachments": {},
   "cell_type": "markdown",
   "metadata": {},
   "source": [
    "81. #I/p:’123HELLO WORLD456’\n",
    "#o/p:’321*E**O *O***654’"
   ]
  },
  {
   "cell_type": "code",
   "execution_count": null,
   "metadata": {},
   "outputs": [],
   "source": []
  },
  {
   "attachments": {},
   "cell_type": "markdown",
   "metadata": {},
   "source": [
    "82. #I/p:’123HELLO WORLD456’\n",
    "#o/p:’123*E**O *O***456’"
   ]
  },
  {
   "cell_type": "code",
   "execution_count": null,
   "metadata": {},
   "outputs": [],
   "source": []
  },
  {
   "attachments": {},
   "cell_type": "markdown",
   "metadata": {},
   "source": [
    "83. #I/p:’HELLOWORLD’\n",
    "#o/p:’h$ll*w*rld’"
   ]
  },
  {
   "cell_type": "code",
   "execution_count": null,
   "metadata": {},
   "outputs": [],
   "source": []
  },
  {
   "attachments": {},
   "cell_type": "markdown",
   "metadata": {},
   "source": [
    "84. i/p: ‘abc’\n",
    "i/p: ‘xyz’\n",
    "o/p:’axbycz’"
   ]
  },
  {
   "cell_type": "code",
   "execution_count": null,
   "metadata": {},
   "outputs": [],
   "source": []
  },
  {
   "attachments": {},
   "cell_type": "markdown",
   "metadata": {},
   "source": [
    "85. i/p: ‘abc’\n",
    "i/p: ‘xyzw’\n",
    "o/p:’axbyczw’"
   ]
  },
  {
   "cell_type": "code",
   "execution_count": null,
   "metadata": {},
   "outputs": [],
   "source": []
  },
  {
   "attachments": {},
   "cell_type": "markdown",
   "metadata": {},
   "source": [
    "86. i/p: ‘abcd’\n",
    "i/p: ‘xyz’\n",
    "o/p:’axbyczd’"
   ]
  },
  {
   "cell_type": "code",
   "execution_count": null,
   "metadata": {},
   "outputs": [],
   "source": []
  },
  {
   "attachments": {},
   "cell_type": "markdown",
   "metadata": {},
   "source": [
    "87. i/p: ‘abc’\n",
    "i/p: ‘xyzwop’\n",
    "o/p:’axbyczwop’"
   ]
  },
  {
   "cell_type": "code",
   "execution_count": 14,
   "metadata": {},
   "outputs": [
    {
     "name": "stdout",
     "output_type": "stream",
     "text": [
      "axbyczwop\n"
     ]
    }
   ],
   "source": [
    "st1='abc'\n",
    "st2='xyzwop'\n",
    "res=''\n",
    "start=0\n",
    "max = len(st1) if len(st1)>len(st2) else len(st2)\n",
    "while start<max:\n",
    "    if start<len(st1):\n",
    "        res=res+st1[start]\n",
    "    if start<len(st2):\n",
    "        res+=st2[start]\n",
    "    start+=1\n",
    "print(res)\n",
    "\n"
   ]
  },
  {
   "attachments": {},
   "cell_type": "markdown",
   "metadata": {},
   "source": [
    "88. i/p:’abc123’\n",
    "o/p:’a1b2c3’"
   ]
  },
  {
   "cell_type": "code",
   "execution_count": null,
   "metadata": {},
   "outputs": [],
   "source": []
  },
  {
   "attachments": {},
   "cell_type": "markdown",
   "metadata": {},
   "source": [
    "89. i/p:’abc12’\n",
    "o/p:’a1b2c’"
   ]
  },
  {
   "cell_type": "code",
   "execution_count": null,
   "metadata": {},
   "outputs": [],
   "source": []
  },
  {
   "attachments": {},
   "cell_type": "markdown",
   "metadata": {},
   "source": [
    "90. i/p: ‘abc1234’\n",
    "o/p: ‘a1b2c34’"
   ]
  },
  {
   "cell_type": "code",
   "execution_count": null,
   "metadata": {},
   "outputs": [],
   "source": []
  },
  {
   "attachments": {},
   "cell_type": "markdown",
   "metadata": {},
   "source": [
    "91. i/p: ‘1a2bc34’\n",
    "o/p:’a1b2c34’"
   ]
  },
  {
   "cell_type": "code",
   "execution_count": null,
   "metadata": {},
   "outputs": [],
   "source": [
    "st='1a2bc34'\n",
    "start=0\n",
    "while start<len(st):\n",
    "    if "
   ]
  },
  {
   "attachments": {},
   "cell_type": "markdown",
   "metadata": {},
   "source": [
    "92. i/p:’abcdnmpoijkl12yzabcd5’\n",
    "o/p:3"
   ]
  },
  {
   "cell_type": "code",
   "execution_count": 5,
   "metadata": {},
   "outputs": [
    {
     "name": "stdout",
     "output_type": "stream",
     "text": [
      "3\n"
     ]
    }
   ],
   "source": [
    "st='abcdnmpoijkl12yzabcd5'\n",
    "start=0\n",
    "count=0\n",
    "while start<len(st):\n",
    "    if '0'<=st[start]<='9':\n",
    "        count+=1\n",
    "    start+=1\n",
    "print(count)"
   ]
  },
  {
   "attachments": {},
   "cell_type": "markdown",
   "metadata": {},
   "source": [
    "93. I/P: ‘HAII HELLO’\n",
    "O/P: ‘HA1I2I3 HE4LLO5’"
   ]
  },
  {
   "cell_type": "code",
   "execution_count": 3,
   "metadata": {},
   "outputs": [
    {
     "name": "stdout",
     "output_type": "stream",
     "text": [
      "HA1I2I3 HE4LLO5\n"
     ]
    }
   ],
   "source": [
    "st='HAII HELLO'\n",
    "start=0\n",
    "i=1\n",
    "res=''\n",
    "while start<len(st):\n",
    "    if st[start] in 'AEIOUaeiou':\n",
    "        res+=st[start]+str(i)\n",
    "        i+=1\n",
    "    else:\n",
    "        res+=st[start]\n",
    "    start+=1\n",
    "    \n",
    "print(res)\n"
   ]
  },
  {
   "attachments": {},
   "cell_type": "markdown",
   "metadata": {},
   "source": [
    "94. I/P: ‘HAII HELLO’\n",
    "O/P: ‘H1AII 2H3EL4L5O"
   ]
  },
  {
   "cell_type": "code",
   "execution_count": 3,
   "metadata": {},
   "outputs": [
    {
     "name": "stdout",
     "output_type": "stream",
     "text": [
      "H1AII 2H3EL4L5O\n"
     ]
    }
   ],
   "source": [
    "st='HAII HELLO'\n",
    "start=0\n",
    "i=1\n",
    "res=''\n",
    "while start<len(st):\n",
    "    if st[start] not in 'AEIOUaeiou':\n",
    "        res+=st[start]+str(i)\n",
    "        i+=1\n",
    "    else:\n",
    "        res+=st[start]\n",
    "    start+=1\n",
    "    \n",
    "print(res)\n"
   ]
  },
  {
   "cell_type": "markdown",
   "metadata": {},
   "source": [
    "perform arithematic operations "
   ]
  },
  {
   "cell_type": "code",
   "execution_count": 8,
   "metadata": {},
   "outputs": [
    {
     "name": "stdout",
     "output_type": "stream",
     "text": [
      "[10, 20, 10, 2] ['+', '-', '*']\n",
      "40\n"
     ]
    }
   ],
   "source": [
    "s='10+20-10*2'\n",
    "l=['']\n",
    "sp=[]\n",
    "start=0\n",
    "while start<len(s):\n",
    "    if '0'<=s[start]<='9':\n",
    "        l[-1]+=s[start]\n",
    "    elif not('A'<=s[start]<='Z' or 'a'<=s[start]<'z'):\n",
    "        l+=['']\n",
    "        sp+=[s[start]]\n",
    "    start+=1\n",
    "i=0\n",
    "while i<len(l):\n",
    "    res=int(l[i])\n",
    "    l[i]=res\n",
    "    i+=1\n",
    "print(l,sp)\n",
    "j=0\n",
    "while j<len(sp):\n",
    "    match sp[j]:\n",
    "        case '+':\n",
    "             store=l[0]+l[1]\n",
    "        case '-':\n",
    "            store-=l[2]\n",
    "        case '*':\n",
    "            store*=l[3]\n",
    "        \n",
    "    j+=1\n",
    "print(store)"
   ]
  },
  {
   "cell_type": "markdown",
   "metadata": {},
   "source": [
    "i/p='ABCDGHKLMPQ'\n",
    "O/P=['ABCD','KLM]"
   ]
  },
  {
   "cell_type": "code",
   "execution_count": null,
   "metadata": {},
   "outputs": [],
   "source": []
  },
  {
   "cell_type": "code",
   "execution_count": null,
   "metadata": {},
   "outputs": [],
   "source": []
  },
  {
   "cell_type": "code",
   "execution_count": null,
   "metadata": {},
   "outputs": [],
   "source": []
  },
  {
   "cell_type": "code",
   "execution_count": null,
   "metadata": {},
   "outputs": [],
   "source": []
  },
  {
   "cell_type": "code",
   "execution_count": 6,
   "metadata": {},
   "outputs": [
    {
     "name": "stdout",
     "output_type": "stream",
     "text": [
      "['ABCD', 'KLM']\n"
     ]
    }
   ],
   "source": [
    "st='ABCDGHKLMPQ'\n",
    "res=''\n",
    "l=[]\n",
    "start=0\n",
    "while start<len(st)-1:\n",
    "    if ord(st[start])-ord(st[start+1])==-1:\n",
    "        res+=st[start]\n",
    "    elif ord(st[start-1])-ord(st[start])==-1:\n",
    "        res+=st[start]\n",
    "        if len(res)>2:\n",
    "            l+=[res]\n",
    "        res=''\n",
    "    elif ord(st[start-1])-ord(st[start])==-1:\n",
    "        res+=st[start]\n",
    "        if len(res)>2:\n",
    "            l+=[res]\n",
    "    start+=1\n",
    "print(l)"
   ]
  },
  {
   "cell_type": "markdown",
   "metadata": {},
   "source": [
    "i/p='ABCDEFIKLMQR'\n",
    "o/p=['ABC','DEF','KLM']"
   ]
  },
  {
   "cell_type": "code",
   "execution_count": 16,
   "metadata": {},
   "outputs": [
    {
     "name": "stdout",
     "output_type": "stream",
     "text": [
      "['ABC', 'DEF', 'KLM']\n"
     ]
    }
   ],
   "source": [
    "st='ABCDEFIKLMQR'\n",
    "res=''\n",
    "l=[]\n",
    "start=0\n",
    "while start<len(st)-1:\n",
    "    if len(res)==3:\n",
    "        l+=[res]\n",
    "        res=''\n",
    "    if ord(st[start])-ord(st[start+1])==-1:\n",
    "        res+=st[start]\n",
    "    elif ord(st[start-1])-ord(st[start])==-1:\n",
    "        res+=st[start]\n",
    "        l+=[res]\n",
    "        res=''\n",
    "    elif ord(st[start-1])-ord(st[start])==-1:\n",
    "        res+=st[start]\n",
    "        if len(res)==3:\n",
    "            l+=[res]\n",
    "    start+=1\n",
    "print(l)"
   ]
  },
  {
   "cell_type": "markdown",
   "metadata": {},
   "source": [
    "wap to extract ans store the duplicate characters from string."
   ]
  },
  {
   "cell_type": "code",
   "execution_count": 1,
   "metadata": {},
   "outputs": [
    {
     "name": "stdout",
     "output_type": "stream",
     "text": [
      "{'n', 'a'}\n"
     ]
    }
   ],
   "source": [
    "st='navyani'\n",
    "start=0\n",
    "res=''\n",
    "l=[]\n",
    "while start<len(st):\n",
    "    i=st[:start]+st[start+1:]    \n",
    "    if st[start] in i:\n",
    "        l+=[st[start]]\n",
    "    start+=1\n",
    "print(set(l))\n"
   ]
  },
  {
   "cell_type": "code",
   "execution_count": null,
   "metadata": {},
   "outputs": [],
   "source": []
  },
  {
   "cell_type": "code",
   "execution_count": 27,
   "metadata": {},
   "outputs": [
    {
     "name": "stdout",
     "output_type": "stream",
     "text": [
      "ACDF\n"
     ]
    }
   ],
   "source": [
    "st='ACDEF'\n",
    "start=3\n",
    "i=st[:start]+st[start+1:]\n",
    "print(i)"
   ]
  },
  {
   "cell_type": "code",
   "execution_count": null,
   "metadata": {},
   "outputs": [],
   "source": [
    "st='FOR BEST RESULTS USE WHITE BOARD MARKER'\n",
    "def SPLIT(coll):\n",
    "    l=[\"\"]\n",
    "    for i in coll:\n",
    "        if i!=' ':\n",
    "            l[-1]+=i\n",
    "        else:\n",
    "            l+=['']\n",
    "            if 'A'<=i+1<='Z' or 'a'<=i+1<='z':\n",
    "                l[-1]+=i\n"
   ]
  }
 ],
 "metadata": {
  "kernelspec": {
   "display_name": "Python 3",
   "language": "python",
   "name": "python3"
  },
  "language_info": {
   "codemirror_mode": {
    "name": "ipython",
    "version": 3
   },
   "file_extension": ".py",
   "mimetype": "text/x-python",
   "name": "python",
   "nbconvert_exporter": "python",
   "pygments_lexer": "ipython3",
   "version": "3.11.3"
  },
  "orig_nbformat": 4
 },
 "nbformat": 4,
 "nbformat_minor": 2
}
