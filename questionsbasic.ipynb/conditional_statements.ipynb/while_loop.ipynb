{
 "cells": [
  {
   "attachments": {},
   "cell_type": "markdown",
   "metadata": {},
   "source": [
    "x=\"PYSPIDERS 10string QSPIDERS Ram Sam 10 20 30 Hello venu kashi\""
   ]
  },
  {
   "cell_type": "code",
   "execution_count": 3,
   "metadata": {},
   "outputs": [
    {
     "name": "stdout",
     "output_type": "stream",
     "text": [
      "PYSPIDERS"
     ]
    }
   ],
   "source": [
    "#1.PYSPIDERS\n",
    "x=\"PYSPIDERS 10string QSPIDERS Ram Sam 10 20 30 Hello venu kashi\"\n",
    "start=0\n",
    "end=8\n",
    "while start<=end:\n",
    "    print(x[start],end='')\n",
    "    start+=1\n"
   ]
  },
  {
   "cell_type": "code",
   "execution_count": 4,
   "metadata": {},
   "outputs": [
    {
     "name": "stdout",
     "output_type": "stream",
     "text": [
      "str"
     ]
    }
   ],
   "source": [
    "#2.str\n",
    "x=\"PYSPIDERS 10string QSPIDERS Ram Sam 10 20 30 Hello venu kashi\"\n",
    "start=12\n",
    "end=14\n",
    "while start<=end:\n",
    "    print(x[start],end='')\n",
    "    start+=1\n",
    "\n"
   ]
  },
  {
   "cell_type": "code",
   "execution_count": 5,
   "metadata": {},
   "outputs": [
    {
     "name": "stdout",
     "output_type": "stream",
     "text": [
      "SPIDERS"
     ]
    }
   ],
   "source": [
    "#3.SPIDE\n",
    "x=\"PYSPIDERS 10string QSPIDERS Ram Sam 10 20 30 Hello venu kashi\"\n",
    "start=2\n",
    "end=8\n",
    "while start<=end:\n",
    "    print(x[start],end='')\n",
    "    start+=1\n"
   ]
  },
  {
   "cell_type": "code",
   "execution_count": 10,
   "metadata": {},
   "outputs": [
    {
     "name": "stdout",
     "output_type": "stream",
     "text": [
      "QPD"
     ]
    }
   ],
   "source": [
    "#4.QPD\n",
    "x=\"PYSPIDERS 10string QSPIDERS Ram Sam 10 20 30 Hello venu kashi\"\n",
    "start=19\n",
    "end=24\n",
    "while start<=end:\n",
    "    print(x[start],end='')\n",
    "    start+=2\n"
   ]
  },
  {
   "cell_type": "code",
   "execution_count": 12,
   "metadata": {},
   "outputs": [
    {
     "name": "stdout",
     "output_type": "stream",
     "text": [
      "maS maR "
     ]
    }
   ],
   "source": [
    "#5.maS maR\n",
    "x=\"PYSPIDERS 10string QSPIDERS Ram Sam 10 20 30 Hello venu kashi\"\n",
    "start=34\n",
    "end=27\n",
    "while start>=end:\n",
    "    print(x[start],end='')\n",
    "    start-=1\n"
   ]
  },
  {
   "cell_type": "code",
   "execution_count": 38,
   "metadata": {},
   "outputs": [
    {
     "name": "stdout",
     "output_type": "stream",
     "text": [
      "30 10 20"
     ]
    }
   ],
   "source": [
    "#6.30 10 20\n",
    "x=\"PYSPIDERS 10string QSPIDERS Ram Sam 10 20 30 Hello venu kashi\"\n",
    "start=-19\n",
    "end=-18\n",
    "while start<=end:\n",
    "    print(x[start],end='')\n",
    "    start+=1\n",
    "\n",
    "start=-26\n",
    "end=-24\n",
    "while start<=end:\n",
    "    print(x[start],end='')\n",
    "    start+=1\n",
    "\n",
    "start=-23\n",
    "end=-21\n",
    "while start<=end:\n",
    "    print(x[start],end='')\n",
    "    start+=1\n"
   ]
  },
  {
   "cell_type": "code",
   "execution_count": 13,
   "metadata": {},
   "outputs": [
    {
     "name": "stdout",
     "output_type": "stream",
     "text": [
      "venu"
     ]
    }
   ],
   "source": [
    "#7.venu\n",
    "x=\"PYSPIDERS 10string QSPIDERS Ram Sam 10 20 30 Hello venu kashi\"\n",
    "start=-10\n",
    "end=-7\n",
    "while start<=end:\n",
    "    print(x[start],end='')\n",
    "    start+=1\n"
   ]
  },
  {
   "cell_type": "code",
   "execution_count": 17,
   "metadata": {},
   "outputs": [
    {
     "name": "stdout",
     "output_type": "stream",
     "text": [
      "kashi venu"
     ]
    }
   ],
   "source": [
    "#8.kashi venu\n",
    "x=\"PYSPIDERS 10string QSPIDERS Ram Sam 10 20 30 Hello venu kashi\"\n",
    "start=-5\n",
    "end=-1\n",
    "while start<=end:\n",
    "    print(x[start],end='')\n",
    "    start+=1\n",
    "\n",
    "start=-11\n",
    "end=-7\n",
    "while start<=end:\n",
    "    print(x[start],end='')\n",
    "    start+=1\n",
    "\n"
   ]
  },
  {
   "cell_type": "code",
   "execution_count": 20,
   "metadata": {},
   "outputs": [
    {
     "name": "stdout",
     "output_type": "stream",
     "text": [
      "SEIS"
     ]
    }
   ],
   "source": [
    "#9.SEIS\n",
    "x=\"PYSPIDERS 10string QSPIDERS Ram Sam 10 20 30 Hello venu kashi\"\n",
    "start=8\n",
    "end=2\n",
    "while start>=end:\n",
    "    print(x[start],end='')\n",
    "    start-=2\n"
   ]
  },
  {
   "cell_type": "code",
   "execution_count": 21,
   "metadata": {},
   "outputs": [
    {
     "name": "stdout",
     "output_type": "stream",
     "text": [
      "srn"
     ]
    }
   ],
   "source": [
    "#10.srn\n",
    "x=\"PYSPIDERS 10string QSPIDERS Ram Sam 10 20 30 Hello venu kashi\"\n",
    "start=12\n",
    "end=16\n",
    "while start<=end:\n",
    "    print(x[start],end='')\n",
    "    start+=2\n"
   ]
  },
  {
   "cell_type": "code",
   "execution_count": null,
   "metadata": {},
   "outputs": [],
   "source": [
    "#11.SEDIP\n",
    "x=\"PYSPIDERS 10string QSPIDERS Ram Sam 10 20 30 Hello venu kashi\"\n",
    "start=8\n",
    "end=2\n",
    "while start>=end:\n",
    "    print(x[start],end='')\n",
    "    start-=2\n"
   ]
  },
  {
   "cell_type": "code",
   "execution_count": 22,
   "metadata": {},
   "outputs": [
    {
     "name": "stdout",
     "output_type": "stream",
     "text": [
      "SREDIPSQ"
     ]
    }
   ],
   "source": [
    "#12.SREDIPSQ\n",
    "x=\"PYSPIDERS 10string QSPIDERS Ram Sam 10 20 30 Hello venu kashi\"\n",
    "start=26\n",
    "end=19\n",
    "while start>=end:\n",
    "    print(x[start],end='')\n",
    "    start-=1\n"
   ]
  },
  {
   "cell_type": "code",
   "execution_count": 23,
   "metadata": {},
   "outputs": [
    {
     "name": "stdout",
     "output_type": "stream",
     "text": [
      "gnirts01"
     ]
    }
   ],
   "source": [
    "#13.gnirts01\n",
    "x=\"PYSPIDERS 10string QSPIDERS Ram Sam 10 20 30 Hello venu kashi\"\n",
    "start=17\n",
    "end=10\n",
    "while start>=end:\n",
    "    print(x[start],end='')\n",
    "    start-=1\n"
   ]
  },
  {
   "cell_type": "code",
   "execution_count": 24,
   "metadata": {},
   "outputs": [
    {
     "name": "stdout",
     "output_type": "stream",
     "text": [
      "a\n"
     ]
    }
   ],
   "source": [
    "#14.a\n",
    "x=\"PYSPIDERS 10string QSPIDERS Ram Sam 10 20 30 Hello venu kashi\"\n",
    "\n",
    "print(x[-4])\n",
    "\n"
   ]
  },
  {
   "cell_type": "code",
   "execution_count": 32,
   "metadata": {},
   "outputs": [
    {
     "name": "stdout",
     "output_type": "stream",
     "text": [
      "Sm"
     ]
    }
   ],
   "source": [
    "#15.Sm\n",
    "x=\"PYSPIDERS 10string QSPIDERS Ram Sam 10 20 30 Hello venu kashi\"\n",
    "start=-29\n",
    "end=-27\n",
    "while start<=end:\n",
    "    print(x[start],end='')\n",
    "    start+=2\n"
   ]
  },
  {
   "cell_type": "code",
   "execution_count": 4,
   "metadata": {},
   "outputs": [
    {
     "name": "stdout",
     "output_type": "stream",
     "text": [
      "SREDIPSQ"
     ]
    }
   ],
   "source": [
    "#16.SREDIPSQ\n",
    "x=\"PYSPIDERS 10string QSPIDERS Ram Sam 10 20 30 Hello venu kashi\"\n",
    "start=26\n",
    "end=19\n",
    "while start>=end:\n",
    "    print(x[start],end='')\n",
    "    start-=1\n"
   ]
  }
 ],
 "metadata": {
  "kernelspec": {
   "display_name": "Python 3",
   "language": "python",
   "name": "python3"
  },
  "language_info": {
   "codemirror_mode": {
    "name": "ipython",
    "version": 3
   },
   "file_extension": ".py",
   "mimetype": "text/x-python",
   "name": "python",
   "nbconvert_exporter": "python",
   "pygments_lexer": "ipython3",
   "version": "3.11.3"
  },
  "orig_nbformat": 4
 },
 "nbformat": 4,
 "nbformat_minor": 2
}
