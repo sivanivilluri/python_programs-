{
 "cells": [
  {
   "cell_type": "code",
   "execution_count": 1,
   "metadata": {},
   "outputs": [
    {
     "name": "stdout",
     "output_type": "stream",
     "text": [
      "11 12 13 14 15 \n",
      "21 22 23 24 25 \n",
      "31 32 33 34 35 \n",
      "41 42 43 44 45 \n",
      "51 52 53 54 55 \n"
     ]
    }
   ],
   "source": [
    "n=5\n",
    "for i in range(1,n+1):\n",
    "    for j in range(1,n+1):\n",
    "        print(i,j,end=' ',sep='')\n",
    "    print()"
   ]
  },
  {
   "cell_type": "code",
   "execution_count": 2,
   "metadata": {},
   "outputs": [
    {
     "name": "stdout",
     "output_type": "stream",
     "text": [
      "* * * * * \n",
      "* * * * * \n",
      "* * * * * \n",
      "* * * * * \n",
      "* * * * * \n"
     ]
    }
   ],
   "source": [
    "n=5\n",
    "for i in range(1,n+1):\n",
    "    for j in range(1,n+1):\n",
    "        print('*',end=' ',sep='')\n",
    "    print()"
   ]
  },
  {
   "cell_type": "code",
   "execution_count": 4,
   "metadata": {},
   "outputs": [
    {
     "name": "stdout",
     "output_type": "stream",
     "text": [
      "- - - - - \n",
      "- - - - - \n",
      "- - - - - \n",
      "- - - - - \n",
      "* * * * * \n"
     ]
    }
   ],
   "source": [
    "n=5\n",
    "for i in range(1,n+1):\n",
    "    for j in range(1,n+1):\n",
    "        if i==5:\n",
    "            print('*',end=' ',sep='')\n",
    "        else:\n",
    "            print('-',end=' ')\n",
    "    print()"
   ]
  },
  {
   "cell_type": "code",
   "execution_count": 5,
   "metadata": {},
   "outputs": [
    {
     "name": "stdout",
     "output_type": "stream",
     "text": [
      "- - * - - \n",
      "- - * - - \n",
      "- - * - - \n",
      "- - * - - \n",
      "- - * - - \n"
     ]
    }
   ],
   "source": [
    "n=5\n",
    "for i in range(1,n+1):\n",
    "    for j in range(1,n+1):\n",
    "        if j==3:\n",
    "            print('*',end=' ',sep='')\n",
    "        else:\n",
    "            print('-',end=' ')\n",
    "    print()"
   ]
  },
  {
   "cell_type": "code",
   "execution_count": 6,
   "metadata": {},
   "outputs": [
    {
     "name": "stdout",
     "output_type": "stream",
     "text": [
      "- - * - - \n",
      "- - * - - \n",
      "* * * * * \n",
      "- - * - - \n",
      "- - * - - \n"
     ]
    }
   ],
   "source": [
    "n=5\n",
    "for i in range(1,n+1):\n",
    "    for j in range(1,n+1):\n",
    "        if i==3 or j==3:\n",
    "            print('*',end=' ',sep='')\n",
    "        else:\n",
    "            print('-',end=' ')\n",
    "    print()"
   ]
  },
  {
   "cell_type": "code",
   "execution_count": 7,
   "metadata": {},
   "outputs": [
    {
     "name": "stdout",
     "output_type": "stream",
     "text": [
      "* - - - * \n",
      "- * - * - \n",
      "- - * - - \n",
      "- * - * - \n",
      "* - - - * \n"
     ]
    }
   ],
   "source": [
    "n=5\n",
    "for i in range(1,n+1):\n",
    "    for j in range(1,n+1):\n",
    "        if i==j or i+j==n+1:\n",
    "            print('*',end=' ',sep='')\n",
    "        else:\n",
    "            print('-',end=' ')\n",
    "    print()"
   ]
  },
  {
   "cell_type": "code",
   "execution_count": 2,
   "metadata": {},
   "outputs": [
    {
     "name": "stdout",
     "output_type": "stream",
     "text": [
      "* * * * * \n",
      "*         \n",
      "* * * * * \n",
      "        * \n",
      "* * * * * \n",
      "    *     \n",
      "    *     \n",
      "    *     \n",
      "    *     \n",
      "    *     \n",
      "*       * \n",
      "* *     * \n",
      "*   *   * \n",
      "*     * * \n",
      "*       * \n",
      "*         \n",
      "          \n",
      "  *       \n",
      "          \n",
      "          \n"
     ]
    }
   ],
   "source": [
    "n=5\n",
    "for i in range(1,n+1):\n",
    "    for j in range(1,n+1):\n",
    "        if i==1 or i==3 or i==5 or (i==2 and j==1) or (i==4 and j==5):\n",
    "            print('*',end=' ',sep='')\n",
    "        else:\n",
    "            print(' ',end=' ')\n",
    "    print()\n",
    "for i in range(1,n+1):\n",
    "    for j in range(1,n+1):\n",
    "        if j==3:\n",
    "            print('*',end=' ',sep='')\n",
    "        else:\n",
    "            print(' ',end=' ')\n",
    "    print()\n",
    "for i in range(1,n+1):\n",
    "    for j in range(1,n+1):\n",
    "        if j==1 or j==5 or i==j:\n",
    "            print('*',end=' ',sep='')\n",
    "        else:\n",
    "            print(' ',end=' ')\n",
    "    print()\n",
    "for i in range(1,n+1):\n",
    "    for j in range(1,n+1):\n",
    "        if (i,j)==(1,1) or (i,j)==(3,2) or (i,j)==():\n",
    "            print('*',end=' ',sep='')\n",
    "        else:\n",
    "            print(' ',end=' ')\n",
    "    print()\n"
   ]
  },
  {
   "cell_type": "code",
   "execution_count": 55,
   "metadata": {},
   "outputs": [
    {
     "name": "stdout",
     "output_type": "stream",
     "text": [
      "* * * * * * \n",
      "* * * * * * \n",
      "* * * * * * \n",
      "* * * * * * \n",
      "* * * * * * \n",
      "* * * * * * \n",
      "* * * * * * * \n",
      "* * * * * * * * \n",
      "* * * * * * * * * \n",
      "* * * * * * * * * * \n"
     ]
    }
   ],
   "source": [
    "n=10\n",
    "for i in range(1,n+1):\n",
    "    for j in range(1,n+1):\n",
    "        if i+j<=n//2+1 or i+j>=n+1:\n",
    "            print('*',end=' ',sep='')\n",
    "        \n",
    "    print()"
   ]
  },
  {
   "cell_type": "code",
   "execution_count": 2,
   "metadata": {},
   "outputs": [
    {
     "name": "stdout",
     "output_type": "stream",
     "text": [
      "  * * * * * * * * *   \n",
      "    * * * * * * *     \n",
      "      * * * * *       \n",
      "        * * *         \n",
      "          *           \n",
      "                      \n",
      "          *           \n",
      "        * * *         \n",
      "      * * * * *       \n",
      "    * * * * * * *     \n",
      "  * * * * * * * * *   \n"
     ]
    }
   ],
   "source": [
    "n=11\n",
    "m=n//2-1\n",
    "if n%2==1:\n",
    "    for i in range(n):\n",
    "        for j in range(n):\n",
    "            if (i<=n//2 and (j<=i or (j>n//2 and j>=n-i-1))) or (i>n//2 and (j<n-i or (j>n//2 and j>=i))):\n",
    "                print(' ',end=' ')\n",
    "            else:\n",
    "                print('*',end=' ')\n",
    "        print()\n",
    "else:\n",
    "    for i in range(n):\n",
    "        for j in range(n):\n",
    "            if (i<=m and (j<=i or (j>=m and j>=n-i-1))) or (i>m and (j<n-i or (j>=m and j>=i))):\n",
    "                print(' ',end=' ')\n",
    "            else:\n",
    "                print('*',end=' ')\n",
    "        print()"
   ]
  },
  {
   "cell_type": "code",
   "execution_count": 2,
   "metadata": {},
   "outputs": [
    {
     "name": "stdout",
     "output_type": "stream",
     "text": [
      "*                   * \n",
      "* *               * * \n",
      "* * *           * * * \n",
      "* * * *       * * * * \n",
      "* * * * *   * * * * * \n",
      "* * * * * * * * * * * \n",
      "* * * * *   * * * * * \n",
      "* * * *       * * * * \n",
      "* * *           * * * \n",
      "* *               * * \n",
      "*                   * \n"
     ]
    }
   ],
   "source": [
    "n=11\n",
    "m=n//2-1\n",
    "if n%2==1:\n",
    "    for i in range(n):\n",
    "        for j in range(n):\n",
    "            if (i<=n//2 and (j<=i or (j>n//2 and j>=n-i-1))) or (i>n//2 and (j<n-i or (j>n//2 and j>=i))):\n",
    "                print('*',end=' ')\n",
    "            else:\n",
    "                print(' ',end=' ')\n",
    "        print()\n",
    "else:\n",
    "    for i in range(n):\n",
    "        for j in range(n):\n",
    "            if (i<=m and (j<=i or (j>=m and j>=n-i-1))) or (i>m and (j<n-i or (j>=m and j>=i))):\n",
    "                print('*',end=' ')\n",
    "            else:\n",
    "                print(' ',end=' ')\n",
    "        print()"
   ]
  }
 ],
 "metadata": {
  "kernelspec": {
   "display_name": "Python 3",
   "language": "python",
   "name": "python3"
  },
  "language_info": {
   "codemirror_mode": {
    "name": "ipython",
    "version": 3
   },
   "file_extension": ".py",
   "mimetype": "text/x-python",
   "name": "python",
   "nbconvert_exporter": "python",
   "pygments_lexer": "ipython3",
   "version": "3.11.3"
  },
  "orig_nbformat": 4
 },
 "nbformat": 4,
 "nbformat_minor": 2
}
