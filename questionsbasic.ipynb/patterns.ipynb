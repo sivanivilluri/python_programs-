{
 "cells": [
  {
   "cell_type": "code",
   "execution_count": 1,
   "metadata": {},
   "outputs": [
    {
     "name": "stdout",
     "output_type": "stream",
     "text": [
      "11 12 13 14 15 \n",
      "21 22 23 24 25 \n",
      "31 32 33 34 35 \n",
      "41 42 43 44 45 \n",
      "51 52 53 54 55 \n"
     ]
    }
   ],
   "source": [
    "n=5\n",
    "for i in range(1,n+1):\n",
    "    for j in range(1,n+1):\n",
    "        print(i,j,end=' ',sep='')\n",
    "    print()"
   ]
  },
  {
   "cell_type": "code",
   "execution_count": 2,
   "metadata": {},
   "outputs": [
    {
     "name": "stdout",
     "output_type": "stream",
     "text": [
      "* * * * * \n",
      "* * * * * \n",
      "* * * * * \n",
      "* * * * * \n",
      "* * * * * \n"
     ]
    }
   ],
   "source": [
    "n=5\n",
    "for i in range(1,n+1):\n",
    "    for j in range(1,n+1):\n",
    "        print('*',end=' ',sep='')\n",
    "    print()"
   ]
  },
  {
   "cell_type": "code",
   "execution_count": 4,
   "metadata": {},
   "outputs": [
    {
     "name": "stdout",
     "output_type": "stream",
     "text": [
      "- - - - - \n",
      "- - - - - \n",
      "- - - - - \n",
      "- - - - - \n",
      "* * * * * \n"
     ]
    }
   ],
   "source": [
    "n=5\n",
    "for i in range(1,n+1):\n",
    "    for j in range(1,n+1):\n",
    "        if i==5:\n",
    "            print('*',end=' ',sep='')\n",
    "        else:\n",
    "            print('-',end=' ')\n",
    "    print()"
   ]
  },
  {
   "cell_type": "code",
   "execution_count": 5,
   "metadata": {},
   "outputs": [
    {
     "name": "stdout",
     "output_type": "stream",
     "text": [
      "- - * - - \n",
      "- - * - - \n",
      "- - * - - \n",
      "- - * - - \n",
      "- - * - - \n"
     ]
    }
   ],
   "source": [
    "n=5\n",
    "for i in range(1,n+1):\n",
    "    for j in range(1,n+1):\n",
    "        if j==3:\n",
    "            print('*',end=' ',sep='')\n",
    "        else:\n",
    "            print('-',end=' ')\n",
    "    print()"
   ]
  },
  {
   "cell_type": "code",
   "execution_count": 6,
   "metadata": {},
   "outputs": [
    {
     "name": "stdout",
     "output_type": "stream",
     "text": [
      "- - * - - \n",
      "- - * - - \n",
      "* * * * * \n",
      "- - * - - \n",
      "- - * - - \n"
     ]
    }
   ],
   "source": [
    "n=5\n",
    "for i in range(1,n+1):\n",
    "    for j in range(1,n+1):\n",
    "        if i==3 or j==3:\n",
    "            print('*',end=' ',sep='')\n",
    "        else:\n",
    "            print('-',end=' ')\n",
    "    print()"
   ]
  },
  {
   "cell_type": "code",
   "execution_count": 7,
   "metadata": {},
   "outputs": [
    {
     "name": "stdout",
     "output_type": "stream",
     "text": [
      "* - - - * \n",
      "- * - * - \n",
      "- - * - - \n",
      "- * - * - \n",
      "* - - - * \n"
     ]
    }
   ],
   "source": [
    "n=5\n",
    "for i in range(1,n+1):\n",
    "    for j in range(1,n+1):\n",
    "        if i==j or i+j==n+1:\n",
    "            print('*',end=' ',sep='')\n",
    "        else:\n",
    "            print('-',end=' ')\n",
    "    print()"
   ]
  },
  {
   "cell_type": "code",
   "execution_count": 2,
   "metadata": {},
   "outputs": [
    {
     "name": "stdout",
     "output_type": "stream",
     "text": [
      "* * * * * \n",
      "*         \n",
      "* * * * * \n",
      "        * \n",
      "* * * * * \n",
      "    *     \n",
      "    *     \n",
      "    *     \n",
      "    *     \n",
      "    *     \n",
      "*       * \n",
      "* *     * \n",
      "*   *   * \n",
      "*     * * \n",
      "*       * \n",
      "*         \n",
      "          \n",
      "  *       \n",
      "          \n",
      "          \n"
     ]
    }
   ],
   "source": [
    "n=5\n",
    "for i in range(1,n+1):\n",
    "    for j in range(1,n+1):\n",
    "        if i==1 or i==3 or i==5 or (i==2 and j==1) or (i==4 and j==5):\n",
    "            print('*',end=' ',sep='')\n",
    "        else:\n",
    "            print(' ',end=' ')\n",
    "    print()\n",
    "for i in range(1,n+1):\n",
    "    for j in range(1,n+1):\n",
    "        if j==3:\n",
    "            print('*',end=' ',sep='')\n",
    "        else:\n",
    "            print(' ',end=' ')\n",
    "    print()\n",
    "for i in range(1,n+1):\n",
    "    for j in range(1,n+1):\n",
    "        if j==1 or j==5 or i==j:\n",
    "            print('*',end=' ',sep='')\n",
    "        else:\n",
    "            print(' ',end=' ')\n",
    "    print()\n",
    "for i in range(1,n+1):\n",
    "    for j in range(1,n+1):\n",
    "        if (i,j)==(1,1) or (i,j)==(3,2) or (i,j)==():\n",
    "            print('*',end=' ',sep='')\n",
    "        else:\n",
    "            print(' ',end=' ')\n",
    "    print()\n"
   ]
  },
  {
   "cell_type": "code",
   "execution_count": 55,
   "metadata": {},
   "outputs": [
    {
     "name": "stdout",
     "output_type": "stream",
     "text": [
      "* * * * * * \n",
      "* * * * * * \n",
      "* * * * * * \n",
      "* * * * * * \n",
      "* * * * * * \n",
      "* * * * * * \n",
      "* * * * * * * \n",
      "* * * * * * * * \n",
      "* * * * * * * * * \n",
      "* * * * * * * * * * \n"
     ]
    }
   ],
   "source": [
    "n=10\n",
    "for i in range(1,n+1):\n",
    "    for j in range(1,n+1):\n",
    "        if i+j<=n//2+1 or i+j>=n+1:\n",
    "            print('*',end=' ',sep='')\n",
    "        \n",
    "    print()"
   ]
  },
  {
   "cell_type": "code",
   "execution_count": 2,
   "metadata": {},
   "outputs": [
    {
     "name": "stdout",
     "output_type": "stream",
     "text": [
      "  * * * * * * * * *   \n",
      "    * * * * * * *     \n",
      "      * * * * *       \n",
      "        * * *         \n",
      "          *           \n",
      "                      \n",
      "          *           \n",
      "        * * *         \n",
      "      * * * * *       \n",
      "    * * * * * * *     \n",
      "  * * * * * * * * *   \n"
     ]
    }
   ],
   "source": [
    "n=11\n",
    "m=n//2-1\n",
    "if n%2==1:\n",
    "    for i in range(n):\n",
    "        for j in range(n):\n",
    "            if (i<=n//2 and (j<=i or (j>n//2 and j>=n-i-1))) or (i>n//2 and (j<n-i or (j>n//2 and j>=i))):\n",
    "                print(' ',end=' ')\n",
    "            else:\n",
    "                print('*',end=' ')\n",
    "        print()\n",
    "else:\n",
    "    for i in range(n):\n",
    "        for j in range(n):\n",
    "            if (i<=m and (j<=i or (j>=m and j>=n-i-1))) or (i>m and (j<n-i or (j>=m and j>=i))):\n",
    "                print(' ',end=' ')\n",
    "            else:\n",
    "                print('*',end=' ')\n",
    "        print()"
   ]
  },
  {
   "cell_type": "code",
   "execution_count": 2,
   "metadata": {},
   "outputs": [
    {
     "name": "stdout",
     "output_type": "stream",
     "text": [
      "*                   * \n",
      "* *               * * \n",
      "* * *           * * * \n",
      "* * * *       * * * * \n",
      "* * * * *   * * * * * \n",
      "* * * * * * * * * * * \n",
      "* * * * *   * * * * * \n",
      "* * * *       * * * * \n",
      "* * *           * * * \n",
      "* *               * * \n",
      "*                   * \n"
     ]
    }
   ],
   "source": [
    "n=11\n",
    "m=n//2-1\n",
    "if n%2==1:\n",
    "    for i in range(n):\n",
    "        for j in range(n):\n",
    "            if (i<=n//2 and (j<=i or (j>n//2 and j>=n-i-1))) or (i>n//2 and (j<n-i or (j>n//2 and j>=i))):\n",
    "                print('*',end=' ')\n",
    "            else:\n",
    "                print(' ',end=' ')\n",
    "        print()\n",
    "else:\n",
    "    for i in range(n):\n",
    "        for j in range(n):\n",
    "            if (i<=m and (j<=i or (j>=m and j>=n-i-1))) or (i>m and (j<n-i or (j>=m and j>=i))):\n",
    "                print('*',end=' ')\n",
    "            else:\n",
    "                print(' ',end=' ')\n",
    "        print()"
   ]
  },
  {
   "cell_type": "code",
   "execution_count": 3,
   "metadata": {},
   "outputs": [
    {
     "name": "stdout",
     "output_type": "stream",
     "text": [
      "1 2 3 4 5 6 \n",
      "7 8 9 10 11 12 \n",
      "13 14 15 16 17 18 \n",
      "19 20 21 22 23 24 \n",
      "25 26 27 28 29 30 \n",
      "31 32 33 34 35 36 \n"
     ]
    }
   ],
   "source": [
    "n=1\n",
    "for i in range(0,5+1):\n",
    "    for j in range(0,5+1):\n",
    "        print(n,end=\" \")\n",
    "        n+=1\n",
    "    print()"
   ]
  },
  {
   "cell_type": "code",
   "execution_count": 6,
   "metadata": {},
   "outputs": [
    {
     "name": "stdout",
     "output_type": "stream",
     "text": [
      "A B C D E \n",
      "F G H I J \n",
      "K L M N O \n",
      "P Q R S T \n",
      "U V W X Y \n"
     ]
    }
   ],
   "source": [
    "n=65\n",
    "for i in range(0,4+1):\n",
    "    for j in range(0,4+1):\n",
    "        s=chr(n)\n",
    "        print(s,end=' ')\n",
    "        n+=1\n",
    "    print()"
   ]
  },
  {
   "cell_type": "code",
   "execution_count": 11,
   "metadata": {},
   "outputs": [
    {
     "name": "stdout",
     "output_type": "stream",
     "text": [
      "1 2 3 4 5 \n",
      "2 3 4 5 \n",
      "3 4 5 \n",
      "4 5 \n",
      "5 \n"
     ]
    }
   ],
   "source": [
    "n=5\n",
    "for i in range(1,n+1):\n",
    "    for j in range(i,n+1):\n",
    "        print(j,end=' ')\n",
    "    print()"
   ]
  },
  {
   "cell_type": "code",
   "execution_count": 12,
   "metadata": {},
   "outputs": [
    {
     "name": "stdout",
     "output_type": "stream",
     "text": [
      "1 \n",
      "2 2 \n",
      "3 3 3 \n",
      "4 4 4 4 \n",
      "5 5 5 5 5 \n"
     ]
    }
   ],
   "source": [
    "n=5\n",
    "for i in range(1,n+1):\n",
    "    for j in range(1,i+1):\n",
    "        print(i,end=' ')\n",
    "    print()"
   ]
  },
  {
   "cell_type": "code",
   "execution_count": 13,
   "metadata": {},
   "outputs": [
    {
     "name": "stdout",
     "output_type": "stream",
     "text": [
      "1 \n",
      "1 2 \n",
      "1 2 3 \n",
      "1 2 3 4 \n",
      "1 2 3 4 5 \n"
     ]
    }
   ],
   "source": [
    "n=5\n",
    "for i in range(1,n+1):\n",
    "    for j in range(1,i+1):\n",
    "        print(j,end=' ')\n",
    "    print()"
   ]
  },
  {
   "cell_type": "code",
   "execution_count": 15,
   "metadata": {},
   "outputs": [
    {
     "name": "stdout",
     "output_type": "stream",
     "text": [
      "1 \n",
      "2 3 \n",
      "4 5 6 \n",
      "7 8 9 10 \n",
      "11 12 13 14 15 \n"
     ]
    }
   ],
   "source": [
    "n=5\n",
    "c=1\n",
    "for i in range(1,n+1):\n",
    "    for j in range(1,i+1):\n",
    "        print(c,end=' ')\n",
    "        c+=1\n",
    "    print()"
   ]
  },
  {
   "cell_type": "code",
   "execution_count": 16,
   "metadata": {},
   "outputs": [
    {
     "name": "stdout",
     "output_type": "stream",
     "text": [
      "  A B C D E F G   \n",
      "    H I J K L     \n",
      "      M N O       \n",
      "        P         \n",
      "                  \n"
     ]
    }
   ],
   "source": [
    "n=5\n",
    "m=65\n",
    "for i in range(1,n+1):\n",
    "    for j in range(1,n+1):\n",
    "        if i>=j:\n",
    "            print(\" \",end=' ')\n",
    "        else:\n",
    "            print(chr(m),end=' ')\n",
    "            m+=1\n",
    "    for j in range(2,n+1):\n",
    "        if i+j>=n+1:\n",
    "            print(' ',end=' ')\n",
    "        else:\n",
    "            print(chr(m),end=' ')\n",
    "            m+=1\n",
    "    print()"
   ]
  },
  {
   "cell_type": "code",
   "execution_count": 19,
   "metadata": {},
   "outputs": [
    {
     "name": "stdout",
     "output_type": "stream",
     "text": [
      "A B C D E F G H I \n",
      "  J K L M N O P   \n",
      "    Q R S T U     \n",
      "      V W X       \n",
      "        Y         \n"
     ]
    }
   ],
   "source": [
    "n=5\n",
    "m=65\n",
    "for i in range(1,n+1):\n",
    "    for j in range(1,n+1):\n",
    "        if i<=j:\n",
    "            print(chr(m),end=' ')\n",
    "            m+=1\n",
    "        else:\n",
    "            print(' ',end=' ')\n",
    "    for j in range(2,n+1):\n",
    "        if i+j<=n+1:\n",
    "            print(chr(m),end=' ')\n",
    "            m+=1\n",
    "        else:\n",
    "            print(' ',end=' ')\n",
    "    print()"
   ]
  },
  {
   "cell_type": "code",
   "execution_count": 17,
   "metadata": {},
   "outputs": [
    {
     "name": "stdout",
     "output_type": "stream",
     "text": [
      "                  \n",
      "A               B \n",
      "C D           E F \n",
      "G H I       J K L \n",
      "M N O P   Q R S T \n"
     ]
    }
   ],
   "source": [
    "n=5\n",
    "m=65\n",
    "for i in range(1,n+1):\n",
    "    for j in range(1,n+1):\n",
    "        if i<=j:\n",
    "            print(\" \",end=' ')\n",
    "        else:\n",
    "            print(chr(m),end=' ')\n",
    "            m+=1\n",
    "    for j in range(2,n+1):\n",
    "        if i+j<=n+1:\n",
    "            print(' ',end=' ')\n",
    "        else:\n",
    "            print(chr(m),end=' ')\n",
    "            m+=1\n",
    "    print()"
   ]
  },
  {
   "cell_type": "code",
   "execution_count": 20,
   "metadata": {},
   "outputs": [
    {
     "name": "stdout",
     "output_type": "stream",
     "text": [
      "        A         \n",
      "      B C D       \n",
      "    E F G H I     \n",
      "  J K L M N O P   \n",
      "Q R S T U V W X Y \n"
     ]
    }
   ],
   "source": [
    "n=5\n",
    "m=65\n",
    "for i in range(1,n+1):\n",
    "    for j in range(1,n+1):\n",
    "        if i+j>=n+1:\n",
    "            print(chr(m),end=' ')\n",
    "            m+=1\n",
    "        else:\n",
    "            print(' ',end=' ')\n",
    "    for j in range(2,n+1):\n",
    "        if i>=j:\n",
    "            print(chr(m),end=' ')\n",
    "            m+=1\n",
    "        else:\n",
    "            print(' ',end=' ')\n",
    "    print()"
   ]
  },
  {
   "cell_type": "code",
   "execution_count": 1,
   "metadata": {},
   "outputs": [
    {
     "name": "stdout",
     "output_type": "stream",
     "text": [
      "A B C D E \n",
      "F       G \n",
      "H   I   J \n",
      "K       L \n",
      "M N O P Q \n"
     ]
    }
   ],
   "source": [
    "n=65\n",
    "m=5\n",
    "for i in range(1,m+1):\n",
    "    for j in range(1,m+1):\n",
    "        if i==1 or i==m or j==1 or j==m or i==(m//2)+1 and j==(m//2)+1:\n",
    "            print(chr(n),end=' ')\n",
    "            n+=1\n",
    "        else:\n",
    "            print(' ',end=' ')\n",
    "    print()"
   ]
  },
  {
   "cell_type": "code",
   "execution_count": 14,
   "metadata": {},
   "outputs": [
    {
     "name": "stdout",
     "output_type": "stream",
     "text": [
      "A B C D E \n",
      "        F \n",
      "        G \n",
      "        H \n",
      "        I \n"
     ]
    }
   ],
   "source": [
    "n=65\n",
    "m=5\n",
    "for i in range(1,m+1):\n",
    "    for j in range(1,m+1):\n",
    "        if i==1:\n",
    "            print(chr(n),end=' ')\n",
    "            n+=1\n",
    "        elif j==5:\n",
    "            print(chr(n),end=' ')\n",
    "            n+=1\n",
    "        else:\n",
    "            print(' ',end=' ')\n",
    "    print()"
   ]
  }
 ],
 "metadata": {
  "kernelspec": {
   "display_name": "Python 3",
   "language": "python",
   "name": "python3"
  },
  "language_info": {
   "codemirror_mode": {
    "name": "ipython",
    "version": 3
   },
   "file_extension": ".py",
   "mimetype": "text/x-python",
   "name": "python",
   "nbconvert_exporter": "python",
   "pygments_lexer": "ipython3",
   "version": "3.11.3"
  },
  "orig_nbformat": 4
 },
 "nbformat": 4,
 "nbformat_minor": 2
}
