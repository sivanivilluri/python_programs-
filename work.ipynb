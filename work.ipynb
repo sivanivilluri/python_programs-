{
 "cells": [
  {
   "cell_type": "code",
   "execution_count": 11,
   "metadata": {},
   "outputs": [
    {
     "name": "stdout",
     "output_type": "stream",
     "text": [
      "['I', 'love', 'India', 'I', 'love', 'my', 'country']\n",
      "{'I': 2, 'love': 2, 'India': 1, 'my': 1, 'country': 1}\n"
     ]
    }
   ],
   "source": [
    "st=\"I love India I love my country\"\n",
    "d={}\n",
    "l1=[]\n",
    "l2=[]\n",
    "s=''\n",
    "f=[]\n",
    "for i in range(len(st)):\n",
    "    if st[i] not in ' ':\n",
    "        s+=st[i]\n",
    "    else:\n",
    "        l1+=[s]\n",
    "        s=''\n",
    "else:\n",
    "    l1+=[s]\n",
    "\n",
    "print(l1)\n",
    "for j in l1:\n",
    "    count=1\n",
    "    if j not in l2:\n",
    "        l2+=[j]\n",
    "    else:\n",
    "        count+=1\n",
    "    f+=[(j,count)]\n",
    "print(dict(f))\n"
   ]
  },
  {
   "cell_type": "code",
   "execution_count": 14,
   "metadata": {},
   "outputs": [],
   "source": [
    "class college:\n",
    "    coll_name='Stanley'\n",
    "    coll_code='1606'\n",
    "    s_no=0\n",
    "    d={}\n",
    "    coll_add='Hyd'\n",
    "    coll_strength=200\n",
    "    def __init__(self,name,branch,branchcode,contact,email,year):\n",
    "        self.name=name\n",
    "        self.branch=branch\n",
    "        self.branchcode=branchcode\n",
    "        self.contact=contact\n",
    "        self.email=email\n",
    "        self.year=year\n",
    "        self.generate_roll()\n",
    "        self.roll=college.coll_code+'-'+str(self.year)[2:]+'-'+str(self.branchcode)+str(college.s_no)\n",
    "        self.details(college,self.roll)\n",
    "\n",
    "    @classmethod\n",
    "    def generate_roll(cls):\n",
    "        cls.s_no+=1\n",
    "    \n",
    "    @classmethod\n",
    "    def details(cls,roll,obj_address):\n",
    "        cls.d[roll]=obj_address\n",
    "\n",
    "\n",
    "\n",
    "\n",
    "sivani=college('Sivani','ECE',73500,9848892888,'sivanivilluri@gmail.com',2019)\n",
    "\n"
   ]
  },
  {
   "cell_type": "code",
   "execution_count": 15,
   "metadata": {},
   "outputs": [
    {
     "data": {
      "text/plain": [
       "{'name': 'Sivani',\n",
       " 'branch': 'ECE',\n",
       " 'branchcode': 73500,\n",
       " 'contact': 9848892888,\n",
       " 'email': 'sivanivilluri@gmail.com',\n",
       " 'year': 2019,\n",
       " 'roll': '1606-19-735001'}"
      ]
     },
     "execution_count": 15,
     "metadata": {},
     "output_type": "execute_result"
    }
   ],
   "source": [
    "sivani.__dict__"
   ]
  },
  {
   "cell_type": "code",
   "execution_count": 16,
   "metadata": {},
   "outputs": [
    {
     "data": {
      "text/plain": [
       "<bound method college.details of <class '__main__.college'>>"
      ]
     },
     "execution_count": 16,
     "metadata": {},
     "output_type": "execute_result"
    }
   ],
   "source": [
    "college.details"
   ]
  },
  {
   "cell_type": "code",
   "execution_count": 10,
   "metadata": {},
   "outputs": [
    {
     "name": "stdout",
     "output_type": "stream",
     "text": [
      "[1, 2, 3, 5, 7]\n"
     ]
    }
   ],
   "source": [
    "def prime(n):\n",
    "    for i in range(2,n):\n",
    "        if n%i==0:\n",
    "            return 0\n",
    "    return 1\n",
    "res=[i for i in range(1,10) if prime(i)]\n",
    "print(res)"
   ]
  },
  {
   "cell_type": "code",
   "execution_count": 7,
   "metadata": {},
   "outputs": [
    {
     "name": "stdout",
     "output_type": "stream",
     "text": [
      "['Seetha', 'Krishna']\n"
     ]
    }
   ],
   "source": [
    "d={101:'Ram',102:'Seetha',103:'Krishna',104:'Radha'}\n",
    "l=[]\n",
    "for i in d:\n",
    "    if len(d[i])>5:\n",
    "        l+=[d[i]]\n",
    "print(l)"
   ]
  },
  {
   "cell_type": "code",
   "execution_count": 12,
   "metadata": {},
   "outputs": [
    {
     "name": "stdout",
     "output_type": "stream",
     "text": [
      "['e', 'e', 'a', 'i', 'a']\n"
     ]
    }
   ],
   "source": [
    "d={101:'Ram',102:'Seetha',103:'Krishna',104:'Radha'}\n",
    "res=[j for i in d if len(d[i])>5 for j in d[i] if j in 'AEIOUaeiou']\n",
    "print(res)"
   ]
  },
  {
   "cell_type": "code",
   "execution_count": 14,
   "metadata": {},
   "outputs": [
    {
     "name": "stdout",
     "output_type": "stream",
     "text": [
      "['S', 't', 'h', 'K', 'r', 's', 'h', 'n']\n"
     ]
    }
   ],
   "source": [
    "d={101:'Ram',102:'Seetha',103:'Krishna',104:'Radha'}\n",
    "res=[j for i in d if len(d[i])>5 for j in d[i] if j not in 'AEIOUaeiou']\n",
    "print(res)"
   ]
  },
  {
   "cell_type": "code",
   "execution_count": 15,
   "metadata": {},
   "outputs": [
    {
     "name": "stdout",
     "output_type": "stream",
     "text": [
      "['Ram', 'Radha']\n"
     ]
    }
   ],
   "source": [
    "d={101:'Ram',102:'Seetha',103:'Krishna',104:'Radha'}\n",
    "l=[]\n",
    "for i in d:\n",
    "    if len(d[i])<=5:\n",
    "        l+=[d[i]]\n",
    "print(l)"
   ]
  },
  {
   "cell_type": "code",
   "execution_count": 16,
   "metadata": {},
   "outputs": [
    {
     "name": "stdout",
     "output_type": "stream",
     "text": [
      "['R', 'm', 'R', 'd', 'h']\n"
     ]
    }
   ],
   "source": [
    "d={101:'Ram',102:'Seetha',103:'Krishna',104:'Radha'}\n",
    "res=[j for i in d if len(d[i])<=5 for j in d[i] if j not in 'AEIOUaeiou']\n",
    "print(res)"
   ]
  },
  {
   "cell_type": "code",
   "execution_count": 1,
   "metadata": {},
   "outputs": [
    {
     "name": "stdout",
     "output_type": "stream",
     "text": [
      "['a', 'a', 'a']\n"
     ]
    }
   ],
   "source": [
    "d={101:'Ram',102:'Seetha',103:'Krishna',104:'Radha'}\n",
    "res=[j for i in d if len(d[i])<=5 for j in d[i] if j in 'AEIOUaeiou']\n",
    "print(res)"
   ]
  },
  {
   "cell_type": "code",
   "execution_count": 62,
   "metadata": {},
   "outputs": [
    {
     "name": "stdout",
     "output_type": "stream",
     "text": [
      "1234567890\n",
      "5686167819\n",
      "7894561238\n"
     ]
    }
   ],
   "source": [
    "st=\"@s1234567890#AB5686167819sdfghjkl7894561238u2kml9o0p;'147895623-p0lkuyhj\"\n",
    "k=\"\"\n",
    "s=[]\n",
    "for i in st:\n",
    "    if '0'<=i<='9':\n",
    "        k+=i\n",
    "    else:\n",
    "        if len(k)==10:\n",
    "            print(k)\n",
    "            k=\"\"\n",
    "else:\n",
    "    if len(k)==10:\n",
    "        print(k)"
   ]
  },
  {
   "cell_type": "code",
   "execution_count": 61,
   "metadata": {},
   "outputs": [
    {
     "name": "stdout",
     "output_type": "stream",
     "text": [
      "1234567890\n",
      "5686167819\n",
      "7894561238\n",
      "7888956478\n"
     ]
    }
   ],
   "source": [
    "st=\"@s1234567890#AB5686167819sdfghjkl7894561238u2kml9o0p;'147895623-p0lkuyhj   7888956478 \"\n",
    "k=\"\"\n",
    "s=[]\n",
    "for i in range(0,len(st)):\n",
    "    if '0'<=st[i]<='9':\n",
    "        k+=st[i]\n",
    "    else:\n",
    "        if len(k)==10:\n",
    "            print(k)\n",
    "        k=\"\"\n",
    "    if len(st)-1==i:\n",
    "        if len(k)==10:\n",
    "            print(k)"
   ]
  }
 ],
 "metadata": {
  "kernelspec": {
   "display_name": "Python 3",
   "language": "python",
   "name": "python3"
  },
  "language_info": {
   "codemirror_mode": {
    "name": "ipython",
    "version": 3
   },
   "file_extension": ".py",
   "mimetype": "text/x-python",
   "name": "python",
   "nbconvert_exporter": "python",
   "pygments_lexer": "ipython3",
   "version": "3.11.3"
  },
  "orig_nbformat": 4
 },
 "nbformat": 4,
 "nbformat_minor": 2
}
